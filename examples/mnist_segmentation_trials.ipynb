{
 "cells": [
  {
   "cell_type": "code",
   "execution_count": 1,
   "metadata": {},
   "outputs": [],
   "source": [
    "import os.path as osp\n",
    "import sys, os\n",
    "sys.path.insert(0, '..')\n",
    "import time\n",
    "\n",
    "\n",
    "import numpy as np\n",
    "import matplotlib.pyplot as plt\n",
    "import torch\n",
    "import torch.nn as nn\n",
    "import torch.nn.functional as F\n",
    "# from torch_geometric.datasets import MNISTSuperpixels\n",
    "# import torch_geometric.transforms as T\n",
    "# from torch_geometric.data import DataLoader\n",
    "# from torch_geometric.utils import normalized_cut\n",
    "# from torch_geometric.nn import (NNConv, graclus, max_pool, max_pool_x,\n",
    "#                                 global_mean_pool)\n",
    "__file__ = osp.abspath('')\n",
    "\n",
    "\n",
    "#####\n",
    "# aux libs\n",
    "from skimage import color\n",
    "\n",
    "from lib.segmentation import extract_features_fixed\n",
    "# from lib.segmentation import slic_fixed\n",
    "from lib.segmentation import quickshift_fixed\n",
    "from lib.pipeline import preprocess_pipeline_fixed\n",
    "from tqdm import tqdm"
   ]
  },
  {
   "cell_type": "markdown",
   "metadata": {},
   "source": [
    "# Reading the M2NIST dataset"
   ]
  },
  {
   "cell_type": "code",
   "execution_count": 2,
   "metadata": {},
   "outputs": [],
   "source": [
    "segmented = np.load(\"../data/M2NIST/segmented.npy\")\n",
    "_, HEIGHT, WIDTH, N_CLASSES = segmented.shape\n",
    "mask = 1-segmented[:,:,:,-1]\n",
    "combined = np.load(\"../data/M2NIST/combined.npy\").reshape((-1, HEIGHT, WIDTH, 1))/255"
   ]
  },
  {
   "cell_type": "code",
   "execution_count": 3,
   "metadata": {},
   "outputs": [
    {
     "data": {
      "image/png": "[encoded data removed]",
      "text/plain": [
       "<Figure size 432x288 with 11 Axes>"
      ]
     },
     "metadata": {
      "needs_background": "light"
     },
     "output_type": "display_data"
    },
    {
     "data": {
      "image/png": "[encoded data removed]",
      "text/plain": [
       "<Figure size 432x288 with 11 Axes>"
      ]
     },
     "metadata": {
      "needs_background": "light"
     },
     "output_type": "display_data"
    }
   ],
   "source": [
    "for i in range(2):\n",
    "    plt.figure()\n",
    "    image = segmented[i]\n",
    "    for ii in range(0,11):\n",
    "        plt.subplot(3,4,ii+1)\n",
    "        plt.imshow(image[:,:,ii])"
   ]
  },
  {
   "cell_type": "code",
   "execution_count": 4,
   "metadata": {},
   "outputs": [
    {
     "name": "stdout",
     "output_type": "stream",
     "text": [
      "<class 'numpy.ndarray'> (5000, 64, 84, 1)\n"
     ]
    },
    {
     "data": {
      "text/plain": [
       "<matplotlib.image.AxesImage at 0x1cc17cfc88>"
      ]
     },
     "execution_count": 4,
     "metadata": {},
     "output_type": "execute_result"
    },
    {
     "data": {
      "image/png": "[encoded data removed]",
      "text/plain": [
       "<Figure size 432x288 with 1 Axes>"
      ]
     },
     "metadata": {
      "needs_background": "light"
     },
     "output_type": "display_data"
    }
   ],
   "source": [
    "print(type(combined),combined.shape)\n",
    "plt.imshow(combined[0][:,:,0])"
   ]
  },
  {
   "cell_type": "code",
   "execution_count": 5,
   "metadata": {},
   "outputs": [
    {
     "name": "stdout",
     "output_type": "stream",
     "text": [
      "(5000, 64, 84)\n"
     ]
    },
    {
     "data": {
      "text/plain": [
       "<matplotlib.image.AxesImage at 0x1cc16fb160>"
      ]
     },
     "execution_count": 5,
     "metadata": {},
     "output_type": "execute_result"
    },
    {
     "data": {
      "image/png": "[encoded data removed]",
      "text/plain": [
       "<Figure size 432x288 with 1 Axes>"
      ]
     },
     "metadata": {
      "needs_background": "light"
     },
     "output_type": "display_data"
    }
   ],
   "source": [
    "print(mask.shape)\n",
    "plt.imshow(mask[0])"
   ]
  },
  {
   "cell_type": "markdown",
   "metadata": {},
   "source": [
    "# Reading the monet dataset"
   ]
  },
  {
   "cell_type": "code",
   "execution_count": 6,
   "metadata": {},
   "outputs": [
    {
     "ename": "NameError",
     "evalue": "name 'MNISTSuperpixels' is not defined",
     "output_type": "error",
     "traceback": [
      "\u001b[0;31m---------------------------------------------------------------------------\u001b[0m",
      "\u001b[0;31mNameError\u001b[0m                                 Traceback (most recent call last)",
      "\u001b[0;32m~/th/gcn_segmentation/examples\u001b[0m in \u001b[0;36m<module>\u001b[0;34m\u001b[0m\n\u001b[1;32m      1\u001b[0m \u001b[0mpath\u001b[0m \u001b[0;34m=\u001b[0m \u001b[0mosp\u001b[0m\u001b[0;34m.\u001b[0m\u001b[0mjoin\u001b[0m\u001b[0;34m(\u001b[0m\u001b[0mosp\u001b[0m\u001b[0;34m.\u001b[0m\u001b[0mdirname\u001b[0m\u001b[0;34m(\u001b[0m\u001b[0mosp\u001b[0m\u001b[0;34m.\u001b[0m\u001b[0mrealpath\u001b[0m\u001b[0;34m(\u001b[0m\u001b[0m__file__\u001b[0m\u001b[0;34m)\u001b[0m\u001b[0;34m)\u001b[0m\u001b[0;34m,\u001b[0m \u001b[0;34m'..'\u001b[0m\u001b[0;34m,\u001b[0m \u001b[0;34m'data'\u001b[0m\u001b[0;34m,\u001b[0m \u001b[0;34m'MNIST'\u001b[0m\u001b[0;34m)\u001b[0m\u001b[0;34m\u001b[0m\u001b[0;34m\u001b[0m\u001b[0m\n\u001b[0;32m----> 2\u001b[0;31m \u001b[0mtrain_dataset\u001b[0m \u001b[0;34m=\u001b[0m \u001b[0mMNISTSuperpixels\u001b[0m\u001b[0;34m(\u001b[0m\u001b[0mpath\u001b[0m\u001b[0;34m,\u001b[0m \u001b[0;32mTrue\u001b[0m\u001b[0;34m,\u001b[0m \u001b[0mtransform\u001b[0m\u001b[0;34m=\u001b[0m\u001b[0;32mNone\u001b[0m\u001b[0;34m)\u001b[0m\u001b[0;34m\u001b[0m\u001b[0;34m\u001b[0m\u001b[0m\n\u001b[0m\u001b[1;32m      3\u001b[0m \u001b[0mtest_dataset\u001b[0m \u001b[0;34m=\u001b[0m \u001b[0mMNISTSuperpixels\u001b[0m\u001b[0;34m(\u001b[0m\u001b[0mpath\u001b[0m\u001b[0;34m,\u001b[0m \u001b[0;32mFalse\u001b[0m\u001b[0;34m,\u001b[0m \u001b[0mtransform\u001b[0m\u001b[0;34m=\u001b[0m\u001b[0mT\u001b[0m\u001b[0;34m.\u001b[0m\u001b[0mCartesian\u001b[0m\u001b[0;34m(\u001b[0m\u001b[0;34m)\u001b[0m\u001b[0;34m)\u001b[0m\u001b[0;34m\u001b[0m\u001b[0;34m\u001b[0m\u001b[0m\n\u001b[1;32m      4\u001b[0m \u001b[0mtrain_loader\u001b[0m \u001b[0;34m=\u001b[0m \u001b[0mDataLoader\u001b[0m\u001b[0;34m(\u001b[0m\u001b[0mtrain_dataset\u001b[0m\u001b[0;34m,\u001b[0m \u001b[0mbatch_size\u001b[0m\u001b[0;34m=\u001b[0m\u001b[0;36m64\u001b[0m\u001b[0;34m,\u001b[0m \u001b[0mshuffle\u001b[0m\u001b[0;34m=\u001b[0m\u001b[0;32mTrue\u001b[0m\u001b[0;34m)\u001b[0m\u001b[0;34m\u001b[0m\u001b[0;34m\u001b[0m\u001b[0m\n\u001b[1;32m      5\u001b[0m \u001b[0mtest_loader\u001b[0m \u001b[0;34m=\u001b[0m \u001b[0mDataLoader\u001b[0m\u001b[0;34m(\u001b[0m\u001b[0mtest_dataset\u001b[0m\u001b[0;34m,\u001b[0m \u001b[0mbatch_size\u001b[0m\u001b[0;34m=\u001b[0m\u001b[0;36m64\u001b[0m\u001b[0;34m,\u001b[0m \u001b[0mshuffle\u001b[0m\u001b[0;34m=\u001b[0m\u001b[0;32mFalse\u001b[0m\u001b[0;34m)\u001b[0m\u001b[0;34m\u001b[0m\u001b[0;34m\u001b[0m\u001b[0m\n",
      "\u001b[0;31mNameError\u001b[0m: name 'MNISTSuperpixels' is not defined"
     ]
    }
   ],
   "source": [
    "path = osp.join(osp.dirname(osp.realpath(__file__)), '..', 'data', 'MNIST')\n",
    "train_dataset = MNISTSuperpixels(path, True, transform=None)\n",
    "test_dataset = MNISTSuperpixels(path, False, transform=T.Cartesian())\n",
    "train_loader = DataLoader(train_dataset, batch_size=64, shuffle=True)\n",
    "test_loader = DataLoader(test_dataset, batch_size=64, shuffle=False)\n",
    "d = train_dataset"
   ]
  },
  {
   "cell_type": "code",
   "execution_count": null,
   "metadata": {},
   "outputs": [],
   "source": [
    "print(d[0].x)\n",
    "# for v in zip(d[0].pos,d[0].x):\n",
    "#     print(v)"
   ]
  },
  {
   "cell_type": "code",
   "execution_count": null,
   "metadata": {},
   "outputs": [],
   "source": [
    "print(d[0])\n",
    "pos_x = d[0].pos[:,0].numpy()\n",
    "pos_y = d[0].pos[:,1].numpy()\n",
    "coo_matrix = d[0].edge_index \n",
    "\n",
    "for i in range(d[0].num_edges):\n",
    "    ii, jj = coo_matrix[0,i], coo_matrix[1,i]\n",
    "    plt.plot([pos_x[ii],pos_x[jj]],[pos_y[ii],pos_y[jj]],'k-',alpha=0.1)\n",
    "plt.plot(pos_x, pos_y, 'ro')\n"
   ]
  },
  {
   "cell_type": "markdown",
   "metadata": {},
   "source": [
    "The dataset is composed from the tensors stored as: \n",
    "* x:N x 75 nodes\n",
    "* y: N x 1 labels\n",
    "* edge_index: 2 x 83 Mio... 2 COO elements concatenated \n",
    "* edege_slice: 1 x N+1... start and end of the slices\n",
    "* pos: N x 75 x 2 ... polar coordinates of the position of the 75 nodes in the image\n",
    "\n"
   ]
  },
  {
   "cell_type": "markdown",
   "metadata": {},
   "source": [
    "# Patch Generator"
   ]
  },
  {
   "cell_type": "code",
   "execution_count": 10,
   "metadata": {},
   "outputs": [],
   "source": [
    "class PatchGen(object):\n",
    "    def __init__(self,patch_size=21):\n",
    "#         assert(patch_size%2==1)\n",
    "        self.patch_size = patch_size\n",
    "                 \n",
    "    def transform(self,im,padding=2):\n",
    "        p = self.patch_size\n",
    "        padding = p//2\n",
    "        im_pad = np.pad(im,((padding,padding),(padding,padding),(0,0)),mode='constant')\n",
    "        m,n = im.shape[0], im.shape[1]\n",
    "        patches = []\n",
    "        for i,j in zip(range(n),range(m)):\n",
    "            patch = im_pad[i:i+p,j:j+p,:]\n",
    "            patches.append(patch)\n",
    "#             patch = im_pad[i:i+p,j:j+p,:]\n",
    "#             patches.append(np.expand_dims(patch,axis=-1))\n",
    "        return patches\n"
   ]
  },
  {
   "cell_type": "code",
   "execution_count": 11,
   "metadata": {},
   "outputs": [],
   "source": [
    "padgen = PatchGen()\n",
    "u = combined[10]\n"
   ]
  },
  {
   "cell_type": "code",
   "execution_count": 12,
   "metadata": {
    "scrolled": false
   },
   "outputs": [
    {
     "data": {
      "text/plain": [
       "<matplotlib.image.AxesImage at 0x7ff22942d940>"
      ]
     },
     "execution_count": 12,
     "metadata": {},
     "output_type": "execute_result"
    },
    {
     "data": {
      "image/png": "[encoded data removed]",
      "text/plain": [
       "<Figure size 432x288 with 1 Axes>"
      ]
     },
     "metadata": {
      "needs_background": "light"
     },
     "output_type": "display_data"
    },
    {
     "data": {
      "image/png": "[encoded data removed]",
      "text/plain": [
       "<Figure size 432x288 with 1 Axes>"
      ]
     },
     "metadata": {
      "needs_background": "light"
     },
     "output_type": "display_data"
    }
   ],
   "source": [
    "w = padgen.transform(u)\n",
    "plt.figure()\n",
    "plt.imshow(u[:,:,0])\n",
    "plt.figure()\n",
    "plt.imshow(w[10].squeeze())\n",
    "\n",
    "# for ww in w[0:20]:\n",
    "#     plt.figure()\n",
    "#     plt.imshow(ww.squeeze())\n",
    "#     plt.show()"
   ]
  },
  {
   "cell_type": "markdown",
   "metadata": {},
   "source": [
    "# Graph generator"
   ]
  },
  {
   "cell_type": "code",
   "execution_count": 13,
   "metadata": {},
   "outputs": [],
   "source": [
    "# auxiliary functions\n",
    "from skimage import segmentation as segment, draw\n",
    "from skimage.measure import regionprops\n",
    "from skimage.future import graph\n",
    "\n",
    "def _scale(image, scale=8):\n",
    "    if scale == 1:\n",
    "        return image\n",
    "    else:\n",
    "        image = np.repeat(image, scale, axis=0)\n",
    "        image = np.repeat(image, scale, axis=1)\n",
    "        return image\n",
    "    \n",
    "    \n",
    "def _segment_with_mean(image, segmentation):\n",
    "    mean_image = np.zeros_like(image)\n",
    "    props = regionprops(segmentation + 1)\n",
    "    \n",
    "    for i, prop in enumerate(props):\n",
    "        min_row, min_col, max_row, max_col = prop['bbox']\n",
    "        sliced_image = image[min_row:max_row, min_col:max_col]\n",
    "        color = sliced_image[prop['image']].mean(axis=0)\n",
    "        \n",
    "        for row, col in prop['coords']:\n",
    "            mean_image[row, col] = color\n",
    "        \n",
    "    return mean_image\n",
    "\n",
    "\n",
    "def draw_rag(image, segmentation):\n",
    "    rag = graph.rag_mean_color(image, segmentation)    \n",
    "    offset = 1\n",
    "    map_array = np.arange(segmentation.max() + 1)\n",
    "    for n, d in rag.nodes(data=True):\n",
    "        for label in d['labels']:\n",
    "            map_array[label] = offset\n",
    "        offset += 1\n",
    "\n",
    "    rag_labels = map_array[segmentation]\n",
    "    regions = regionprops(rag_labels)\n",
    "    for (n, data), region in zip(rag.nodes(data=True), regions):\n",
    "        data['centroid'] = region['centroid']\n",
    "    \n",
    "    out = image.copy()\n",
    "    \n",
    "    for n1, n2, data in rag.edges(data=True):\n",
    "        r1, c1 = map(int, rag.node[n1]['centroid'])\n",
    "        r2, c2 = map(int, rag.node[n2]['centroid'])\n",
    "        line = draw.line(r1, c1, r2, c2)\n",
    "        out[line] = [1, 0, 0]\n",
    "        \n",
    "    for n, d in rag.nodes(data=True):\n",
    "        r, c = map(int, rag.node[n]['centroid'])\n",
    "        if r > 1 and c > 1 and r < image.shape[0] - 1 and c < image.shape[1] - 1:\n",
    "            circle = draw.circle(r, c, 2)\n",
    "            out[circle] = [0, 1, 0]\n",
    "        \n",
    "    return out\n",
    "\n",
    "\n",
    "def showcase_image_segmentation(image, segmentation, duration, scale=8):  \n",
    "    print('Execution time: {:.5f}s'.format(duration))\n",
    "    print('Number of segments:', np.unique(segmentation).shape[0])\n",
    "    \n",
    "    image = _scale(image, scale)\n",
    "    segmentation = _scale(segmentation, scale)\n",
    "    \n",
    "    fig = plt.figure()\n",
    "    fig.add_subplot(221)\n",
    "    plt.xticks([])\n",
    "    plt.yticks([])\n",
    "    plt.imshow(image)\n",
    "    fig.add_subplot(222)\n",
    "    plt.xticks([])\n",
    "    plt.yticks([])\n",
    "    plt.imshow(segment.mark_boundaries(image, segmentation, (1, 0, 0)))\n",
    "    fig.add_subplot(223)\n",
    "    plt.xticks([])\n",
    "    plt.yticks([])\n",
    "    plt.imshow(_segment_with_mean(image, segmentation))\n",
    "    fig.add_subplot(224)\n",
    "    plt.xticks([])\n",
    "    plt.yticks([])\n",
    "    plt.imshow(draw_rag(image, segmentation))\n",
    "    \n",
    "    plt.show()"
   ]
  },
  {
   "cell_type": "code",
   "execution_count": 14,
   "metadata": {},
   "outputs": [],
   "source": [
    "from skimage.segmentation import slic, quickshift"
   ]
  },
  {
   "cell_type": "code",
   "execution_count": 15,
   "metadata": {},
   "outputs": [
    {
     "data": {
      "text/plain": [
       "(21, 21, 3)"
      ]
     },
     "execution_count": 15,
     "metadata": {},
     "output_type": "execute_result"
    }
   ],
   "source": [
    "image_test = w[10].squeeze()#combined[0][:,:,0]\n",
    "image_test = color.gray2rgb(image_test)\n",
    "image_test.shape\n",
    "# image_test = color.gray2rgb(np.reshape(image_test, (28, 28)))"
   ]
  },
  {
   "cell_type": "markdown",
   "metadata": {},
   "source": [
    "## RAG generation of the m2nist with the slic algorithm"
   ]
  },
  {
   "cell_type": "code",
   "execution_count": 16,
   "metadata": {},
   "outputs": [
    {
     "name": "stdout",
     "output_type": "stream",
     "text": [
      "Execution time: 0.00754s\n",
      "Number of segments: 75\n"
     ]
    },
    {
     "data": {
      "image/png": "[encoded data removed]",
      "text/plain": [
       "<Figure size 720x720 with 4 Axes>"
      ]
     },
     "metadata": {},
     "output_type": "display_data"
    }
   ],
   "source": [
    "t_start = time.process_time()\n",
    "\n",
    "segmentation = slic(image_test, n_segments=75, compactness=5, max_iter=100, sigma=0)\n",
    "duration = time.process_time() - t_start\n",
    "\n",
    "plt.rcParams['figure.figsize'] = (10, 10)\n",
    "showcase_image_segmentation(image_test, segmentation, duration)"
   ]
  },
  {
   "cell_type": "code",
   "execution_count": 17,
   "metadata": {},
   "outputs": [
    {
     "data": {
      "text/plain": [
       "(21, 21)"
      ]
     },
     "execution_count": 17,
     "metadata": {},
     "output_type": "execute_result"
    }
   ],
   "source": [
    "segmentation.shape"
   ]
  },
  {
   "cell_type": "markdown",
   "metadata": {},
   "source": [
    "## RAG generation of the m2nist with the quickshift  algorithm"
   ]
  },
  {
   "cell_type": "code",
   "execution_count": 18,
   "metadata": {},
   "outputs": [
    {
     "name": "stdout",
     "output_type": "stream",
     "text": [
      "Execution time: 0.00445s\n",
      "Number of segments: 59\n"
     ]
    },
    {
     "data": {
      "image/png": "[encoded data removed]",
      "text/plain": [
       "<Figure size 720x720 with 4 Axes>"
      ]
     },
     "metadata": {},
     "output_type": "display_data"
    }
   ],
   "source": [
    "t_start = time.process_time()\n",
    "segmentation = quickshift(image_test, ratio=1, kernel_size=2, max_dist=2, sigma=0)\n",
    "duration = time.process_time() - t_start\n",
    "\n",
    "plt.rcParams['figure.figsize'] = (10, 10)\n",
    "showcase_image_segmentation(image_test, segmentation, duration)"
   ]
  },
  {
   "cell_type": "markdown",
   "metadata": {},
   "source": [
    "## creating the ghaphs"
   ]
  },
  {
   "cell_type": "code",
   "execution_count": 19,
   "metadata": {},
   "outputs": [],
   "source": [
    "# constants\n",
    "# QUICKSHIFT_FEATURES = [4, 6, 7, 8, 24, 28, 29, 31, 37]\n",
    "# FORM_FEATURES = QUICKSHIFT_FEATURES\n",
    "\n",
    "# LEVELS = 4\n",
    "# CONNECTIVITY = 8\n",
    "# SCALE_INVARIANCE = False\n",
    "# STDDEV = 1\n",
    "# segmentation_algorithm = quickshift_fixed(ratio=1, kernel_size=2, max_dist=2, sigma=0)\n",
    "\n",
    "padgen = PatchGen()\n",
    "segmentation_algorithm = lambda x: slic(x, n_segments=75, max_iter=50)\n",
    "def graph_maker(image, labels):\n",
    "    def _weight_mean_color(graph, src, dst, n):\n",
    "        \"\"\"Callback to handle merging nodes by recomputing mean color.\n",
    "\n",
    "        The method expects that the mean color of `dst` is already computed.\n",
    "\n",
    "        Parameters\n",
    "        ----------\n",
    "        graph : RAG\n",
    "            The graph under consideration.\n",
    "        src, dst : int\n",
    "            The vertices in `graph` to be merged.\n",
    "        n : int\n",
    "            A neighbor of `src` or `dst` or both.\n",
    "\n",
    "        Returns\n",
    "        -------\n",
    "        data : dict\n",
    "            A dictionary with the `\"weight\"` attribute set as the absolute\n",
    "            difference of the mean color between node `dst` and `n`.\n",
    "        \"\"\"\n",
    "\n",
    "        diff = graph.node[dst]['mean color'] - graph.node[n]['mean color']\n",
    "        diff = np.linalg.norm(diff)\n",
    "        return {'weight': diff}\n",
    "\n",
    "\n",
    "    def merge_mean_color(graph, src, dst):\n",
    "        \"\"\"Callback called before merging two nodes of a mean color distance graph.\n",
    "\n",
    "        This method computes the mean color of `dst`.\n",
    "\n",
    "        Parameters\n",
    "        ----------\n",
    "        graph : RAG\n",
    "            The graph under consideration.\n",
    "        src, dst : int\n",
    "            The vertices in `graph` to be merged.\n",
    "        \"\"\"\n",
    "        graph.node[dst]['total color'] += graph.node[src]['total color']\n",
    "        graph.node[dst]['pixel count'] += graph.node[src]['pixel count']\n",
    "        graph.node[dst]['mean color'] = (graph.node[dst]['total color'] /\n",
    "                                         graph.node[dst]['pixel count'])\n",
    "\n",
    "    g = graph.rag_mean_color(image,labels)\n",
    "    \n",
    "    offset = 1\n",
    "    # create a map array\n",
    "    map_array = np.arange(labels.max() + 1)\n",
    "    for n, d in g.nodes(data=True):\n",
    "        for label in d['labels']:\n",
    "            map_array[label] = offset\n",
    "        offset += 1\n",
    "        \n",
    "    # compute centroids to the nodes\n",
    "    g_labels = map_array[labels]\n",
    "    regions = regionprops(g_labels)\n",
    "    for (n, data), region in zip(g.nodes(data=True), regions):\n",
    "        data['centroid'] = region['centroid']\n",
    "        \n",
    "    while g.number_of_nodes()>75:    \n",
    "        edges=sorted(g.edges(data=True), key=lambda t: t[2].get('weight', 1))\n",
    "        src, dst = edges[0][0], edges[0][1]\n",
    "        merge_mean_color(g, src, dst)\n",
    "        g.merge_nodes(src, dst, weight_func=_weight_mean_color)\n",
    "    return g"
   ]
  },
  {
   "cell_type": "code",
   "execution_count": 20,
   "metadata": {
    "scrolled": false
   },
   "outputs": [
    {
     "name": "stdout",
     "output_type": "stream",
     "text": [
      "E: 229 V: 75\n"
     ]
    }
   ],
   "source": [
    "segmentation = segmentation_algorithm(image_test)\n",
    "# rag = graph.rag_mean_color(image_test, segmentation,mode='distance')\n",
    "rag = graph_maker(image_test, segmentation)\n",
    "print('E:',rag.number_of_edges(), 'V:', rag.number_of_nodes())"
   ]
  },
  {
   "cell_type": "code",
   "execution_count": 21,
   "metadata": {
    "scrolled": true
   },
   "outputs": [],
   "source": [
    "# rag.nodes(data=True)"
   ]
  },
  {
   "cell_type": "code",
   "execution_count": 22,
   "metadata": {},
   "outputs": [
    {
     "name": "stdout",
     "output_type": "stream",
     "text": [
      "torch.Size([229, 2])\n"
     ]
    }
   ],
   "source": [
    "edge_index = torch.tensor([[e[0],e[1]] for e in rag.edges])\n",
    "print(edge_index.size())\n",
    "# for e in rag.edges:\n",
    "#     v1, v2 = e[0], e[1]\n",
    "#     print('v1', v1, 'v2', v2)"
   ]
  },
  {
   "cell_type": "code",
   "execution_count": 23,
   "metadata": {},
   "outputs": [
    {
     "data": {
      "text/plain": [
       "{}"
      ]
     },
     "execution_count": 23,
     "metadata": {},
     "output_type": "execute_result"
    }
   ],
   "source": [
    "rag.graph"
   ]
  },
  {
   "cell_type": "code",
   "execution_count": null,
   "metadata": {
    "scrolled": false
   },
   "outputs": [
    {
     "name": "stderr",
     "output_type": "stream",
     "text": [
      " 69%|██████▊   | 3437/5000 [2:33:42<2:06:13,  4.85s/it]"
     ]
    }
   ],
   "source": [
    "N = combined.shape[0]\n",
    "x = []\n",
    "y = []\n",
    "pos = []\n",
    "edge_index = []\n",
    "edge_slice = [0]\n",
    "for i in tqdm(range(N)):\n",
    "    w = padgen.transform(combined[i])\n",
    "    m = padgen.transform(np.expand_dims(mask[i],axis=2))\n",
    "    s = [segmentation_algorithm(ww.squeeze()) for ww in w]\n",
    "    g = [graph_maker(ww.squeeze(), ss) for ww, ss in zip(w,s)]\n",
    "    for mm, gg in zip(m,g):\n",
    "        node_pos = list(map(lambda n: n[1]['centroid'], gg.nodes(data=True)))\n",
    "        node_values = list(map(lambda n: n[1]['mean color'][0], gg.nodes(data=True)))\n",
    "        x.append(node_values)\n",
    "        pos.append(node_pos)\n",
    "        edge_index +=[[e[0],e[1]] for e in gg.edges]\n",
    "        last_slice = edge_slice[-1]\n",
    "        edge_slice += [last_slice+gg.number_of_edges()]\n",
    "        y.append(mm[mm.shape[0]//2+1,mm.shape[1]//2+1,0])\n"
   ]
  },
  {
   "cell_type": "code",
   "execution_count": 24,
   "metadata": {},
   "outputs": [],
   "source": [
    "# x, edge_index, edge_slice, pos, y = torch.load('../data/MNIST/raw/training.pt')\n",
    "# edge_index[1][0]"
   ]
  },
  {
   "cell_type": "code",
   "execution_count": 25,
   "metadata": {},
   "outputs": [],
   "source": [
    "data = (torch.tensor(x),\n",
    "        torch.tensor(edge_index).t(),\n",
    "        torch.tensor(edge_slice),\n",
    "        torch.tensor(pos),\n",
    "        torch.tensor(y))\n",
    "torch.save(data, '../data/M2NIST/data1.pt')"
   ]
  },
  {
   "cell_type": "code",
   "execution_count": null,
   "metadata": {},
   "outputs": [],
   "source": [
    "# x, edge_index, edge_slice, pos, y = torch.load('../data/M2NIST/data.pt')\n"
   ]
  },
  {
   "cell_type": "code",
   "execution_count": null,
   "metadata": {},
   "outputs": [],
   "source": [
    "torch.tensor(x).size()"
   ]
  },
  {
   "cell_type": "code",
   "execution_count": null,
   "metadata": {},
   "outputs": [],
   "source": [
    "mask[0,:,:].shape\n",
    "www = np.expand_dims(mask[i],axis=2)"
   ]
  },
  {
   "cell_type": "code",
   "execution_count": null,
   "metadata": {},
   "outputs": [],
   "source": [
    "www.shape"
   ]
  },
  {
   "cell_type": "code",
   "execution_count": 36,
   "metadata": {},
   "outputs": [
    {
     "data": {
      "text/plain": [
       "64"
      ]
     },
     "execution_count": 36,
     "metadata": {},
     "output_type": "execute_result"
    }
   ],
   "source": [
    "len(w\n",
    "   )"
   ]
  },
  {
   "cell_type": "code",
   "execution_count": null,
   "metadata": {},
   "outputs": [],
   "source": []
  }
 ],
 "metadata": {
  "kernelspec": {
   "display_name": "th",
   "language": "python",
   "name": "th"
  },
  "language_info": {
   "codemirror_mode": {
    "name": "ipython",
    "version": 3
   },
   "file_extension": ".py",
   "mimetype": "text/x-python",
   "name": "python",
   "nbconvert_exporter": "python",
   "pygments_lexer": "ipython3",
   "version": "3.7.3"
  }
 },
 "nbformat": 4,
 "nbformat_minor": 2
}
