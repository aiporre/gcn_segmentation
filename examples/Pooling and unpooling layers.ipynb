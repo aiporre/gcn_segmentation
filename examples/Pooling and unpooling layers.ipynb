{
 "cells": [
  {
   "cell_type": "code",
   "execution_count": 1,
   "metadata": {},
   "outputs": [],
   "source": [
    "import sys\n",
    "sys.path.append(\"../\") # go to parent dir\n",
    "import matplotlib.pyplot as plt\n",
    "from matplotlib import cm\n",
    "from lib.graph import grid_tensor\n",
    "from torch_geometric.nn import graclus, voxel_grid, max_pool\n",
    "import torch\n",
    "from torch_geometric.utils import normalized_cut\n",
    "import torch_geometric.transforms as T\n",
    "import torch.nn.functional as F\n",
    "from torch_geometric.data import Data\n",
    "import numpy as np\n",
    "\n",
    "from torch_geometric.nn import knn_interpolate, SplineConv, max_pool_x,  global_mean_pool\n",
    "\n",
    "from torch.nn import Sequential as Seq, Linear as Lin, ReLU, BatchNorm1d as BN\n",
    "from torch_geometric.nn import PointConv, fps, radius\n",
    "\n",
    "from lib.datasets import MNIST\n"
   ]
  },
  {
   "cell_type": "code",
   "execution_count": 2,
   "metadata": {},
   "outputs": [
    {
     "name": "stdout",
     "output_type": "stream",
     "text": [
      "[0.         0.04166667 0.08333333 0.125      0.16666667 0.20833333\n",
      " 0.25       0.29166667 0.33333333 0.375      0.41666667 0.45833333\n",
      " 0.5        0.54166667 0.58333333 0.625      0.66666667 0.70833333\n",
      " 0.75       0.79166667 0.83333333 0.875      0.91666667 0.95833333\n",
      " 1.        ]\n",
      "Data(edge_index=[2, 80], pos=[25, 2], x=[25], y=[1])\n"
     ]
    }
   ],
   "source": [
    "grid = grid_tensor((5,5),connectivity=4)\n",
    "values = np.linspace(0,1,25)\n",
    "print(values)\n",
    "grid.x = torch.linspace(0,1,25)\n",
    "print(grid)"
   ]
  },
  {
   "cell_type": "markdown",
   "metadata": {},
   "source": [
    "## Plotting the grid"
   ]
  },
  {
   "cell_type": "code",
   "execution_count": 3,
   "metadata": {},
   "outputs": [],
   "source": [
    "def normalized_cut_2d(edge_index, pos):\n",
    "    row, col = edge_index\n",
    "    edge_attr = torch.norm(pos[row] - pos[col], p=2, dim=1)\n",
    "    return normalized_cut(edge_index, edge_attr, num_nodes=pos.size(0))\n"
   ]
  },
  {
   "cell_type": "code",
   "execution_count": 4,
   "metadata": {},
   "outputs": [],
   "source": [
    "def plot_tensor(d):\n",
    "    d = d\n",
    "    plt.figure()\n",
    "    plt.gca().invert_yaxis()\n",
    "#     plt.yticks(rotation=90)\n",
    "    pos_x = d.pos[:,0].numpy()\n",
    "    pos_y = d.pos[:,1].numpy()\n",
    "    values =  d.x[:].detach().numpy()\n",
    "    coo_matrix = d.edge_index \n",
    "    colors = [cm.spring(color) for color in values]\n",
    "    for i in range(d.num_edges):\n",
    "        ii, jj = coo_matrix[0,i], coo_matrix[1,i]\n",
    "        plt.plot([pos_y[ii],pos_y[jj]],[pos_x[ii],pos_x[jj]],'k-',alpha=0.1)\n",
    "    for xx, yy, cc in zip(pos_x, pos_y, colors):\n",
    "        plt.plot(yy, xx, 'o', color=cc)"
   ]
  },
  {
   "cell_type": "code",
   "execution_count": 5,
   "metadata": {},
   "outputs": [
    {
     "data": {
      "image/png": "[encoded data removed]",
      "text/plain": [
       "<Figure size 432x288 with 1 Axes>"
      ]
     },
     "metadata": {
      "needs_background": "light"
     },
     "output_type": "display_data"
    }
   ],
   "source": [
    "plot_tensor(grid)"
   ]
  },
  {
   "cell_type": "code",
   "execution_count": 6,
   "metadata": {},
   "outputs": [],
   "source": [
    "transform=T.Cartesian()"
   ]
  },
  {
   "cell_type": "code",
   "execution_count": 7,
   "metadata": {},
   "outputs": [],
   "source": [
    "a = transform(grid)"
   ]
  },
  {
   "cell_type": "code",
   "execution_count": 8,
   "metadata": {},
   "outputs": [
    {
     "data": {
      "text/plain": [
       "Data(edge_attr=[80, 2], edge_index=[2, 80], pos=[25, 2], x=[25], y=[1])"
      ]
     },
     "execution_count": 8,
     "metadata": {},
     "output_type": "execute_result"
    }
   ],
   "source": [
    "grid"
   ]
  },
  {
   "cell_type": "code",
   "execution_count": 9,
   "metadata": {},
   "outputs": [],
   "source": [
    "def cluster_grid(grid):\n",
    "    data = grid\n",
    "    # data.x = conv1(data.x, data.edge_index, data.edge_attr)\n",
    "    weight = normalized_cut_2d(data.edge_index, data.pos)\n",
    "    cluster = graclus(data.edge_index, weight, data.x.size(0))\n",
    "    data.edge_attr = None\n",
    "    data.batch = None\n",
    "    data = max_pool(cluster, data, transform=T.Cartesian(cat=False))\n",
    "    return data, cluster\n",
    "\n",
    "\n",
    "\n",
    "\n",
    "data, cluster = cluster_grid(grid)"
   ]
  },
  {
   "cell_type": "code",
   "execution_count": 10,
   "metadata": {},
   "outputs": [
    {
     "name": "stdout",
     "output_type": "stream",
     "text": [
      "tensor([ 0,  1,  1,  3,  3,  0,  6,  7,  8,  8, 10,  6,  7, 13, 13, 10, 16, 16,\n",
      "        18, 19, 20, 20, 22, 18, 19])\n"
     ]
    }
   ],
   "source": [
    "print(cluster)\n",
    "# print(grid.pos[0:2][0:2])"
   ]
  },
  {
   "cell_type": "code",
   "execution_count": 11,
   "metadata": {},
   "outputs": [
    {
     "name": "stdout",
     "output_type": "stream",
     "text": [
      "data:  Batch(edge_attr=[48, 2], edge_index=[2, 48], pos=[13, 2], x=[13])\n",
      "position values:  tensor([[0.5000, 0.0000],\n",
      "        [0.0000, 1.5000],\n",
      "        [0.0000, 3.5000],\n",
      "        [1.5000, 1.0000],\n",
      "        [1.5000, 2.0000],\n",
      "        [1.0000, 3.5000],\n",
      "        [2.5000, 0.0000],\n",
      "        [2.0000, 3.5000],\n",
      "        [3.0000, 1.5000],\n",
      "        [3.5000, 3.0000],\n",
      "        [3.5000, 4.0000],\n",
      "        [4.0000, 0.5000],\n",
      "        [4.0000, 2.0000]])\n",
      "features values:  torch.Size([13])\n",
      "number of node:  13\n"
     ]
    },
    {
     "data": {
      "image/png": "[encoded data removed]",
      "text/plain": [
       "<Figure size 432x288 with 1 Axes>"
      ]
     },
     "metadata": {
      "needs_background": "light"
     },
     "output_type": "display_data"
    }
   ],
   "source": [
    "plot_tensor(data)\n",
    "print('data: ', data)\n",
    "print('position values: ', data.pos)\n",
    "print('features values: ',data.x.size())\n",
    "print('number of node: ',data.num_nodes)"
   ]
  },
  {
   "cell_type": "code",
   "execution_count": 12,
   "metadata": {},
   "outputs": [],
   "source": [
    "def consecutive_cluster(src):\n",
    "    unique, inv = torch.unique(src, sorted=True, return_inverse=True)\n",
    "    perm = torch.arange(inv.size(0), dtype=inv.dtype, device=inv.device)\n",
    "    perm = inv.new_empty(unique.size(0)).scatter_(0, inv, perm)\n",
    "    return inv, perm"
   ]
  },
  {
   "cell_type": "code",
   "execution_count": 13,
   "metadata": {},
   "outputs": [],
   "source": [
    "def recover_grid(source, pos, edge_index, cluster, transform=None):\n",
    "    cluster, perm = consecutive_cluster(cluster)\n",
    "    weights = torch.ones((1,len(cluster)))\n",
    "    Q = torch.zeros((source.num_nodes,cluster.shape[0])).scatter_(0,cluster.unsqueeze(0),weights)\n",
    "#     print('x.shape, Q.shape',source.x.shape, Q.shape)\n",
    "    \n",
    "    if source.x.dim()==1:\n",
    "        x = source.x.unsqueeze(0).mm(Q).squeeze()\n",
    "    else:\n",
    "        # the max dimension is 2\n",
    "        x= Q.transpose(0,1).mm(source.x)\n",
    "#     print('x.shape: ',x.shape)\n",
    "    data = Data(x=x,edge_index=edge_index,pos=pos)\n",
    "    if transform is not None:\n",
    "        data = transform(data)\n",
    "    return data\n"
   ]
  },
  {
   "cell_type": "code",
   "execution_count": 14,
   "metadata": {},
   "outputs": [
    {
     "name": "stdout",
     "output_type": "stream",
     "text": [
      "...recovering grid (upsampling)\n",
      "grid 1     :  Data(edge_index=[2, 80], pos=[25, 2], x=[25], y=[1])\n",
      "grid pool  :  Batch(edge_attr=[48, 2], edge_index=[2, 48], pos=[13, 2], x=[13])\n",
      "grid unpool:  Data(edge_index=[2, 80], pos=[25, 2], x=[25])\n"
     ]
    },
    {
     "data": {
      "image/png": "[encoded data removed]",
      "text/plain": [
       "<Figure size 432x288 with 1 Axes>"
      ]
     },
     "metadata": {
      "needs_background": "light"
     },
     "output_type": "display_data"
    }
   ],
   "source": [
    "print('...recovering grid (upsampling)')\n",
    "print('grid 1     : ', grid)\n",
    "print('grid pool  : ', data)\n",
    "\n",
    "grid_recovered = recover_grid(data, pos=grid.pos, edge_index=grid.edge_index, cluster=cluster)\n",
    "\n",
    "print('grid unpool: ',grid_recovered)\n",
    "\n",
    "plot_tensor(grid_recovered)"
   ]
  },
  {
   "cell_type": "code",
   "execution_count": 15,
   "metadata": {},
   "outputs": [
    {
     "data": {
      "text/plain": [
       "[<matplotlib.lines.Line2D at 0x7f81a4a03f60>]"
      ]
     },
     "execution_count": 15,
     "metadata": {},
     "output_type": "execute_result"
    },
    {
     "data": {
      "image/png": "[encoded data removed]",
      "text/plain": [
       "<Figure size 432x288 with 1 Axes>"
      ]
     },
     "metadata": {
      "needs_background": "light"
     },
     "output_type": "display_data"
    }
   ],
   "source": [
    "plt.plot(cluster.numpy())"
   ]
  },
  {
   "cell_type": "code",
   "execution_count": 16,
   "metadata": {},
   "outputs": [
    {
     "data": {
      "text/plain": [
       "tensor([ 0,  1,  3,  6,  7,  8, 10, 13, 16, 18, 19, 20, 22])"
      ]
     },
     "execution_count": 16,
     "metadata": {},
     "output_type": "execute_result"
    }
   ],
   "source": [
    "cluster.unique()"
   ]
  },
  {
   "cell_type": "markdown",
   "metadata": {},
   "source": [
    "## Mnist dataset pool and unpool"
   ]
  },
  {
   "cell_type": "code",
   "execution_count": 17,
   "metadata": {},
   "outputs": [
    {
     "data": {
      "text/plain": [
       "<matplotlib.image.AxesImage at 0x7f81a4987c50>"
      ]
     },
     "execution_count": 17,
     "metadata": {},
     "output_type": "execute_result"
    },
    {
     "data": {
      "image/png": "[encoded data removed]",
      "text/plain": [
       "<Figure size 432x288 with 1 Axes>"
      ]
     },
     "metadata": {
      "needs_background": "light"
     },
     "output_type": "display_data"
    }
   ],
   "source": [
    "label = 7\n",
    "number = np.array([0,0,0,0,0,0,0,0,0,0,0,0,0,0,0,0,0,0,0,0,0,0,0,0,0,0,0,0,0,0,0\n",
    "                   ,0,0,0,0,0,0,0,0,0,0,0,0,0,0,0,0,0,0,0,0,0,0,0,0,0,0,0,0,0,0\n",
    "                   ,0,0,0,0,0,0,0,0,0,0,0,0,0,0,0,0,0,0,0,0,0,0,0,0,0,0,0,0,0,0,\n",
    "                   0,0,0,0,0,0,0,0,0,0,0,0,0,0,0,0,0,0,0,0,0,0,0,0,0,0,0,0,0,0,0\n",
    "                   ,0,0,0,0,0,0,0,0,0,0,0,0,0,0,0,0,0,0,0,0,0,0,0,0,0,0,0,0,0,0,0\n",
    "                   ,0,0,0,0,0,0,0,0,0,0,0,0,0,0,0,0,0,0,0,0,0,0,0,0,0,0,0,0,0,0,0,\n",
    "                   0,0,0,0,0,0,0,0,0,0,0,0,0,0,0,0,0,0,84,185,159,151,60,36,0,0,0,\n",
    "                   0,0,0,0,0,0,0,0,0,0,0,0,0,0,0,0,0,0,0,222,254,254,254,254,241,\n",
    "                   198,198,198,198,198,198,198,198,170,52,0,0,0,0,0,0,0,0,0,0,0,0,67,\n",
    "                   114,72,114,163,227,254,225,254,254,254,250,229,254,254,140,0,0,0,0,\n",
    "                   0,0,0,0,0,0,0,0,0,0,0,0,0,17,66,14,67,67,67,59,21,236,254,106,0,0,0,\n",
    "                   0,0,0,0,0,0,0,0,0,0,0,0,0,0,0,0,0,0,0,0,0,83,253,209,18,0,0,0,0,0,0,\n",
    "                   0,0,0,0,0,0,0,0,0,0,0,0,0,0,0,0,0,22,233,255,83,0,0,0,0,0,0,0,0,0,0,\n",
    "                   0,0,0,0,0,0,0,0,0,0,0,0,0,0,129,254,238,44,0,0,0,0,0,0,0,0,0,0,0,0,0,\n",
    "                   0,0,0,0,0,0,0,0,0,0,59,249,254,62,0,0,0,0,0,0,0,0,0,0,0,0,0,0,0,0,0,0,\n",
    "                   0,0,0,0,0,0,133,254,187,5,0,0,0,0,0,0,0,0,0,0,0,0,0,0,0,0,0,0,0,0,0,0,\n",
    "                   0,9,205,248,58,0,0,0,0,0,0,0,0,0,0,0,0,0,0,0,0,0,0,0,0,0,0,0,0,126,254,\n",
    "                   182,0,0,0,0,0,0,0,0,0,0,0,0,0,0,0,0,0,0,0,0,0,0,0,0,75,251,240,57,0,0,0,\n",
    "                   0,0,0,0,0,0,0,0,0,0,0,0,0,0,0,0,0,0,0,0,19,221,254,166,0,0,0,0,0,0,0,0,0,\n",
    "                   0,0,0,0,0,0,0,0,0,0,0,0,0,0,3,203,254,219,35,0,0,0,0,0,0,0,0,0,0,0,0,0,0,\n",
    "                   0,0,0,0,0,0,0,0,0,38,254,254,77,0,0,0,0,0,0,0,0,0,0,0,0,0,0,0,0,0,0,0,0,0,\n",
    "                   0,0,31,224,254,115,1,0,0,0,0,0,0,0,0,0,0,0,0,0,0,0,0,0,0,0,0,0,0,0,133,254,\n",
    "                   254,52,0,0,0,0,0,0,0,0,0,0,0,0,0,0,0,0,0,0,0,0,0,0,0,61,242,254,254,52,0,0,\n",
    "                   0,0,0,0,0,0,0,0,0,0,0,0,0,0,0,0,0,0,0,0,0,121,254,254,219,40,0,0,0,0,0,0,0,0,\n",
    "                   0,0,0,0,0,0,0,0,0,0,0,0,0,0,0,121,254,207,18,0,0,0,0,0,0,0,0,0,0,0,0,0,0,0,0,0,\n",
    "                   0,0,0,0,0,0,0,0,0,0,0,0,0,0,0,0,0,0,0,0,0,0,0,0,0])/255.0\n",
    "plt.imshow(number.reshape(28,28))"
   ]
  },
  {
   "cell_type": "code",
   "execution_count": 18,
   "metadata": {},
   "outputs": [
    {
     "name": "stdout",
     "output_type": "stream",
     "text": [
      "Data(edge_index=[2, 3024], pos=[784, 2], x=[784], y=[1])\n"
     ]
    }
   ],
   "source": [
    "grid = grid_tensor((28,28),connectivity=4)\n",
    "grid.x = torch.tensor(number.T).float()\n",
    "print(grid)"
   ]
  },
  {
   "cell_type": "code",
   "execution_count": 19,
   "metadata": {},
   "outputs": [],
   "source": [
    "data, cluster = cluster_grid(grid)"
   ]
  },
  {
   "cell_type": "code",
   "execution_count": 20,
   "metadata": {},
   "outputs": [
    {
     "name": "stdout",
     "output_type": "stream",
     "text": [
      "...recovering grid (upsampling)\n",
      "grid 1     :  Data(edge_index=[2, 3024], pos=[784, 2], x=[784], y=[1])\n",
      "grid pool  :  Batch(edge_attr=[2026, 2], edge_index=[2, 2026], pos=[425, 2], x=[425])\n",
      "grid unpool:  Data(edge_index=[2, 3024], pos=[784, 2], x=[784])\n"
     ]
    },
    {
     "data": {
      "image/png": "[encoded data removed]",
      "text/plain": [
       "<Figure size 432x288 with 1 Axes>"
      ]
     },
     "metadata": {
      "needs_background": "light"
     },
     "output_type": "display_data"
    }
   ],
   "source": [
    "print('...recovering grid (upsampling)')\n",
    "print('grid 1     : ', grid)\n",
    "print('grid pool  : ', data)\n",
    "\n",
    "grid_recovered = recover_grid(data, pos=grid.pos, edge_index=grid.edge_index, cluster=cluster)\n",
    "\n",
    "print('grid unpool: ',grid_recovered)\n",
    "\n",
    "plot_tensor(grid_recovered)"
   ]
  },
  {
   "cell_type": "code",
   "execution_count": 21,
   "metadata": {},
   "outputs": [
    {
     "data": {
      "image/png": "[encoded data removed]",
      "text/plain": [
       "<Figure size 432x288 with 1 Axes>"
      ]
     },
     "metadata": {
      "needs_background": "light"
     },
     "output_type": "display_data"
    }
   ],
   "source": [
    "plot_tensor(grid)"
   ]
  },
  {
   "cell_type": "markdown",
   "metadata": {},
   "source": [
    "## Network definitino"
   ]
  },
  {
   "cell_type": "code",
   "execution_count": 24,
   "metadata": {},
   "outputs": [],
   "source": [
    "class DataLoader_seven(object):\n",
    "    \n",
    "    def __init__(self):\n",
    "        ## make the 7\n",
    "        self.label = 7\n",
    "        self.number = np.array([0,0,0,0,0,0,0,0,0,0,0,0,0,0,0,0,0,0,0,0,0,0,0,0,0,0,0,0,0,0,0\n",
    "                           ,0,0,0,0,0,0,0,0,0,0,0,0,0,0,0,0,0,0,0,0,0,0,0,0,0,0,0,0,0,0\n",
    "                           ,0,0,0,0,0,0,0,0,0,0,0,0,0,0,0,0,0,0,0,0,0,0,0,0,0,0,0,0,0,0,\n",
    "                           0,0,0,0,0,0,0,0,0,0,0,0,0,0,0,0,0,0,0,0,0,0,0,0,0,0,0,0,0,0,0\n",
    "                           ,0,0,0,0,0,0,0,0,0,0,0,0,0,0,0,0,0,0,0,0,0,0,0,0,0,0,0,0,0,0,0\n",
    "                           ,0,0,0,0,0,0,0,0,0,0,0,0,0,0,0,0,0,0,0,0,0,0,0,0,0,0,0,0,0,0,0,\n",
    "                           0,0,0,0,0,0,0,0,0,0,0,0,0,0,0,0,0,0,84,185,159,151,60,36,0,0,0,\n",
    "                           0,0,0,0,0,0,0,0,0,0,0,0,0,0,0,0,0,0,0,222,254,254,254,254,241,\n",
    "                           198,198,198,198,198,198,198,198,170,52,0,0,0,0,0,0,0,0,0,0,0,0,67,\n",
    "                           114,72,114,163,227,254,225,254,254,254,250,229,254,254,140,0,0,0,0,\n",
    "                           0,0,0,0,0,0,0,0,0,0,0,0,0,17,66,14,67,67,67,59,21,236,254,106,0,0,0,\n",
    "                           0,0,0,0,0,0,0,0,0,0,0,0,0,0,0,0,0,0,0,0,0,83,253,209,18,0,0,0,0,0,0,\n",
    "                           0,0,0,0,0,0,0,0,0,0,0,0,0,0,0,0,0,22,233,255,83,0,0,0,0,0,0,0,0,0,0,\n",
    "                           0,0,0,0,0,0,0,0,0,0,0,0,0,0,129,254,238,44,0,0,0,0,0,0,0,0,0,0,0,0,0,\n",
    "                           0,0,0,0,0,0,0,0,0,0,59,249,254,62,0,0,0,0,0,0,0,0,0,0,0,0,0,0,0,0,0,0,\n",
    "                           0,0,0,0,0,0,133,254,187,5,0,0,0,0,0,0,0,0,0,0,0,0,0,0,0,0,0,0,0,0,0,0,\n",
    "                           0,9,205,248,58,0,0,0,0,0,0,0,0,0,0,0,0,0,0,0,0,0,0,0,0,0,0,0,0,126,254,\n",
    "                           182,0,0,0,0,0,0,0,0,0,0,0,0,0,0,0,0,0,0,0,0,0,0,0,0,75,251,240,57,0,0,0,\n",
    "                           0,0,0,0,0,0,0,0,0,0,0,0,0,0,0,0,0,0,0,0,19,221,254,166,0,0,0,0,0,0,0,0,0,\n",
    "                           0,0,0,0,0,0,0,0,0,0,0,0,0,0,3,203,254,219,35,0,0,0,0,0,0,0,0,0,0,0,0,0,0,\n",
    "                           0,0,0,0,0,0,0,0,0,38,254,254,77,0,0,0,0,0,0,0,0,0,0,0,0,0,0,0,0,0,0,0,0,0,\n",
    "                           0,0,31,224,254,115,1,0,0,0,0,0,0,0,0,0,0,0,0,0,0,0,0,0,0,0,0,0,0,0,133,254,\n",
    "                           254,52,0,0,0,0,0,0,0,0,0,0,0,0,0,0,0,0,0,0,0,0,0,0,0,61,242,254,254,52,0,0,\n",
    "                           0,0,0,0,0,0,0,0,0,0,0,0,0,0,0,0,0,0,0,0,0,121,254,254,219,40,0,0,0,0,0,0,0,0,\n",
    "                           0,0,0,0,0,0,0,0,0,0,0,0,0,0,0,121,254,207,18,0,0,0,0,0,0,0,0,0,0,0,0,0,0,0,0,0,\n",
    "                           0,0,0,0,0,0,0,0,0,0,0,0,0,0,0,0,0,0,0,0,0,0,0,0,0])/255.0\n",
    "        self.mask = (self.number>0.2)\n",
    "    \n",
    "    def __len__(self):\n",
    "        return 10\n",
    "    \n",
    "    def __getitem__(self,idx):\n",
    "        grid = grid_tensor((28,28),connectivity=4)\n",
    "        grid.x = torch.tensor(self.number.T).float()\n",
    "        grid.batch = torch.zeros(grid.num_nodes).long()\n",
    "        grid = transform(grid)\n",
    "        grid.y = torch.tensor([self.mask]).float().transpose(0,1)\n",
    "        return grid\n",
    "    \n",
    "    def __iter__(self):\n",
    "        for i in range(10):\n",
    "            grid = self.__getitem__(i)\n",
    "            yield grid"
   ]
  },
  {
   "cell_type": "code",
   "execution_count": 25,
   "metadata": {},
   "outputs": [],
   "source": [
    "class DataLoader(object):\n",
    "    def __init__(self):\n",
    "        self.dataset = MNIST()\n",
    "        self.test_dataset = self.dataset.train\n",
    "        self.train_dataset = self.dataset.test\n",
    "\n",
    "    def __len__(self):\n",
    "        return 10\n",
    "    \n",
    "    def __getitem__(self,idx):\n",
    "        image, mask = self.train_dataset[idx]\n",
    "        grid = grid_tensor((28,28),connectivity=4)\n",
    "        grid.x = torch.tensor(image.reshape(28*28)).float()\n",
    "        grid.batch = torch.zeros(grid.num_nodes).long()\n",
    "        grid = transform(grid)\n",
    "        grid.y = torch.tensor([mask.reshape(28*28)]).float().transpose(0,1)\n",
    "        return grid\n",
    "    \n",
    "    def __iter__(self):\n",
    "        for i in range(10):\n",
    "            grid = self.__getitem__(i)\n",
    "            yield grid"
   ]
  },
  {
   "cell_type": "code",
   "execution_count": 26,
   "metadata": {},
   "outputs": [
    {
     "name": "stdout",
     "output_type": "stream",
     "text": [
      "WARNING:tensorflow:From ../lib/datasets/mnist.py:10: read_data_sets (from tensorflow.contrib.learn.python.learn.datasets.mnist) is deprecated and will be removed in a future version.\n",
      "Instructions for updating:\n",
      "Please use alternatives such as official/mnist/dataset.py from tensorflow/models.\n",
      "WARNING:tensorflow:From /home/ari/miniconda3/envs/th/lib/python3.7/site-packages/tensorflow/contrib/learn/python/learn/datasets/mnist.py:260: maybe_download (from tensorflow.contrib.learn.python.learn.datasets.base) is deprecated and will be removed in a future version.\n",
      "Instructions for updating:\n",
      "Please write your own downloading logic.\n",
      "WARNING:tensorflow:From /home/ari/miniconda3/envs/th/lib/python3.7/site-packages/tensorflow/contrib/learn/python/learn/datasets/mnist.py:262: extract_images (from tensorflow.contrib.learn.python.learn.datasets.mnist) is deprecated and will be removed in a future version.\n",
      "Instructions for updating:\n",
      "Please use tf.data to implement this functionality.\n",
      "Extracting data/M2NIST/train-images-idx3-ubyte.gz\n",
      "WARNING:tensorflow:From /home/ari/miniconda3/envs/th/lib/python3.7/site-packages/tensorflow/contrib/learn/python/learn/datasets/mnist.py:267: extract_labels (from tensorflow.contrib.learn.python.learn.datasets.mnist) is deprecated and will be removed in a future version.\n",
      "Instructions for updating:\n",
      "Please use tf.data to implement this functionality.\n",
      "Extracting data/M2NIST/train-labels-idx1-ubyte.gz\n",
      "WARNING:tensorflow:From /home/ari/miniconda3/envs/th/lib/python3.7/site-packages/tensorflow/contrib/learn/python/learn/datasets/mnist.py:110: dense_to_one_hot (from tensorflow.contrib.learn.python.learn.datasets.mnist) is deprecated and will be removed in a future version.\n",
      "Instructions for updating:\n",
      "Please use tf.one_hot on tensors.\n",
      "Extracting data/M2NIST/t10k-images-idx3-ubyte.gz\n",
      "Extracting data/M2NIST/t10k-labels-idx1-ubyte.gz\n",
      "WARNING:tensorflow:From /home/ari/miniconda3/envs/th/lib/python3.7/site-packages/tensorflow/contrib/learn/python/learn/datasets/mnist.py:290: DataSet.__init__ (from tensorflow.contrib.learn.python.learn.datasets.mnist) is deprecated and will be removed in a future version.\n",
      "Instructions for updating:\n",
      "Please use alternatives such as official/mnist/dataset.py from tensorflow/models.\n"
     ]
    }
   ],
   "source": [
    "dataloader = DataLoader()"
   ]
  },
  {
   "cell_type": "code",
   "execution_count": 27,
   "metadata": {},
   "outputs": [
    {
     "name": "stdout",
     "output_type": "stream",
     "text": [
      "data @  0  :  Data(batch=[784], edge_attr=[3024, 2], edge_index=[2, 3024], pos=[784, 2], x=[784], y=[784, 1])\n",
      "data @  1  :  Data(batch=[784], edge_attr=[3024, 2], edge_index=[2, 3024], pos=[784, 2], x=[784], y=[784, 1])\n",
      "data @  2  :  Data(batch=[784], edge_attr=[3024, 2], edge_index=[2, 3024], pos=[784, 2], x=[784], y=[784, 1])\n",
      "data @  3  :  Data(batch=[784], edge_attr=[3024, 2], edge_index=[2, 3024], pos=[784, 2], x=[784], y=[784, 1])\n",
      "data @  4  :  Data(batch=[784], edge_attr=[3024, 2], edge_index=[2, 3024], pos=[784, 2], x=[784], y=[784, 1])\n",
      "data @  5  :  Data(batch=[784], edge_attr=[3024, 2], edge_index=[2, 3024], pos=[784, 2], x=[784], y=[784, 1])\n",
      "data @  6  :  Data(batch=[784], edge_attr=[3024, 2], edge_index=[2, 3024], pos=[784, 2], x=[784], y=[784, 1])\n",
      "data @  7  :  Data(batch=[784], edge_attr=[3024, 2], edge_index=[2, 3024], pos=[784, 2], x=[784], y=[784, 1])\n",
      "data @  8  :  Data(batch=[784], edge_attr=[3024, 2], edge_index=[2, 3024], pos=[784, 2], x=[784], y=[784, 1])\n",
      "data @  9  :  Data(batch=[784], edge_attr=[3024, 2], edge_index=[2, 3024], pos=[784, 2], x=[784], y=[784, 1])\n"
     ]
    },
    {
     "data": {
      "image/png": "[encoded data removed]",
      "text/plain": [
       "<Figure size 432x288 with 1 Axes>"
      ]
     },
     "metadata": {
      "needs_background": "light"
     },
     "output_type": "display_data"
    }
   ],
   "source": [
    "data = dataloader[123]\n",
    "plot_tensor(data)\n",
    "for i, d in enumerate(dataloader):\n",
    "    print('data @ ' , i , ' : ', data)\n"
   ]
  },
  {
   "cell_type": "code",
   "execution_count": 28,
   "metadata": {},
   "outputs": [],
   "source": [
    "class Net(torch.nn.Module):\n",
    "    def __init__(self):\n",
    "        super(Net, self).__init__()\n",
    "        self.conv1 = SplineConv(1, 32, dim=2, kernel_size=5)\n",
    "        self.conv2 = SplineConv(32, 64, dim=2, kernel_size=5)\n",
    "        self.conv3 = SplineConv(64, 32, dim=2, kernel_size=5)\n",
    "        self.conv4 = SplineConv(32, 1, dim=2, kernel_size=5)\n",
    "\n",
    "\n",
    "    def forward(self, data):\n",
    "        data.x = F.elu(self.conv1(data.x, data.edge_index, data.edge_attr))\n",
    "        weight = normalized_cut_2d(data.edge_index, data.pos)\n",
    "        cluster1 = graclus(data.edge_index, weight, data.x.size(0))\n",
    "        pos1 = data.pos\n",
    "        edge_index1 = data.edge_index\n",
    "        data = max_pool(cluster1, data, transform=T.Cartesian(cat=False))\n",
    "\n",
    "        data.x = F.elu(self.conv2(data.x, data.edge_index, data.edge_attr))\n",
    "        weight = normalized_cut_2d(data.edge_index, data.pos)\n",
    "        pos2 = data.pos\n",
    "        edge_index2 = data.edge_index\n",
    "        cluster2 = graclus(data.edge_index, weight, data.x.size(0))\n",
    "        data = max_pool(cluster2, data, transform=T.Cartesian(cat=False))\n",
    "\n",
    "        # upsample\n",
    "        data = recover_grid(data, pos2, edge_index2, cluster2, transform=T.Cartesian(cat=False))\n",
    "        data.x = F.elu(self.conv3(data.x, data.edge_index, data.edge_attr))\n",
    "        \n",
    "        data = recover_grid(data, pos1, edge_index1, cluster1, transform=T.Cartesian(cat=False))\n",
    "        data.x = F.elu(self.conv4(data.x, data.edge_index, data.edge_attr))\n",
    "        \n",
    "        x, batch = data.x, torch.zeros(data.num_nodes)\n",
    "        \n",
    "        return F.sigmoid(x)\n",
    "\n",
    "\n",
    "device = torch.device('cuda' if torch.cuda.is_available() else 'cpu')\n",
    "model = Net().to(device)"
   ]
  },
  {
   "cell_type": "code",
   "execution_count": null,
   "metadata": {},
   "outputs": [],
   "source": []
  },
  {
   "cell_type": "code",
   "execution_count": 29,
   "metadata": {},
   "outputs": [],
   "source": [
    "optimizer = torch.optim.Adam(model.parameters(), lr=0.01)\n",
    "criterion = torch.nn.BCELoss()"
   ]
  },
  {
   "cell_type": "code",
   "execution_count": 30,
   "metadata": {},
   "outputs": [
    {
     "name": "stdout",
     "output_type": "stream",
     "text": [
      "Extracting data/M2NIST/train-images-idx3-ubyte.gz\n",
      "Extracting data/M2NIST/train-labels-idx1-ubyte.gz\n",
      "Extracting data/M2NIST/t10k-images-idx3-ubyte.gz\n",
      "Extracting data/M2NIST/t10k-labels-idx1-ubyte.gz\n"
     ]
    }
   ],
   "source": [
    "dataloader = DataLoader()"
   ]
  },
  {
   "cell_type": "code",
   "execution_count": 31,
   "metadata": {
    "scrolled": false
   },
   "outputs": [
    {
     "name": "stderr",
     "output_type": "stream",
     "text": [
      "/home/ari/miniconda3/envs/th/lib/python3.7/site-packages/torch_geometric/nn/conv/spline_conv.py:103: UserWarning: We do not recommend using the non-optimized CPU version of SplineConv. If possible, please convert your data to the GPU first.\n",
      "  warnings.warn('We do not recommend using the non-optimized CPU '\n",
      "/home/ari/miniconda3/envs/th/lib/python3.7/site-packages/torch/nn/functional.py:1386: UserWarning: nn.functional.sigmoid is deprecated. Use torch.sigmoid instead.\n",
      "  warnings.warn(\"nn.functional.sigmoid is deprecated. Use torch.sigmoid instead.\")\n"
     ]
    },
    {
     "name": "stdout",
     "output_type": "stream",
     "text": [
      "loss:  0.695428729057312\n",
      "loss:  0.6815562844276428\n",
      "loss:  0.6121915578842163\n",
      "loss:  0.5993759632110596\n",
      "loss:  0.494112491607666\n",
      "loss:  0.4239177405834198\n",
      "loss:  0.4658321440219879\n",
      "loss:  0.4550620913505554\n",
      "loss:  0.5145567059516907\n",
      "loss:  0.5147143602371216\n"
     ]
    }
   ],
   "source": [
    "model.train()\n",
    "for d in dataloader:\n",
    "#     print(d)\n",
    "    pred = model(d)\n",
    "    optimizer.zero_grad()\n",
    "    loss = criterion(pred, d.y)\n",
    "    loss.backward()\n",
    "    optimizer.step()\n",
    "    print('loss: ' , loss.item())\n",
    "    "
   ]
  },
  {
   "cell_type": "code",
   "execution_count": 39,
   "metadata": {},
   "outputs": [
    {
     "data": {
      "text/plain": [
       "<matplotlib.image.AxesImage at 0x7f819d4b5eb8>"
      ]
     },
     "execution_count": 39,
     "metadata": {},
     "output_type": "execute_result"
    },
    {
     "data": {
      "image/png": "[encoded data removed]",
      "text/plain": [
       "<Figure size 432x288 with 1 Axes>"
      ]
     },
     "metadata": {
      "needs_background": "light"
     },
     "output_type": "display_data"
    }
   ],
   "source": [
    "pred_mask = (pred > 0.1).float()\n",
    "plt.imshow(pred.detach().numpy().reshape(28,28))"
   ]
  },
  {
   "cell_type": "code",
   "execution_count": 47,
   "metadata": {},
   "outputs": [
    {
     "data": {
      "text/plain": [
       "<matplotlib.image.AxesImage at 0x7f819cd072b0>"
      ]
     },
     "execution_count": 47,
     "metadata": {},
     "output_type": "execute_result"
    },
    {
     "data": {
      "image/png": "[encoded data removed]",
      "text/plain": [
       "<Figure size 432x288 with 1 Axes>"
      ]
     },
     "metadata": {
      "needs_background": "light"
     },
     "output_type": "display_data"
    }
   ],
   "source": [
    "plt.imshow(d.y.detach().numpy().reshape(28,28))"
   ]
  },
  {
   "cell_type": "code",
   "execution_count": null,
   "metadata": {},
   "outputs": [],
   "source": []
  }
 ],
 "metadata": {
  "kernelspec": {
   "display_name": "th",
   "language": "python",
   "name": "th"
  },
  "language_info": {
   "codemirror_mode": {
    "name": "ipython",
    "version": 3
   },
   "file_extension": ".py",
   "mimetype": "text/x-python",
   "name": "python",
   "nbconvert_exporter": "python",
   "pygments_lexer": "ipython3",
   "version": "3.7.3"
  }
 },
 "nbformat": 4,
 "nbformat_minor": 2
}
