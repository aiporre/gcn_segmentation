{
 "cells": [
  {
   "cell_type": "code",
   "execution_count": 1,
   "metadata": {},
   "outputs": [],
   "source": [
    "%matplotlib inline"
   ]
  },
  {
   "cell_type": "markdown",
   "metadata": {},
   "source": [
    "\n",
    "# RAG Merging\n",
    "\n",
    "\n",
    "This example constructs a Region Adjacency Graph (RAG) and progressively merges\n",
    "regions that are similar in color. Merging two adjacent regions produces\n",
    "a new region with all the pixels from the merged regions. Regions are merged\n",
    "until no highly similar region pairs remain.\n",
    "\n",
    "\n"
   ]
  },
  {
   "cell_type": "code",
   "execution_count": 2,
   "metadata": {},
   "outputs": [
    {
     "data": {
      "image/png": "[encoded data removed]",
      "text/plain": [
       "<Figure size 432x288 with 1 Axes>"
      ]
     },
     "metadata": {
      "needs_background": "light"
     },
     "output_type": "display_data"
    }
   ],
   "source": [
    "from skimage import data, io, segmentation, color\n",
    "from skimage.future import graph\n",
    "import numpy as np\n",
    "\n",
    "\n",
    "def _weight_mean_color(graph, src, dst, n):\n",
    "    \"\"\"Callback to handle merging nodes by recomputing mean color.\n",
    "\n",
    "    The method expects that the mean color of `dst` is already computed.\n",
    "\n",
    "    Parameters\n",
    "    ----------\n",
    "    graph : RAG\n",
    "        The graph under consideration.\n",
    "    src, dst : int\n",
    "        The vertices in `graph` to be merged.\n",
    "    n : int\n",
    "        A neighbor of `src` or `dst` or both.\n",
    "\n",
    "    Returns\n",
    "    -------\n",
    "    data : dict\n",
    "        A dictionary with the `\"weight\"` attribute set as the absolute\n",
    "        difference of the mean color between node `dst` and `n`.\n",
    "    \"\"\"\n",
    "\n",
    "    diff = graph.node[dst]['mean color'] - graph.node[n]['mean color']\n",
    "    diff = np.linalg.norm(diff)\n",
    "    return {'weight': diff}\n",
    "\n",
    "\n",
    "def merge_mean_color(graph, src, dst):\n",
    "    \"\"\"Callback called before merging two nodes of a mean color distance graph.\n",
    "\n",
    "    This method computes the mean color of `dst`.\n",
    "\n",
    "    Parameters\n",
    "    ----------\n",
    "    graph : RAG\n",
    "        The graph under consideration.\n",
    "    src, dst : int\n",
    "        The vertices in `graph` to be merged.\n",
    "    \"\"\"\n",
    "    graph.node[dst]['total color'] += graph.node[src]['total color']\n",
    "    graph.node[dst]['pixel count'] += graph.node[src]['pixel count']\n",
    "    graph.node[dst]['mean color'] = (graph.node[dst]['total color'] /\n",
    "                                     graph.node[dst]['pixel count'])\n",
    "\n",
    "\n",
    "img = data.coffee()\n",
    "labels = segmentation.slic(img, compactness=30, n_segments=400)\n",
    "g = graph.rag_mean_color(img, labels)\n",
    "\n",
    "labels2 = graph.merge_hierarchical(labels, g, thresh=35, rag_copy=False,\n",
    "                                   in_place_merge=True,\n",
    "                                   merge_func=merge_mean_color,\n",
    "                                   weight_func=_weight_mean_color)\n",
    "\n",
    "out = color.label2rgb(labels2, img, kind='avg')\n",
    "out = segmentation.mark_boundaries(out, labels2, (0, 0, 0))\n",
    "io.imshow(out)\n",
    "io.show()"
   ]
  },
  {
   "cell_type": "code",
   "execution_count": 3,
   "metadata": {},
   "outputs": [
    {
     "data": {
      "text/plain": [
       "47"
      ]
     },
     "execution_count": 3,
     "metadata": {},
     "output_type": "execute_result"
    }
   ],
   "source": [
    "labels2.flatten().max()"
   ]
  },
  {
   "cell_type": "code",
   "execution_count": 5,
   "metadata": {},
   "outputs": [
    {
     "data": {
      "text/plain": [
       "412"
      ]
     },
     "execution_count": 5,
     "metadata": {},
     "output_type": "execute_result"
    }
   ],
   "source": [
    "labels.flatten().max()"
   ]
  },
  {
   "cell_type": "code",
   "execution_count": null,
   "metadata": {},
   "outputs": [],
   "source": []
  }
 ],
 "metadata": {
  "kernelspec": {
   "display_name": "Python 3",
   "language": "python",
   "name": "python3"
  },
  "language_info": {
   "codemirror_mode": {
    "name": "ipython",
    "version": 3
   },
   "file_extension": ".py",
   "mimetype": "text/x-python",
   "name": "python",
   "nbconvert_exporter": "python",
   "pygments_lexer": "ipython3",
   "version": "3.7.3"
  }
 },
 "nbformat": 4,
 "nbformat_minor": 1
}
