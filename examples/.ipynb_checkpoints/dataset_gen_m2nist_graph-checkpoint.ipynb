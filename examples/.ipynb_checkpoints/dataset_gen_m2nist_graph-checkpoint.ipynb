{
 "cells": [
  {
   "cell_type": "code",
   "execution_count": 1,
   "metadata": {},
   "outputs": [],
   "source": [
    "import os.path as osp\n",
    "import sys, os\n",
    "sys.path.insert(0, '..')\n",
    "import time\n",
    "\n",
    "\n",
    "import numpy as np\n",
    "import matplotlib.pyplot as plt\n",
    "import torch\n",
    "import torch.nn as nn\n",
    "import torch.nn.functional as F\n",
    "from torch_geometric.datasets import MNISTSuperpixels\n",
    "import torch_geometric.transforms as T\n",
    "from torch_geometric.data import DataLoader\n",
    "from torch_geometric.utils import normalized_cut\n",
    "from torch_geometric.nn import (NNConv, graclus, max_pool, max_pool_x,\n",
    "                                global_mean_pool)\n",
    "__file__ = osp.abspath('')\n",
    "\n",
    "\n",
    "#####\n",
    "# aux libs\n",
    "from skimage import color\n",
    "\n",
    "from lib.segmentation import extract_features_fixed\n",
    "# from lib.segmentation import slic_fixed\n",
    "from lib.segmentation import quickshift_fixed\n",
    "from lib.pipeline import preprocess_pipeline_fixed\n",
    "from tqdm import tqdm\n",
    "# auxiliary functions\n",
    "from skimage import segmentation as segment, draw\n",
    "from skimage.measure import regionprops\n",
    "from skimage.future import graph\n",
    "from skimage.segmentation import slic, quickshift"
   ]
  },
  {
   "cell_type": "markdown",
   "metadata": {},
   "source": [
    "# Reading the M2NIST dataset"
   ]
  },
  {
   "cell_type": "code",
   "execution_count": 2,
   "metadata": {},
   "outputs": [],
   "source": [
    "segmented = np.load(\"../data/M2NIST/segmented.npy\")\n",
    "_, HEIGHT, WIDTH, N_CLASSES = segmented.shape\n",
    "mask = 1-segmented[:,:,:,-1]\n",
    "combined = np.load(\"../data/M2NIST/combined.npy\").reshape((-1, HEIGHT, WIDTH, 1))/255"
   ]
  },
  {
   "cell_type": "code",
   "execution_count": 3,
   "metadata": {},
   "outputs": [
    {
     "data": {
      "image/png": "[encoded data removed]",
      "text/plain": [
       "<Figure size 432x288 with 11 Axes>"
      ]
     },
     "metadata": {
      "needs_background": "light"
     },
     "output_type": "display_data"
    },
    {
     "data": {
      "image/png": "[encoded data removed]",
      "text/plain": [
       "<Figure size 432x288 with 11 Axes>"
      ]
     },
     "metadata": {
      "needs_background": "light"
     },
     "output_type": "display_data"
    }
   ],
   "source": [
    "for i in range(2):\n",
    "    plt.figure()\n",
    "    image = segmented[i]\n",
    "    for ii in range(0,11):\n",
    "        plt.subplot(3,4,ii+1)\n",
    "        plt.imshow(image[:,:,ii])"
   ]
  },
  {
   "cell_type": "code",
   "execution_count": 4,
   "metadata": {},
   "outputs": [
    {
     "data": {
      "text/plain": [
       "<matplotlib.image.AxesImage at 0x7f6789eb1f60>"
      ]
     },
     "execution_count": 4,
     "metadata": {},
     "output_type": "execute_result"
    },
    {
     "data": {
      "image/png": "[encoded data removed]",
      "text/plain": [
       "<Figure size 432x288 with 1 Axes>"
      ]
     },
     "metadata": {
      "needs_background": "light"
     },
     "output_type": "display_data"
    }
   ],
   "source": [
    "plt.imshow(combined[0][:,:,0])"
   ]
  },
  {
   "cell_type": "markdown",
   "metadata": {},
   "source": [
    "# Patch Generator"
   ]
  },
  {
   "cell_type": "code",
   "execution_count": 5,
   "metadata": {},
   "outputs": [],
   "source": [
    "class PatchGen(object):\n",
    "    def __init__(self,patch_size=21):\n",
    "#         assert(patch_size%2==1)\n",
    "        self.patch_size = patch_size\n",
    "                 \n",
    "    def transform(self,im,padding=2):\n",
    "        p = self.patch_size\n",
    "        padding = p//2\n",
    "        im_pad = np.pad(im,((padding,padding),(padding,padding),(0,0)),mode='constant')\n",
    "        m,n = im.shape[0], im.shape[1]\n",
    "        patches = []\n",
    "        for i,j in zip(range(n),range(m)):\n",
    "            patch = im_pad[i:i+p,j:j+p,:]\n",
    "            patches.append(patch)\n",
    "#             patch = im_pad[i:i+p,j:j+p,:]\n",
    "#             patches.append(np.expand_dims(patch,axis=-1))\n",
    "        return patches\n"
   ]
  },
  {
   "cell_type": "markdown",
   "metadata": {},
   "source": [
    "## creating the ghaphs"
   ]
  },
  {
   "cell_type": "code",
   "execution_count": 6,
   "metadata": {},
   "outputs": [],
   "source": [
    "padgen = PatchGen()\n",
    "segmentation_algorithm = lambda x: slic(x, n_segments=75, max_iter=50)\n"
   ]
  },
  {
   "cell_type": "code",
   "execution_count": 7,
   "metadata": {},
   "outputs": [],
   "source": [
    "def graph_maker(image, labels):\n",
    "    def _weight_mean_color(graph, src, dst, n):\n",
    "        diff = graph.node[dst]['mean color'] - graph.node[n]['mean color']\n",
    "        diff = np.linalg.norm(diff)\n",
    "        return {'weight': diff}\n",
    "\n",
    "\n",
    "    def merge_mean_color(graph, src, dst):\n",
    "        graph.node[dst]['total color'] += graph.node[src]['total color']\n",
    "        graph.node[dst]['pixel count'] += graph.node[src]['pixel count']\n",
    "        graph.node[dst]['mean color'] = (graph.node[dst]['total color'] /\n",
    "                                         graph.node[dst]['pixel count'])\n",
    "\n",
    "    g = graph.rag_mean_color(image,labels)\n",
    "    \n",
    "    offset = 1\n",
    "    # create a map array\n",
    "    map_array = np.arange(labels.max() + 1)\n",
    "    for n, d in g.nodes(data=True):\n",
    "        for label in d['labels']:\n",
    "            map_array[label] = offset\n",
    "        offset += 1\n",
    "        \n",
    "    # compute centroids to the nodes\n",
    "    g_labels = map_array[labels]\n",
    "    regions = regionprops(g_labels)\n",
    "    for (n, data), region in zip(g.nodes(data=True), regions):\n",
    "        data['centroid'] = region['centroid']\n",
    "        \n",
    "    while g.number_of_nodes()>75:    \n",
    "        edges=sorted(g.edges(data=True), key=lambda t: t[2].get('weight', 1))\n",
    "        src, dst = edges[0][0], edges[0][1]\n",
    "        merge_mean_color(g, src, dst)\n",
    "        g.merge_nodes(src, dst, weight_func=_weight_mean_color)\n",
    "    return g"
   ]
  },
  {
   "cell_type": "code",
   "execution_count": 11,
   "metadata": {
    "scrolled": false
   },
   "outputs": [],
   "source": [
    "def make_dataset(target):\n",
    "    N = 100 #combined.shape[0]\n",
    "    if target == 'training':\n",
    "        value_range = range(0,N-20)\n",
    "    else:\n",
    "        value_range = range(N-20,N)\n",
    "#     N = combined.shape[0]\n",
    "#     if target == 'training':\n",
    "#         value_range = range(0,N-2000)\n",
    "#     else:\n",
    "#         value_range = range(N-2000,N)\n",
    "    x = []\n",
    "    y = []\n",
    "    pos = []\n",
    "    edge_index = []\n",
    "    edge_slice = [0]\n",
    "    for i in tqdm(value_range):\n",
    "        w = padgen.transform(combined[i])\n",
    "        m = padgen.transform(np.expand_dims(mask[i],axis=2))\n",
    "        s = [segmentation_algorithm(ww.squeeze()) for ww in w]\n",
    "        g = [graph_maker(ww.squeeze(), ss) for ww, ss in zip(w,s)]\n",
    "        for mm, gg in zip(m,g):\n",
    "            node_pos = list(map(lambda n: n[1]['centroid'], gg.nodes(data=True)))\n",
    "            node_values = list(map(lambda n: n[1]['mean color'][0], gg.nodes(data=True)))\n",
    "            x.append(node_values)\n",
    "            pos.append(node_pos)\n",
    "            edge_index +=[[e[0],e[1]] for e in gg.edges]\n",
    "            last_slice = edge_slice[-1]\n",
    "            edge_slice += [last_slice+gg.number_of_edges()]\n",
    "            y.append(mm[mm.shape[0]//2+1,mm.shape[1]//2+1,0])\n",
    "    data = (torch.tensor(x),\n",
    "        torch.tensor(edge_index).t(),\n",
    "        torch.tensor(edge_slice),\n",
    "        torch.tensor(pos),\n",
    "        torch.tensor(y))\n",
    "    if target=='training':\n",
    "        torch.save(data, '../data/M2NIST/dataTrain.pt')\n",
    "    else:\n",
    "        torch.save(data, '../data/M2NIST/dataTest.pt')"
   ]
  },
  {
   "cell_type": "code",
   "execution_count": null,
   "metadata": {},
   "outputs": [
    {
     "name": "stderr",
     "output_type": "stream",
     "text": [
      "\n",
      "  0%|          | 0/80 [00:00<?, ?it/s]\u001b[A\n",
      "  1%|▏         | 1/80 [00:02<02:54,  2.21s/it]\u001b[A\n",
      "  2%|▎         | 2/80 [00:04<02:51,  2.20s/it]\u001b[A\n",
      "  4%|▍         | 3/80 [00:06<02:48,  2.19s/it]\u001b[A\n",
      "  5%|▌         | 4/80 [00:08<02:48,  2.21s/it]\u001b[A\n",
      "  6%|▋         | 5/80 [00:11<02:47,  2.23s/it]\u001b[A\n",
      "  8%|▊         | 6/80 [00:13<02:45,  2.24s/it]\u001b[A\n",
      "  9%|▉         | 7/80 [00:15<02:42,  2.22s/it]\u001b[A\n",
      " 10%|█         | 8/80 [00:17<02:39,  2.21s/it]\u001b[A\n",
      " 11%|█▏        | 9/80 [00:19<02:36,  2.20s/it]\u001b[A\n",
      " 12%|█▎        | 10/80 [00:22<02:32,  2.18s/it]\u001b[A\n",
      " 14%|█▍        | 11/80 [00:24<02:30,  2.18s/it]\u001b[A\n",
      " 15%|█▌        | 12/80 [00:26<02:27,  2.18s/it]\u001b[A\n",
      " 16%|█▋        | 13/80 [00:28<02:25,  2.17s/it]\u001b[A"
     ]
    }
   ],
   "source": [
    "make_dataset('training')"
   ]
  },
  {
   "cell_type": "code",
   "execution_count": null,
   "metadata": {},
   "outputs": [],
   "source": [
    "make_dataset('testing')"
   ]
  },
  {
   "cell_type": "code",
   "execution_count": null,
   "metadata": {},
   "outputs": [],
   "source": []
  }
 ],
 "metadata": {
  "kernelspec": {
   "display_name": "th",
   "language": "python",
   "name": "th"
  },
  "language_info": {
   "codemirror_mode": {
    "name": "ipython",
    "version": 3
   },
   "file_extension": ".py",
   "mimetype": "text/x-python",
   "name": "python",
   "nbconvert_exporter": "python",
   "pygments_lexer": "ipython3",
   "version": "3.7.3"
  }
 },
 "nbformat": 4,
 "nbformat_minor": 2
}
