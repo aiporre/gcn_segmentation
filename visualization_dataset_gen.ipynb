{
 "cells": [
  {
   "cell_type": "code",
   "execution_count": 1,
   "metadata": {},
   "outputs": [
    {
     "name": "stdout",
     "output_type": "stream",
     "text": [
      "reading data\n"
     ]
    }
   ],
   "source": [
    "# from create_dataset_shorter import *\n",
    "from create_dataset_more_conectivity import *\n",
    "import matplotlib.cm as cm\n",
    "from skimage.segmentation import *\n",
    "\n",
    "%matplotlib inline"
   ]
  },
  {
   "cell_type": "code",
   "execution_count": 2,
   "metadata": {},
   "outputs": [],
   "source": [
    "# def create_one_sample(i):\n",
    "#     x = []\n",
    "#     y = []\n",
    "#     pos = []\n",
    "#     edge_index = []\n",
    "#     edge_slice = [0]\n",
    "#     print('Generating patches')\n",
    "#     w = padgen.transform(combined[i])\n",
    "#     print('Done')\n",
    "#     print('Computing central pixels')\n",
    "#     m = padgen.get_central_pixels(mask[i])\n",
    "#     print('Done')\n",
    "#     print('Segmentating of each patch')\n",
    "#     s = [segmentation_algorithm(ww.squeeze()) for ww in tqdm(w)]\n",
    "#     print('Done')\n",
    "#     print('generating graphs')\n",
    "#     g = [graph_maker(ww.squeeze(), ss) for ww, ss in tqdm(list(zip(w,s)))]\n",
    "#     print('Done')\n",
    "#     print('Collecting data')\n",
    "#     for mm, gg in zip(m,g):\n",
    "#         node_pos = np.zeros((gg.number_of_nodes(),2))\n",
    "#         for k,d in gg.nodes(data=True):\n",
    "#             node_pos[k,0] = d['centroid'][0]\n",
    "#             node_pos[k,1] = d['centroid'][1] \n",
    "#         node_values = list(map(lambda n: n[1]['mean color'][0], gg.nodes(data=True)))\n",
    "#         x.append(node_values)\n",
    "#         pos.append(node_pos)\n",
    "#         edge_index +=[[e[0],e[1]] for e in gg.edges]\n",
    "#         last_slice = edge_slice[-1]\n",
    "#         edge_slice += [last_slice+gg.number_of_edges()]\n",
    "#         y.append(mm)\n",
    "#     print('Done')\n",
    "#     data = (torch.tensor(x),\n",
    "#         torch.tensor(edge_index).t(),\n",
    "#         torch.tensor(edge_slice),\n",
    "#         torch.tensor(pos),\n",
    "#         torch.tensor(y),\n",
    "#         w,\n",
    "#         s,\n",
    "#         g)\n",
    "#     return data"
   ]
  },
  {
   "cell_type": "code",
   "execution_count": 3,
   "metadata": {},
   "outputs": [],
   "source": [
    "# def plot_one(d,idx):\n",
    "#     g = d[7][idx]\n",
    "#     image = d[5][idx].copy()\n",
    "#     start, end = d[2][idx],d[2][idx+1] \n",
    "#     pos_x = d[3][idx,:,0].numpy()\n",
    "#     pos_y = d[3][idx,:,1].numpy()\n",
    "#     coo_matrix = d[1][:,start:end] \n",
    "#     plt.figure(figsize=(10,10))\n",
    "#     xmin, xmax, ymin, ymax = 0, 21, 0, 21\n",
    "#     plt.subplot(1,2,1)\n",
    "#     for i in range(d[7][idx].number_of_edges()):\n",
    "#         ii, jj = coo_matrix[0,i], coo_matrix[1,i]\n",
    "#         plt.plot([pos_x[ii],pos_x[jj]],[pos_y[ii],pos_y[jj]],'k-',alpha=0.1)\n",
    "#     plt.plot(pos_x, pos_y, 'ro')\n",
    "#     plt.axis('scaled')\n",
    "#     plt.xlim([xmin,xmax])\n",
    "#     plt.ylim([ymin,ymax])\n",
    "#     plt.subplot(1,2,2)\n",
    "#     image = d[5][idx].copy()\n",
    "#     image = color.gray2rgb(image.squeeze())\n",
    "#     print(image.shape)\n",
    "#     plt.imshow(image.transpose((1,0,2)))\n",
    "#     for i in range(d[7][idx].number_of_edges()):\n",
    "#         ii, jj = coo_matrix[0,i], coo_matrix[1,i]\n",
    "#         plt.plot([pos_x[ii],pos_x[jj]],[pos_y[ii],pos_y[jj]],'g-',alpha=1.0)\n",
    "#     values =  d[0][idx,:].numpy()\n",
    "#     colors = [cm.cool(color) for color in values]\n",
    "    \n",
    "#     for xx, yy, cc in zip(pos_x, pos_y, colors):\n",
    "#         plt.plot(xx, yy, 'o', color=cc)\n",
    "#     plt.axis('scaled')\n",
    "    \n",
    "#     plt.xlim([xmin,xmax])\n",
    "#     plt.ylim([ymin,ymax])"
   ]
  },
  {
   "cell_type": "code",
   "execution_count": null,
   "metadata": {},
   "outputs": [],
   "source": [
    "# def plot_graph(g, image=None):\n",
    "#     nodes_data = dict(g.nodes(data=True))\n",
    "#     pos_x, pos_y = np.zeros(g.number_of_nodes()), np.zeros(g.number_of_nodes())\n",
    "#     for k,d in nodes_data.items():\n",
    "#         pos_x[k] = d['centroid'][0]\n",
    "#         pos_y[k] = d['centroid'][1] \n",
    "\n",
    "#     np.zeros(g.number_of_nodes())\n",
    "#     coo_matrix = np.array([[e[0],e[1]] for e in g.edges]).T\n",
    "#     print(coo_matrix)\n",
    "#     plt.figure(figsize=(10,10))\n",
    "#     if image is not None:\n",
    "#         xmin, xmax, ymin, ymax = -0.5, image.shape[0]-0.5, -0.5, image.shape[1]-0.5\n",
    "#     else:\n",
    "#         xmin, xmax, ymin, ymax = -0.5, max(pos_x)+0.5, -0.5, max(pos_y)+0.5\n",
    "#     if image is not None:\n",
    "#         image = image.copy()/image.max()\n",
    "#         image = color.gray2rgb(image.squeeze())\n",
    "#         plt.imshow(image.transpose((1,0,2)))\n",
    "    \n",
    "#     for i in range(g.number_of_edges()):\n",
    "#         ii, jj = coo_matrix[0,i], coo_matrix[1,i]\n",
    "#         plt.plot([pos_x[ii],pos_x[jj]],[pos_y[ii],pos_y[jj]],'g-',alpha=1.0)\n",
    "#     print(list(nodes_data.values())[0])\n",
    "#     values = np.zeros(g.number_of_nodes())\n",
    "#     for k, d in nodes_data.items():\n",
    "#         values[k] = d['mean color'][0] \n",
    "#     colors = [cm.viridis(color) for color in values]\n",
    "    \n",
    "#     for xx, yy, cc in zip(pos_x, pos_y, colors):\n",
    "#         plt.plot(xx, yy, 'o', color=cc)\n",
    "#     plt.axis('scaled')\n",
    "# #     plt.colorbar()\n",
    "#     plt.xlim([xmin,xmax])\n",
    "#     plt.ylim([ymin,ymax])"
   ]
  },
  {
   "cell_type": "code",
   "execution_count": null,
   "metadata": {},
   "outputs": [],
   "source": [
    "def plot_one(d,idx):\n",
    "    g = d[7][idx]\n",
    "    image = d[5][idx].copy()\n",
    "    plot_graph(g)\n",
    "    plot_graph(g,image=image)"
   ]
  },
  {
   "cell_type": "code",
   "execution_count": null,
   "metadata": {
    "scrolled": true
   },
   "outputs": [
    {
     "name": "stderr",
     "output_type": "stream",
     "text": [
      "  1%|          | 44/5376 [00:00<00:12, 433.17it/s]"
     ]
    },
    {
     "name": "stdout",
     "output_type": "stream",
     "text": [
      "Generating patches\n",
      "Done\n",
      "Computing central pixels\n",
      "Done\n",
      "Segmentating of each patch\n"
     ]
    },
    {
     "name": "stderr",
     "output_type": "stream",
     "text": [
      "100%|██████████| 5376/5376 [00:10<00:00, 517.16it/s]\n",
      "  0%|          | 4/5376 [00:00<02:47, 32.05it/s]"
     ]
    },
    {
     "name": "stdout",
     "output_type": "stream",
     "text": [
      "Done\n",
      "generating graphs\n"
     ]
    },
    {
     "name": "stderr",
     "output_type": "stream",
     "text": [
      "100%|██████████| 5376/5376 [02:58<00:00, 32.49it/s]"
     ]
    }
   ],
   "source": [
    "# segmentation_algorithm = lambda x: slic(x, n_segments=100, compactness=0.1, max_iter=20)\n",
    "data = create_one_sample(0,threshold_dist=3.5)\n",
    "data[0].size()"
   ]
  },
  {
   "cell_type": "code",
   "execution_count": null,
   "metadata": {},
   "outputs": [],
   "source": [
    "plot_one(data,1541)"
   ]
  },
  {
   "cell_type": "code",
   "execution_count": null,
   "metadata": {},
   "outputs": [],
   "source": [
    "segmentation_algorithm = lambda x: slic(x, n_segments=9, compactness=0.0001, max_iter=20)\n",
    "# segmentation_algorithm = lambda x: random_walker(x,np.random.randint(1,9,size=x.shape))\n"
   ]
  },
  {
   "cell_type": "code",
   "execution_count": null,
   "metadata": {},
   "outputs": [],
   "source": [
    "test1 = np.array([[0.2,0.2,1,1,0,0],[0.2,0.2,1,1,0,0],[0.7,0.7,0,0,1,1],[0.7,0.7,0,0,1,1],[0,0,1,1,0,0],[0,0,1,1,0,0]],dtype=float)\n",
    "mask1 = segmentation_algorithm(test1)"
   ]
  },
  {
   "cell_type": "code",
   "execution_count": null,
   "metadata": {},
   "outputs": [],
   "source": [
    "plt.subplot(121)\n",
    "plt.imshow(test1)\n",
    "plt.subplot(122)\n",
    "plt.imshow(mask1)"
   ]
  },
  {
   "cell_type": "code",
   "execution_count": null,
   "metadata": {},
   "outputs": [],
   "source": [
    "g = graph_maker(test1,mask1,num_nodes=9,threshold=3.0)"
   ]
  },
  {
   "cell_type": "code",
   "execution_count": null,
   "metadata": {},
   "outputs": [],
   "source": [
    "print(mask1.shape)\n",
    "plot_graph(g,image=test1)\n",
    "plt.colorbar()"
   ]
  },
  {
   "cell_type": "code",
   "execution_count": null,
   "metadata": {},
   "outputs": [],
   "source": [
    "dict(g.nodes(data=True))"
   ]
  },
  {
   "cell_type": "code",
   "execution_count": null,
   "metadata": {},
   "outputs": [],
   "source": [
    "g.edges"
   ]
  },
  {
   "cell_type": "code",
   "execution_count": null,
   "metadata": {},
   "outputs": [],
   "source": [
    "plt.plot( [0.5, 2.5], [0.5, 0.5])"
   ]
  },
  {
   "cell_type": "code",
   "execution_count": null,
   "metadata": {},
   "outputs": [],
   "source": []
  },
  {
   "cell_type": "code",
   "execution_count": null,
   "metadata": {},
   "outputs": [],
   "source": []
  }
 ],
 "metadata": {
  "kernelspec": {
   "display_name": "th",
   "language": "python",
   "name": "th"
  },
  "language_info": {
   "codemirror_mode": {
    "name": "ipython",
    "version": 3
   },
   "file_extension": ".py",
   "mimetype": "text/x-python",
   "name": "python",
   "nbconvert_exporter": "python",
   "pygments_lexer": "ipython3",
   "version": "3.7.3"
  }
 },
 "nbformat": 4,
 "nbformat_minor": 2
}
