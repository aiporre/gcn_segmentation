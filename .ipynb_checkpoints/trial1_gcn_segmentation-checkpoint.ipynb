{
 "cells": [
  {
   "cell_type": "code",
   "execution_count": 5,
   "metadata": {
    "colab": {
     "base_uri": "https://localhost:8080/",
     "height": 139
    },
    "colab_type": "code",
    "id": "bf_MtHKfMdx4",
    "outputId": "ee5626c9-df8c-4c19-a831-db8e45062074"
   },
   "outputs": [
    {
     "name": "stdout",
     "output_type": "stream",
     "text": [
      "Cloning into 'gcn_air'...\n",
      "remote: Enumerating objects: 166, done.\u001b[K\n",
      "remote: Counting objects: 100% (166/166), done.\u001b[K\n",
      "remote: Compressing objects: 100% (128/128), done.\u001b[K\n",
      "remote: Total 166 (delta 40), reused 156 (delta 30), pack-reused 0\u001b[K\n",
      "Receiving objects: 100% (166/166), 3.76 MiB | 6.64 MiB/s, done.\n",
      "Resolving deltas: 100% (40/40), done.\n"
     ]
    }
   ],
   "source": [
    "!git clone https://github.com/aiporre/gcn_segmentation.git gcn_air"
   ]
  },
  {
   "cell_type": "code",
   "execution_count": 0,
   "metadata": {
    "colab": {},
    "colab_type": "code",
    "id": "v0Ev4tTfM5Ls"
   },
   "outputs": [],
   "source": []
  },
  {
   "cell_type": "code",
   "execution_count": 10,
   "metadata": {
    "colab": {
     "base_uri": "https://localhost:8080/",
     "height": 52
    },
    "colab_type": "code",
    "id": "BucXboJ_M8YE",
    "outputId": "5b47f4b5-da39-404b-f877-85194a9a2cb6"
   },
   "outputs": [
    {
     "name": "stdout",
     "output_type": "stream",
     "text": [
      "[Errno 2] No such file or directory: 'gcn_air'\n",
      "/content/gcn_air\n"
     ]
    }
   ],
   "source": [
    "# import sys\n",
    "# sys.path.append('./gcn_air')\n",
    "%cd gcn_air"
   ]
  },
  {
   "cell_type": "code",
   "execution_count": 14,
   "metadata": {
    "colab": {
     "base_uri": "https://localhost:8080/",
     "height": 83,
     "resources": {
      "http://localhost:8080/nbextensions/google.colab/files.js": {
       "data": "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",
       "headers": [
        [
         "content-type",
         "application/javascript"
        ]
       ],
       "ok": true,
       "status": 200,
       "status_text": "OK"
      }
     }
    },
    "colab_type": "code",
    "id": "jlRbjLrYNbNh",
    "outputId": "23bd3263-5c2d-409e-b9ed-744f8cae2f7b"
   },
   "outputs": [
    {
     "data": {
      "text/html": [
       "\n",
       "     <input type=\"file\" id=\"files-3b0bb18b-c06d-4f3b-872f-1b0a84fec076\" name=\"files[]\" multiple disabled />\n",
       "     <output id=\"result-3b0bb18b-c06d-4f3b-872f-1b0a84fec076\">\n",
       "      Upload widget is only available when the cell has been executed in the\n",
       "      current browser session. Please rerun this cell to enable.\n",
       "      </output>\n",
       "      <script src=\"/nbextensions/google.colab/files.js\"></script> "
      ],
      "text/plain": [
       "<IPython.core.display.HTML object>"
      ]
     },
     "metadata": {
      "tags": []
     },
     "output_type": "display_data"
    },
    {
     "name": "stdout",
     "output_type": "stream",
     "text": [
      "Saving data.tar.xz to data.tar (2).xz\n"
     ]
    }
   ],
   "source": [
    "from google.colab import files\n",
    "uploaded = files.upload()"
   ]
  },
  {
   "cell_type": "code",
   "execution_count": 35,
   "metadata": {
    "colab": {
     "base_uri": "https://localhost:8080/",
     "height": 208
    },
    "colab_type": "code",
    "id": "qVwMmukH7iXl",
    "outputId": "0f9a0387-b804-45a3-8797-ffd6d75b045f"
   },
   "outputs": [
    {
     "name": "stdout",
     "output_type": "stream",
     "text": [
      "--2019-06-03 10:42:47--  https://transfer.sh/3rm5B/data2.tar.xz\n",
      "Resolving transfer.sh (transfer.sh)... 144.76.136.153\n",
      "Connecting to transfer.sh (transfer.sh)|144.76.136.153|:443... connected.\n",
      "HTTP request sent, awaiting response... 200 OK\n",
      "Length: 39543956 (38M) [application/x-xz]\n",
      "Saving to: ‘data.tar.xz’\n",
      "\n",
      "data.tar.xz         100%[===================>]  37.71M  88.1MB/s    in 0.4s    \n",
      "\n",
      "2019-06-03 10:42:48 (88.1 MB/s) - ‘data.tar.xz’ saved [39543956/39543956]\n",
      "\n"
     ]
    }
   ],
   "source": [
    "!rm data.tar.xz\n",
    "!wget https://transfer.sh/3rm5B/data2.tar.xz -O data.tar.xz"
   ]
  },
  {
   "cell_type": "code",
   "execution_count": 36,
   "metadata": {
    "colab": {
     "base_uri": "https://localhost:8080/",
     "height": 295
    },
    "colab_type": "code",
    "id": "zSvjmc0BPFn3",
    "outputId": "cdfe3b25-1a73-46b2-c810-472d6960b1a2"
   },
   "outputs": [
    {
     "name": "stdout",
     "output_type": "stream",
     "text": [
      " create_dataset.py\t    'data.tar (2).xz'   lib\n",
      " create_dataset_shorter.py   data.tar.xz        README.md\n",
      " data\t\t\t     examples\t        requirements.txt\n",
      "data/\n",
      "data/M2NIST/\n",
      "data/M2NIST/overfit.pth\n",
      "data/M2NIST/combined.npy\n",
      "data/M2NIST/raw/\n",
      "data/M2NIST/raw/data1.pt\n",
      "data/M2NIST/raw/data2.pt\n",
      "data/M2NIST/processed/\n",
      "data/M2NIST/processed/training.pt\n",
      "data/M2NIST/processed/testing.pt\n",
      "data/M2NIST/segmented.npy\n",
      "unzip:  cannot find or open data/M2NIST/combined.npy.zip, data/M2NIST/combined.npy.zip.zip or data/M2NIST/combined.npy.zip.ZIP.\n",
      "unzip:  cannot find or open data/M2NIST/segmented.npy.zip, data/M2NIST/segmented.npy.zip.zip or data/M2NIST/segmented.npy.zip.ZIP.\n"
     ]
    }
   ],
   "source": [
    "# !mv 'data.tar (1).xz' data.tar.xz\n",
    "!ls\n",
    "!tar xvf data.tar.xz\n",
    "!unzip data/M2NIST/combined.npy.zip -d data/M2NIST\n",
    "!unzip data/M2NIST/segmented.npy.zip -d data/M2NIST/"
   ]
  },
  {
   "cell_type": "code",
   "execution_count": 0,
   "metadata": {
    "colab": {},
    "colab_type": "code",
    "id": "oYZ1N1G6V59H"
   },
   "outputs": [],
   "source": [
    "!rm data/M2NIST/segmented.npy.zip\n",
    "!rm data/M2NIST/combined.npy.zip"
   ]
  },
  {
   "cell_type": "code",
   "execution_count": 27,
   "metadata": {
    "colab": {
     "base_uri": "https://localhost:8080/",
     "height": 34
    },
    "colab_type": "code",
    "id": "_rUf9KKdV9Yu",
    "outputId": "9a92a470-8738-411e-8273-9e82e4577ac9"
   },
   "outputs": [
    {
     "name": "stdout",
     "output_type": "stream",
     "text": [
      "Already up to date.\n"
     ]
    }
   ],
   "source": [
    "!git pull"
   ]
  },
  {
   "cell_type": "code",
   "execution_count": 28,
   "metadata": {
    "colab": {
     "base_uri": "https://localhost:8080/",
     "height": 34
    },
    "colab_type": "code",
    "id": "vPiYOJQMalfI",
    "outputId": "5def8cb5-c36c-4eb9-dfcf-ad2b7f50d76e"
   },
   "outputs": [
    {
     "name": "stdout",
     "output_type": "stream",
     "text": [
      "/content\n"
     ]
    }
   ],
   "source": [
    "%cd ../"
   ]
  },
  {
   "cell_type": "code",
   "execution_count": 30,
   "metadata": {
    "colab": {
     "base_uri": "https://localhost:8080/",
     "height": 1340
    },
    "colab_type": "code",
    "id": "u8h4AniIa_YV",
    "outputId": "12692fa4-bcb3-46e5-8bdc-1ab756bac959"
   },
   "outputs": [
    {
     "name": "stdout",
     "output_type": "stream",
     "text": [
      "Cloning into 'pytorch_geometric'...\n",
      "remote: Enumerating objects: 151, done.\u001b[K\n",
      "remote: Counting objects: 100% (151/151), done.\u001b[K\n",
      "remote: Compressing objects: 100% (66/66), done.\u001b[K\n",
      "remote: Total 18267 (delta 95), reused 123 (delta 85), pack-reused 18116\u001b[K\n",
      "Receiving objects: 100% (18267/18267), 10.19 MiB | 12.35 MiB/s, done.\n",
      "Resolving deltas: 100% (13577/13577), done.\n",
      "/content/pytorch_geometric\n",
      "Collecting torch-scatter\n",
      "  Downloading https://files.pythonhosted.org/packages/07/c0/f7ac424496f4a3bcb31aa993fba29077a6d42fc2624c66e90b58a566a98e/torch_scatter-1.2.0.tar.gz\n",
      "Building wheels for collected packages: torch-scatter\n",
      "  Building wheel for torch-scatter (setup.py) ... \u001b[?25l\u001b[?25hdone\n",
      "  Stored in directory: /tmp/pip-ephem-wheel-cache-ldc0w3bz/wheels/da/50/84/0bae0cf7e1bcf3cc97f8ebea2e5ef8e95d021ef3eb002fdd3e\n",
      "Successfully built torch-scatter\n",
      "Installing collected packages: torch-scatter\n",
      "Successfully installed torch-scatter-1.2.0\n",
      "Collecting torch-sparse\n",
      "  Downloading https://files.pythonhosted.org/packages/b0/0a/2ff678e0d04e524dd2cf990a6202ced8c0ffe3fe6b08e02f25cc9fd27da0/torch_sparse-0.4.0.tar.gz\n",
      "Requirement already satisfied: scipy in /usr/local/lib/python3.6/dist-packages (from torch-sparse) (1.3.0)\n",
      "Requirement already satisfied: numpy>=1.13.3 in /usr/local/lib/python3.6/dist-packages (from scipy->torch-sparse) (1.16.4)\n",
      "Building wheels for collected packages: torch-sparse\n",
      "  Building wheel for torch-sparse (setup.py) ... \u001b[?25l\u001b[?25hdone\n",
      "  Stored in directory: /tmp/pip-ephem-wheel-cache-ak7pdnqf/wheels/9d/83/0a/38ea460df5586a075b877fe089619e5238487712a0645940bd\n",
      "Successfully built torch-sparse\n",
      "Installing collected packages: torch-sparse\n",
      "Successfully installed torch-sparse-0.4.0\n",
      "Collecting torch-cluster\n",
      "  Downloading https://files.pythonhosted.org/packages/6b/3b/a34740494a1b25cb2ef4ed09e5d5ef6bc75be884f6b25bd93a7acdf03134/torch_cluster-1.4.0.tar.gz\n",
      "Requirement already satisfied: scipy in /usr/local/lib/python3.6/dist-packages (from torch-cluster) (1.3.0)\n",
      "Requirement already satisfied: numpy>=1.13.3 in /usr/local/lib/python3.6/dist-packages (from scipy->torch-cluster) (1.16.4)\n",
      "Building wheels for collected packages: torch-cluster\n",
      "  Building wheel for torch-cluster (setup.py) ... \u001b[?25l\u001b[?25hdone\n",
      "  Stored in directory: /tmp/pip-ephem-wheel-cache-7cvmsgrr/wheels/68/41/17/d91e88395482cbae59b4ff9d1e093863fc29ac1afc354aba59\n",
      "Successfully built torch-cluster\n",
      "Installing collected packages: torch-cluster\n",
      "Successfully installed torch-cluster-1.4.0\n",
      "Collecting torch-spline-conv\n",
      "  Downloading https://files.pythonhosted.org/packages/3c/dd/daa9d0b7b2ede913e573876ae286a58ec296678858f2814ff6d6789b234f/torch_spline_conv-1.1.0.tar.gz\n",
      "Building wheels for collected packages: torch-spline-conv\n",
      "  Building wheel for torch-spline-conv (setup.py) ... \u001b[?25l\u001b[?25hdone\n",
      "  Stored in directory: /tmp/pip-ephem-wheel-cache-onmbqfdy/wheels/c8/00/1f/9c414a9a5f340dd8d2e5e362d1bb5cad91fc7aec78c935fd66\n",
      "Successfully built torch-spline-conv\n",
      "Installing collected packages: torch-spline-conv\n",
      "Successfully installed torch-spline-conv-1.1.0\n",
      "Collecting torch-geometric\n",
      "\u001b[?25l  Downloading https://files.pythonhosted.org/packages/bf/42/26de98dd839eea5a720269c3bf02a552322b4297064e0cd4c8b33cf5f780/torch_geometric-1.2.1.tar.gz (95kB)\n",
      "\u001b[K     |████████████████████████████████| 102kB 11.5MB/s \n",
      "\u001b[?25hRequirement already satisfied: numpy in /usr/local/lib/python3.6/dist-packages (from torch-geometric) (1.16.4)\n",
      "Requirement already satisfied: scipy in /usr/local/lib/python3.6/dist-packages (from torch-geometric) (1.3.0)\n",
      "Requirement already satisfied: networkx in /usr/local/lib/python3.6/dist-packages (from torch-geometric) (2.3)\n",
      "Requirement already satisfied: scikit-learn in /usr/local/lib/python3.6/dist-packages (from torch-geometric) (0.21.2)\n",
      "Collecting plyfile (from torch-geometric)\n",
      "  Downloading https://files.pythonhosted.org/packages/9b/82/d4069cbb49954d44087c37ff616cb423d3e2c0dd276378cdb4af3e3ef2ee/plyfile-0.7.tar.gz\n",
      "Requirement already satisfied: pandas in /usr/local/lib/python3.6/dist-packages (from torch-geometric) (0.24.2)\n",
      "Collecting rdflib (from torch-geometric)\n",
      "\u001b[?25l  Downloading https://files.pythonhosted.org/packages/3c/fe/630bacb652680f6d481b9febbb3e2c3869194a1a5fc3401a4a41195a2f8f/rdflib-4.2.2-py3-none-any.whl (344kB)\n",
      "\u001b[K     |████████████████████████████████| 348kB 26.2MB/s \n",
      "\u001b[?25hRequirement already satisfied: h5py in /usr/local/lib/python3.6/dist-packages (from torch-geometric) (2.8.0)\n",
      "Requirement already satisfied: decorator>=4.3.0 in /usr/local/lib/python3.6/dist-packages (from networkx->torch-geometric) (4.4.0)\n",
      "Requirement already satisfied: joblib>=0.11 in /usr/local/lib/python3.6/dist-packages (from scikit-learn->torch-geometric) (0.13.2)\n",
      "Requirement already satisfied: pytz>=2011k in /usr/local/lib/python3.6/dist-packages (from pandas->torch-geometric) (2018.9)\n",
      "Requirement already satisfied: python-dateutil>=2.5.0 in /usr/local/lib/python3.6/dist-packages (from pandas->torch-geometric) (2.5.3)\n",
      "Requirement already satisfied: pyparsing in /usr/local/lib/python3.6/dist-packages (from rdflib->torch-geometric) (2.4.0)\n",
      "Collecting isodate (from rdflib->torch-geometric)\n",
      "\u001b[?25l  Downloading https://files.pythonhosted.org/packages/9b/9f/b36f7774ff5ea8e428fdcfc4bb332c39ee5b9362ddd3d40d9516a55221b2/isodate-0.6.0-py2.py3-none-any.whl (45kB)\n",
      "\u001b[K     |████████████████████████████████| 51kB 27.3MB/s \n",
      "\u001b[?25hRequirement already satisfied: six in /usr/local/lib/python3.6/dist-packages (from h5py->torch-geometric) (1.12.0)\n",
      "Building wheels for collected packages: torch-geometric, plyfile\n",
      "  Building wheel for torch-geometric (setup.py) ... \u001b[?25l\u001b[?25hdone\n",
      "  Stored in directory: /root/.cache/pip/wheels/cc/52/03/4ffa09bfe63693035a218fd50b059a9ad0f1638d5d9a7a86f2\n",
      "  Building wheel for plyfile (setup.py) ... \u001b[?25l\u001b[?25hdone\n",
      "  Stored in directory: /root/.cache/pip/wheels/91/3e/ee/e5630ef0fd53cedaa6e911ba27e8b40fff034388d1f264bb92\n",
      "Successfully built torch-geometric plyfile\n",
      "Installing collected packages: plyfile, isodate, rdflib, torch-geometric\n",
      "Successfully installed isodate-0.6.0 plyfile-0.7 rdflib-4.2.2 torch-geometric-1.2.1\n"
     ]
    }
   ],
   "source": [
    "!git clone https://github.com/rusty1s/pytorch_geometric.git\n",
    "%cd ./pytorch_geometric\n",
    "\n",
    "!pip install --no-cache-dir torch-scatter\n",
    "!pip install --no-cache-dir torch-sparse\n",
    "!pip install --no-cache-dir torch-cluster\n",
    "!pip install --no-cache-dir torch-spline-conv\n",
    "!pip install torch-geometric\n"
   ]
  },
  {
   "cell_type": "code",
   "execution_count": 31,
   "metadata": {
    "colab": {
     "base_uri": "https://localhost:8080/",
     "height": 3664
    },
    "colab_type": "code",
    "id": "0JsazusDbJN4",
    "outputId": "32bcdd7d-7d73-4b99-b076-75c44fe7809d"
   },
   "outputs": [
    {
     "name": "stdout",
     "output_type": "stream",
     "text": [
      "Downloading https://github.com/kimiyoung/planetoid/raw/master/data/ind.cora.x\n",
      "Downloading https://github.com/kimiyoung/planetoid/raw/master/data/ind.cora.tx\n",
      "Downloading https://github.com/kimiyoung/planetoid/raw/master/data/ind.cora.allx\n",
      "Downloading https://github.com/kimiyoung/planetoid/raw/master/data/ind.cora.y\n",
      "Downloading https://github.com/kimiyoung/planetoid/raw/master/data/ind.cora.ty\n",
      "Downloading https://github.com/kimiyoung/planetoid/raw/master/data/ind.cora.ally\n",
      "Downloading https://github.com/kimiyoung/planetoid/raw/master/data/ind.cora.graph\n",
      "Downloading https://github.com/kimiyoung/planetoid/raw/master/data/ind.cora.test.index\n",
      "Processing...\n",
      "Done!\n",
      "Epoch: 001, Train: 0.1929, Val: 0.1320, Test: 0.1430\n",
      "Epoch: 002, Train: 0.2000, Val: 0.1320, Test: 0.1430\n",
      "Epoch: 003, Train: 0.4286, Val: 0.2060, Test: 0.2090\n",
      "Epoch: 004, Train: 0.6714, Val: 0.3700, Test: 0.3940\n",
      "Epoch: 005, Train: 0.6929, Val: 0.4920, Test: 0.5090\n",
      "Epoch: 006, Train: 0.7357, Val: 0.4920, Test: 0.5090\n",
      "Epoch: 007, Train: 0.7714, Val: 0.4920, Test: 0.5090\n",
      "Epoch: 008, Train: 0.7929, Val: 0.4960, Test: 0.5180\n",
      "Epoch: 009, Train: 0.8143, Val: 0.5420, Test: 0.5370\n",
      "Epoch: 010, Train: 0.8286, Val: 0.5560, Test: 0.5670\n",
      "Epoch: 011, Train: 0.8357, Val: 0.5560, Test: 0.5670\n",
      "Epoch: 012, Train: 0.8643, Val: 0.5740, Test: 0.5700\n",
      "Epoch: 013, Train: 0.8714, Val: 0.5740, Test: 0.5700\n",
      "Epoch: 014, Train: 0.8929, Val: 0.5980, Test: 0.6100\n",
      "Epoch: 015, Train: 0.9000, Val: 0.6180, Test: 0.6300\n",
      "Epoch: 016, Train: 0.8929, Val: 0.6320, Test: 0.6480\n",
      "Epoch: 017, Train: 0.8929, Val: 0.6420, Test: 0.6580\n",
      "Epoch: 018, Train: 0.8929, Val: 0.6460, Test: 0.6630\n",
      "Epoch: 019, Train: 0.8929, Val: 0.6460, Test: 0.6630\n",
      "Epoch: 020, Train: 0.8786, Val: 0.6460, Test: 0.6630\n",
      "Epoch: 021, Train: 0.8929, Val: 0.6460, Test: 0.6630\n",
      "Epoch: 022, Train: 0.8786, Val: 0.6460, Test: 0.6630\n",
      "Epoch: 023, Train: 0.8857, Val: 0.6460, Test: 0.6630\n",
      "Epoch: 024, Train: 0.9143, Val: 0.6460, Test: 0.6630\n",
      "Epoch: 025, Train: 0.9357, Val: 0.6460, Test: 0.6630\n",
      "Epoch: 026, Train: 0.9429, Val: 0.6460, Test: 0.6630\n",
      "Epoch: 027, Train: 0.9357, Val: 0.6560, Test: 0.6800\n",
      "Epoch: 028, Train: 0.9357, Val: 0.6680, Test: 0.6910\n",
      "Epoch: 029, Train: 0.9357, Val: 0.6800, Test: 0.7010\n",
      "Epoch: 030, Train: 0.9357, Val: 0.6880, Test: 0.7130\n",
      "Epoch: 031, Train: 0.9500, Val: 0.6960, Test: 0.7240\n",
      "Epoch: 032, Train: 0.9429, Val: 0.7040, Test: 0.7400\n",
      "Epoch: 033, Train: 0.9429, Val: 0.7100, Test: 0.7500\n",
      "Epoch: 034, Train: 0.9500, Val: 0.7180, Test: 0.7560\n",
      "Epoch: 035, Train: 0.9571, Val: 0.7180, Test: 0.7560\n",
      "Epoch: 036, Train: 0.9571, Val: 0.7200, Test: 0.7600\n",
      "Epoch: 037, Train: 0.9571, Val: 0.7200, Test: 0.7600\n",
      "Epoch: 038, Train: 0.9571, Val: 0.7220, Test: 0.7640\n",
      "Epoch: 039, Train: 0.9571, Val: 0.7220, Test: 0.7640\n",
      "Epoch: 040, Train: 0.9643, Val: 0.7240, Test: 0.7630\n",
      "Epoch: 041, Train: 0.9643, Val: 0.7240, Test: 0.7630\n",
      "Epoch: 042, Train: 0.9643, Val: 0.7240, Test: 0.7630\n",
      "Epoch: 043, Train: 0.9643, Val: 0.7260, Test: 0.7640\n",
      "Epoch: 044, Train: 0.9643, Val: 0.7260, Test: 0.7640\n",
      "Epoch: 045, Train: 0.9643, Val: 0.7320, Test: 0.7700\n",
      "Epoch: 046, Train: 0.9571, Val: 0.7400, Test: 0.7750\n",
      "Epoch: 047, Train: 0.9571, Val: 0.7400, Test: 0.7750\n",
      "Epoch: 048, Train: 0.9571, Val: 0.7460, Test: 0.7790\n",
      "Epoch: 049, Train: 0.9571, Val: 0.7460, Test: 0.7790\n",
      "Epoch: 050, Train: 0.9571, Val: 0.7540, Test: 0.7900\n",
      "Epoch: 051, Train: 0.9571, Val: 0.7540, Test: 0.7900\n",
      "Epoch: 052, Train: 0.9571, Val: 0.7540, Test: 0.7900\n",
      "Epoch: 053, Train: 0.9571, Val: 0.7540, Test: 0.7900\n",
      "Epoch: 054, Train: 0.9571, Val: 0.7540, Test: 0.7900\n",
      "Epoch: 055, Train: 0.9643, Val: 0.7540, Test: 0.7900\n",
      "Epoch: 056, Train: 0.9643, Val: 0.7580, Test: 0.7840\n",
      "Epoch: 057, Train: 0.9643, Val: 0.7600, Test: 0.7890\n",
      "Epoch: 058, Train: 0.9643, Val: 0.7620, Test: 0.7940\n",
      "Epoch: 059, Train: 0.9786, Val: 0.7640, Test: 0.8020\n",
      "Epoch: 060, Train: 0.9786, Val: 0.7680, Test: 0.8020\n",
      "Epoch: 061, Train: 0.9857, Val: 0.7720, Test: 0.8060\n",
      "Epoch: 062, Train: 0.9857, Val: 0.7740, Test: 0.8050\n",
      "Epoch: 063, Train: 0.9857, Val: 0.7740, Test: 0.8050\n",
      "Epoch: 064, Train: 0.9857, Val: 0.7740, Test: 0.8050\n",
      "Epoch: 065, Train: 0.9857, Val: 0.7740, Test: 0.8050\n",
      "Epoch: 066, Train: 0.9857, Val: 0.7760, Test: 0.8010\n",
      "Epoch: 067, Train: 0.9857, Val: 0.7760, Test: 0.8010\n",
      "Epoch: 068, Train: 0.9857, Val: 0.7760, Test: 0.8010\n",
      "Epoch: 069, Train: 0.9857, Val: 0.7760, Test: 0.8010\n",
      "Epoch: 070, Train: 0.9857, Val: 0.7760, Test: 0.8010\n",
      "Epoch: 071, Train: 0.9857, Val: 0.7780, Test: 0.8040\n",
      "Epoch: 072, Train: 0.9857, Val: 0.7780, Test: 0.8040\n",
      "Epoch: 073, Train: 0.9857, Val: 0.7800, Test: 0.8110\n",
      "Epoch: 074, Train: 0.9857, Val: 0.7880, Test: 0.8190\n",
      "Epoch: 075, Train: 0.9857, Val: 0.7880, Test: 0.8190\n",
      "Epoch: 076, Train: 0.9857, Val: 0.7880, Test: 0.8190\n",
      "Epoch: 077, Train: 0.9857, Val: 0.7880, Test: 0.8190\n",
      "Epoch: 078, Train: 0.9857, Val: 0.7880, Test: 0.8190\n",
      "Epoch: 079, Train: 0.9857, Val: 0.7900, Test: 0.8110\n",
      "Epoch: 080, Train: 0.9857, Val: 0.7900, Test: 0.8110\n",
      "Epoch: 081, Train: 0.9857, Val: 0.7900, Test: 0.8110\n",
      "Epoch: 082, Train: 0.9857, Val: 0.7900, Test: 0.8110\n",
      "Epoch: 083, Train: 0.9857, Val: 0.7900, Test: 0.8110\n",
      "Epoch: 084, Train: 0.9857, Val: 0.7900, Test: 0.8110\n",
      "Epoch: 085, Train: 0.9857, Val: 0.7900, Test: 0.8110\n",
      "Epoch: 086, Train: 0.9857, Val: 0.7900, Test: 0.8110\n",
      "Epoch: 087, Train: 0.9857, Val: 0.7900, Test: 0.8110\n",
      "Epoch: 088, Train: 0.9857, Val: 0.7900, Test: 0.8110\n",
      "Epoch: 089, Train: 0.9857, Val: 0.7900, Test: 0.8110\n",
      "Epoch: 090, Train: 0.9857, Val: 0.7900, Test: 0.8110\n",
      "Epoch: 091, Train: 0.9857, Val: 0.7920, Test: 0.8110\n",
      "Epoch: 092, Train: 0.9857, Val: 0.7920, Test: 0.8110\n",
      "Epoch: 093, Train: 0.9857, Val: 0.7920, Test: 0.8110\n",
      "Epoch: 094, Train: 0.9857, Val: 0.7920, Test: 0.8110\n",
      "Epoch: 095, Train: 0.9857, Val: 0.7920, Test: 0.8110\n",
      "Epoch: 096, Train: 0.9857, Val: 0.7920, Test: 0.8110\n",
      "Epoch: 097, Train: 0.9857, Val: 0.7920, Test: 0.8110\n",
      "Epoch: 098, Train: 0.9857, Val: 0.7920, Test: 0.8110\n",
      "Epoch: 099, Train: 0.9857, Val: 0.7940, Test: 0.8180\n",
      "Epoch: 100, Train: 0.9857, Val: 0.7940, Test: 0.8180\n",
      "Epoch: 101, Train: 0.9857, Val: 0.7940, Test: 0.8180\n",
      "Epoch: 102, Train: 0.9857, Val: 0.7940, Test: 0.8180\n",
      "Epoch: 103, Train: 0.9857, Val: 0.7940, Test: 0.8180\n",
      "Epoch: 104, Train: 0.9857, Val: 0.7940, Test: 0.8180\n",
      "Epoch: 105, Train: 0.9857, Val: 0.7940, Test: 0.8180\n",
      "Epoch: 106, Train: 0.9857, Val: 0.7940, Test: 0.8180\n",
      "Epoch: 107, Train: 0.9929, Val: 0.7940, Test: 0.8180\n",
      "Epoch: 108, Train: 0.9929, Val: 0.7940, Test: 0.8180\n",
      "Epoch: 109, Train: 0.9929, Val: 0.7940, Test: 0.8180\n",
      "Epoch: 110, Train: 0.9929, Val: 0.7940, Test: 0.8180\n",
      "Epoch: 111, Train: 0.9857, Val: 0.7940, Test: 0.8180\n",
      "Epoch: 112, Train: 0.9857, Val: 0.7940, Test: 0.8180\n",
      "Epoch: 113, Train: 0.9857, Val: 0.7940, Test: 0.8180\n",
      "Epoch: 114, Train: 0.9857, Val: 0.7940, Test: 0.8180\n",
      "Epoch: 115, Train: 0.9857, Val: 0.7940, Test: 0.8180\n",
      "Epoch: 116, Train: 0.9857, Val: 0.7940, Test: 0.8180\n",
      "Epoch: 117, Train: 0.9857, Val: 0.7940, Test: 0.8180\n",
      "Epoch: 118, Train: 0.9857, Val: 0.7940, Test: 0.8180\n",
      "Epoch: 119, Train: 0.9857, Val: 0.7940, Test: 0.8180\n",
      "Epoch: 120, Train: 0.9857, Val: 0.7940, Test: 0.8180\n",
      "Epoch: 121, Train: 0.9857, Val: 0.7940, Test: 0.8180\n",
      "Epoch: 122, Train: 0.9857, Val: 0.7940, Test: 0.8180\n",
      "Epoch: 123, Train: 0.9857, Val: 0.7940, Test: 0.8180\n",
      "Epoch: 124, Train: 0.9857, Val: 0.7940, Test: 0.8180\n",
      "Epoch: 125, Train: 0.9857, Val: 0.7940, Test: 0.8180\n",
      "Epoch: 126, Train: 0.9857, Val: 0.7940, Test: 0.8180\n",
      "Epoch: 127, Train: 0.9857, Val: 0.7940, Test: 0.8180\n",
      "Epoch: 128, Train: 0.9857, Val: 0.7940, Test: 0.8180\n",
      "Epoch: 129, Train: 0.9857, Val: 0.7940, Test: 0.8180\n",
      "Epoch: 130, Train: 0.9929, Val: 0.7940, Test: 0.8180\n",
      "Epoch: 131, Train: 0.9929, Val: 0.7940, Test: 0.8180\n",
      "Epoch: 132, Train: 0.9929, Val: 0.7940, Test: 0.8180\n",
      "Epoch: 133, Train: 0.9929, Val: 0.7940, Test: 0.8180\n",
      "Epoch: 134, Train: 1.0000, Val: 0.7940, Test: 0.8180\n",
      "Epoch: 135, Train: 1.0000, Val: 0.7940, Test: 0.8180\n",
      "Epoch: 136, Train: 1.0000, Val: 0.7940, Test: 0.8180\n",
      "Epoch: 137, Train: 1.0000, Val: 0.7940, Test: 0.8180\n",
      "Epoch: 138, Train: 1.0000, Val: 0.7940, Test: 0.8180\n",
      "Epoch: 139, Train: 1.0000, Val: 0.7940, Test: 0.8180\n",
      "Epoch: 140, Train: 1.0000, Val: 0.7940, Test: 0.8180\n",
      "Epoch: 141, Train: 1.0000, Val: 0.7940, Test: 0.8180\n",
      "Epoch: 142, Train: 1.0000, Val: 0.7940, Test: 0.8180\n",
      "Epoch: 143, Train: 1.0000, Val: 0.7940, Test: 0.8180\n",
      "Epoch: 144, Train: 1.0000, Val: 0.7940, Test: 0.8180\n",
      "Epoch: 145, Train: 1.0000, Val: 0.7940, Test: 0.8180\n",
      "Epoch: 146, Train: 1.0000, Val: 0.7940, Test: 0.8180\n",
      "Epoch: 147, Train: 0.9929, Val: 0.7940, Test: 0.8180\n",
      "Epoch: 148, Train: 0.9929, Val: 0.7940, Test: 0.8180\n",
      "Epoch: 149, Train: 0.9929, Val: 0.7940, Test: 0.8180\n",
      "Epoch: 150, Train: 0.9929, Val: 0.7940, Test: 0.8180\n",
      "Epoch: 151, Train: 0.9929, Val: 0.7940, Test: 0.8180\n",
      "Epoch: 152, Train: 0.9929, Val: 0.7940, Test: 0.8180\n",
      "Epoch: 153, Train: 0.9929, Val: 0.7940, Test: 0.8180\n",
      "Epoch: 154, Train: 0.9929, Val: 0.7940, Test: 0.8180\n",
      "Epoch: 155, Train: 0.9929, Val: 0.7940, Test: 0.8180\n",
      "Epoch: 156, Train: 0.9929, Val: 0.7940, Test: 0.8180\n",
      "Epoch: 157, Train: 0.9929, Val: 0.7940, Test: 0.8180\n",
      "Epoch: 158, Train: 0.9929, Val: 0.7940, Test: 0.8180\n",
      "Epoch: 159, Train: 0.9929, Val: 0.7940, Test: 0.8180\n",
      "Epoch: 160, Train: 1.0000, Val: 0.7940, Test: 0.8180\n",
      "Epoch: 161, Train: 1.0000, Val: 0.7940, Test: 0.8180\n",
      "Epoch: 162, Train: 1.0000, Val: 0.7940, Test: 0.8180\n",
      "Epoch: 163, Train: 1.0000, Val: 0.7940, Test: 0.8180\n",
      "Epoch: 164, Train: 1.0000, Val: 0.7940, Test: 0.8180\n",
      "Epoch: 165, Train: 1.0000, Val: 0.7940, Test: 0.8180\n",
      "Epoch: 166, Train: 1.0000, Val: 0.7940, Test: 0.8180\n",
      "Epoch: 167, Train: 1.0000, Val: 0.7940, Test: 0.8180\n",
      "Epoch: 168, Train: 1.0000, Val: 0.7940, Test: 0.8180\n",
      "Epoch: 169, Train: 1.0000, Val: 0.7940, Test: 0.8180\n",
      "Epoch: 170, Train: 1.0000, Val: 0.7940, Test: 0.8180\n",
      "Epoch: 171, Train: 1.0000, Val: 0.7940, Test: 0.8180\n",
      "Epoch: 172, Train: 1.0000, Val: 0.7940, Test: 0.8180\n",
      "Epoch: 173, Train: 1.0000, Val: 0.7940, Test: 0.8180\n",
      "Epoch: 174, Train: 1.0000, Val: 0.7940, Test: 0.8180\n",
      "Epoch: 175, Train: 1.0000, Val: 0.7940, Test: 0.8180\n",
      "Epoch: 176, Train: 1.0000, Val: 0.7940, Test: 0.8180\n",
      "Epoch: 177, Train: 1.0000, Val: 0.7940, Test: 0.8180\n",
      "Epoch: 178, Train: 1.0000, Val: 0.7940, Test: 0.8180\n",
      "Epoch: 179, Train: 1.0000, Val: 0.7940, Test: 0.8180\n",
      "Epoch: 180, Train: 1.0000, Val: 0.7940, Test: 0.8180\n",
      "Epoch: 181, Train: 1.0000, Val: 0.7940, Test: 0.8180\n",
      "Epoch: 182, Train: 1.0000, Val: 0.7940, Test: 0.8180\n",
      "Epoch: 183, Train: 0.9929, Val: 0.7940, Test: 0.8180\n",
      "Epoch: 184, Train: 1.0000, Val: 0.7940, Test: 0.8180\n",
      "Epoch: 185, Train: 1.0000, Val: 0.7940, Test: 0.8180\n",
      "Epoch: 186, Train: 1.0000, Val: 0.7940, Test: 0.8180\n",
      "Epoch: 187, Train: 1.0000, Val: 0.7940, Test: 0.8180\n",
      "Epoch: 188, Train: 1.0000, Val: 0.7940, Test: 0.8180\n",
      "Epoch: 189, Train: 1.0000, Val: 0.7940, Test: 0.8180\n",
      "Epoch: 190, Train: 1.0000, Val: 0.7940, Test: 0.8180\n",
      "Epoch: 191, Train: 1.0000, Val: 0.7940, Test: 0.8180\n",
      "Epoch: 192, Train: 1.0000, Val: 0.7940, Test: 0.8180\n",
      "Epoch: 193, Train: 1.0000, Val: 0.7940, Test: 0.8180\n",
      "Epoch: 194, Train: 1.0000, Val: 0.7940, Test: 0.8180\n",
      "Epoch: 195, Train: 1.0000, Val: 0.7940, Test: 0.8180\n",
      "Epoch: 196, Train: 1.0000, Val: 0.7940, Test: 0.8180\n",
      "Epoch: 197, Train: 1.0000, Val: 0.7940, Test: 0.8180\n",
      "Epoch: 198, Train: 1.0000, Val: 0.7940, Test: 0.8180\n",
      "Epoch: 199, Train: 1.0000, Val: 0.7940, Test: 0.8180\n",
      "Epoch: 200, Train: 1.0000, Val: 0.7940, Test: 0.8180\n"
     ]
    }
   ],
   "source": [
    "!python3 examples/gcn.py"
   ]
  },
  {
   "cell_type": "code",
   "execution_count": 32,
   "metadata": {
    "colab": {
     "base_uri": "https://localhost:8080/",
     "height": 34
    },
    "colab_type": "code",
    "id": "-QpCyq5pdWxM",
    "outputId": "75620bca-44b2-46d8-acf4-ea0967c5e725"
   },
   "outputs": [
    {
     "name": "stdout",
     "output_type": "stream",
     "text": [
      "/content/gcn_air\n"
     ]
    }
   ],
   "source": [
    "%cd ../gcn_air\n"
   ]
  },
  {
   "cell_type": "code",
   "execution_count": 33,
   "metadata": {
    "colab": {
     "base_uri": "https://localhost:8080/",
     "height": 819
    },
    "colab_type": "code",
    "id": "nRHRbLypezYD",
    "outputId": "774a361e-9edd-4634-94fa-784da625be1d"
   },
   "outputs": [
    {
     "name": "stdout",
     "output_type": "stream",
     "text": [
      "Requirement already satisfied: numpy in /usr/local/lib/python3.6/dist-packages (from -r requirements.txt (line 1)) (1.16.4)\n",
      "Requirement already satisfied: scipy in /usr/local/lib/python3.6/dist-packages (from -r requirements.txt (line 2)) (1.3.0)\n",
      "Requirement already satisfied: tensorflow in /usr/local/lib/python3.6/dist-packages (from -r requirements.txt (line 3)) (1.13.1)\n",
      "Requirement already satisfied: scikit-image in /usr/local/lib/python3.6/dist-packages (from -r requirements.txt (line 4)) (0.15.0)\n",
      "Requirement already satisfied: scikit-learn in /usr/local/lib/python3.6/dist-packages (from -r requirements.txt (line 5)) (0.21.2)\n",
      "Collecting numpy_groupies (from -r requirements.txt (line 6))\n",
      "\u001b[?25l  Downloading https://files.pythonhosted.org/packages/96/7a/2196465530e72084c6bb97cd49bf8ccdc83919cc94755727aa148effbc0f/numpy_groupies-0.9.9.tar.gz (43kB)\n",
      "\u001b[K     |████████████████████████████████| 51kB 6.9MB/s \n",
      "\u001b[?25hCollecting cached-property (from -r requirements.txt (line 7))\n",
      "  Downloading https://files.pythonhosted.org/packages/3b/86/85c1be2e8db9e13ef9a350aecd6dea292bd612fa288c2f40d035bb750ded/cached_property-1.5.1-py2.py3-none-any.whl\n",
      "Requirement already satisfied: absl-py>=0.1.6 in /usr/local/lib/python3.6/dist-packages (from tensorflow->-r requirements.txt (line 3)) (0.7.1)\n",
      "Requirement already satisfied: gast>=0.2.0 in /usr/local/lib/python3.6/dist-packages (from tensorflow->-r requirements.txt (line 3)) (0.2.2)\n",
      "Requirement already satisfied: tensorboard<1.14.0,>=1.13.0 in /usr/local/lib/python3.6/dist-packages (from tensorflow->-r requirements.txt (line 3)) (1.13.1)\n",
      "Requirement already satisfied: astor>=0.6.0 in /usr/local/lib/python3.6/dist-packages (from tensorflow->-r requirements.txt (line 3)) (0.8.0)\n",
      "Requirement already satisfied: grpcio>=1.8.6 in /usr/local/lib/python3.6/dist-packages (from tensorflow->-r requirements.txt (line 3)) (1.15.0)\n",
      "Requirement already satisfied: keras-preprocessing>=1.0.5 in /usr/local/lib/python3.6/dist-packages (from tensorflow->-r requirements.txt (line 3)) (1.0.9)\n",
      "Requirement already satisfied: tensorflow-estimator<1.14.0rc0,>=1.13.0 in /usr/local/lib/python3.6/dist-packages (from tensorflow->-r requirements.txt (line 3)) (1.13.0)\n",
      "Requirement already satisfied: termcolor>=1.1.0 in /usr/local/lib/python3.6/dist-packages (from tensorflow->-r requirements.txt (line 3)) (1.1.0)\n",
      "Requirement already satisfied: protobuf>=3.6.1 in /usr/local/lib/python3.6/dist-packages (from tensorflow->-r requirements.txt (line 3)) (3.7.1)\n",
      "Requirement already satisfied: keras-applications>=1.0.6 in /usr/local/lib/python3.6/dist-packages (from tensorflow->-r requirements.txt (line 3)) (1.0.7)\n",
      "Requirement already satisfied: wheel>=0.26 in /usr/local/lib/python3.6/dist-packages (from tensorflow->-r requirements.txt (line 3)) (0.33.4)\n",
      "Requirement already satisfied: six>=1.10.0 in /usr/local/lib/python3.6/dist-packages (from tensorflow->-r requirements.txt (line 3)) (1.12.0)\n",
      "Requirement already satisfied: PyWavelets>=0.4.0 in /usr/local/lib/python3.6/dist-packages (from scikit-image->-r requirements.txt (line 4)) (1.0.3)\n",
      "Requirement already satisfied: matplotlib!=3.0.0,>=2.0.0 in /usr/local/lib/python3.6/dist-packages (from scikit-image->-r requirements.txt (line 4)) (3.0.3)\n",
      "Requirement already satisfied: pillow>=4.3.0 in /usr/local/lib/python3.6/dist-packages (from scikit-image->-r requirements.txt (line 4)) (4.3.0)\n",
      "Requirement already satisfied: imageio>=2.0.1 in /usr/local/lib/python3.6/dist-packages (from scikit-image->-r requirements.txt (line 4)) (2.4.1)\n",
      "Requirement already satisfied: networkx>=2.0 in /usr/local/lib/python3.6/dist-packages (from scikit-image->-r requirements.txt (line 4)) (2.3)\n",
      "Requirement already satisfied: joblib>=0.11 in /usr/local/lib/python3.6/dist-packages (from scikit-learn->-r requirements.txt (line 5)) (0.13.2)\n",
      "Requirement already satisfied: werkzeug>=0.11.15 in /usr/local/lib/python3.6/dist-packages (from tensorboard<1.14.0,>=1.13.0->tensorflow->-r requirements.txt (line 3)) (0.15.4)\n",
      "Requirement already satisfied: markdown>=2.6.8 in /usr/local/lib/python3.6/dist-packages (from tensorboard<1.14.0,>=1.13.0->tensorflow->-r requirements.txt (line 3)) (3.1.1)\n",
      "Requirement already satisfied: mock>=2.0.0 in /usr/local/lib/python3.6/dist-packages (from tensorflow-estimator<1.14.0rc0,>=1.13.0->tensorflow->-r requirements.txt (line 3)) (3.0.5)\n",
      "Requirement already satisfied: setuptools in /usr/local/lib/python3.6/dist-packages (from protobuf>=3.6.1->tensorflow->-r requirements.txt (line 3)) (41.0.1)\n",
      "Requirement already satisfied: h5py in /usr/local/lib/python3.6/dist-packages (from keras-applications>=1.0.6->tensorflow->-r requirements.txt (line 3)) (2.8.0)\n",
      "Requirement already satisfied: python-dateutil>=2.1 in /usr/local/lib/python3.6/dist-packages (from matplotlib!=3.0.0,>=2.0.0->scikit-image->-r requirements.txt (line 4)) (2.5.3)\n",
      "Requirement already satisfied: cycler>=0.10 in /usr/local/lib/python3.6/dist-packages (from matplotlib!=3.0.0,>=2.0.0->scikit-image->-r requirements.txt (line 4)) (0.10.0)\n",
      "Requirement already satisfied: pyparsing!=2.0.4,!=2.1.2,!=2.1.6,>=2.0.1 in /usr/local/lib/python3.6/dist-packages (from matplotlib!=3.0.0,>=2.0.0->scikit-image->-r requirements.txt (line 4)) (2.4.0)\n",
      "Requirement already satisfied: kiwisolver>=1.0.1 in /usr/local/lib/python3.6/dist-packages (from matplotlib!=3.0.0,>=2.0.0->scikit-image->-r requirements.txt (line 4)) (1.1.0)\n",
      "Requirement already satisfied: olefile in /usr/local/lib/python3.6/dist-packages (from pillow>=4.3.0->scikit-image->-r requirements.txt (line 4)) (0.46)\n",
      "Requirement already satisfied: decorator>=4.3.0 in /usr/local/lib/python3.6/dist-packages (from networkx>=2.0->scikit-image->-r requirements.txt (line 4)) (4.4.0)\n",
      "Building wheels for collected packages: numpy-groupies\n",
      "  Building wheel for numpy-groupies (setup.py) ... \u001b[?25l\u001b[?25hdone\n",
      "  Stored in directory: /root/.cache/pip/wheels/6c/fb/3d/5c43eb691bd92a3ddd0ebeb6e7e78ceaf3ae1cb8d54b89a7fb\n",
      "Successfully built numpy-groupies\n",
      "Installing collected packages: numpy-groupies, cached-property\n",
      "Successfully installed cached-property-1.5.1 numpy-groupies-0+unknown\n"
     ]
    }
   ],
   "source": [
    "!pip install -r requirements.txt"
   ]
  },
  {
   "cell_type": "code",
   "execution_count": 34,
   "metadata": {
    "colab": {
     "base_uri": "https://localhost:8080/",
     "height": 7974
    },
    "colab_type": "code",
    "id": "Xu1IL9XCfdvf",
    "outputId": "ccde9e23-b563-447c-e950-eb5862f18770"
   },
   "outputs": [
    {
     "name": "stdout",
     "output_type": "stream",
     "text": [
      "reading data\n",
      "tcmalloc: large alloc 2365440000 bytes == 0x63da000 @  0x7fd36f6501e7 0x7fd36d199ca1 0x7fd36d2039c5 0x7fd36d20455e 0x7fd36d29da6e 0x5030d5 0x507641 0x504c28 0x502540 0x502f3d 0x507641 0x504c28 0x502540 0x502f3d 0x506859 0x504c28 0x506393 0x634d52 0x634e0a 0x6385c8 0x63915a 0x4a6f10 0x7fd36f24db97 0x5afa0a\n",
      "creating first part from  0  to  499 indices\n",
      "  0% 0/500 [00:00<?, ?it/s]image 0 / 500\n",
      "Generating patches\n",
      "Done\n",
      "Computing central pixels\n",
      "Done\n",
      "Segmentating of each patch\n",
      "\n",
      "  0% 0/5376 [00:00<?, ?it/s]\u001b[A\n",
      "  1% 46/5376 [00:00<00:11, 453.23it/s]\u001b[A\n",
      "  2% 94/5376 [00:00<00:11, 458.36it/s]\u001b[A\n",
      "  3% 139/5376 [00:00<00:11, 453.68it/s]\u001b[A\n",
      "  3% 187/5376 [00:00<00:11, 459.11it/s]\u001b[A\n",
      "  4% 233/5376 [00:00<00:11, 459.36it/s]\u001b[A\n",
      "  5% 280/5376 [00:00<00:11, 461.22it/s]\u001b[A\n",
      "  6% 327/5376 [00:00<00:10, 463.20it/s]\u001b[A\n",
      "  7% 370/5376 [00:00<00:11, 450.37it/s]\u001b[A\n",
      "  8% 418/5376 [00:00<00:10, 456.68it/s]\u001b[A\n",
      "  9% 464/5376 [00:01<00:10, 455.32it/s]\u001b[A\n",
      " 10% 511/5376 [00:01<00:10, 459.01it/s]\u001b[A\n",
      " 10% 557/5376 [00:01<00:10, 457.58it/s]\u001b[A\n",
      " 11% 603/5376 [00:01<00:10, 457.52it/s]\u001b[A\n",
      " 12% 649/5376 [00:01<00:10, 455.68it/s]\u001b[A\n",
      " 13% 696/5376 [00:01<00:10, 458.11it/s]\u001b[A\n",
      " 14% 742/5376 [00:01<00:10, 456.14it/s]\u001b[A\n",
      " 15% 790/5376 [00:01<00:09, 460.46it/s]\u001b[A\n",
      " 16% 836/5376 [00:01<00:10, 450.96it/s]\u001b[A\n",
      " 16% 883/5376 [00:01<00:09, 455.47it/s]\u001b[A\n",
      " 17% 929/5376 [00:02<00:09, 456.34it/s]\u001b[A\n",
      " 18% 975/5376 [00:02<00:09, 456.83it/s]\u001b[A\n",
      " 19% 1021/5376 [00:02<00:09, 456.09it/s]\u001b[A\n",
      " 20% 1068/5376 [00:02<00:09, 459.52it/s]\u001b[A\n",
      " 21% 1114/5376 [00:02<00:09, 456.46it/s]\u001b[A\n",
      " 22% 1160/5376 [00:02<00:09, 457.39it/s]\u001b[A\n",
      " 22% 1206/5376 [00:02<00:09, 437.42it/s]\u001b[A\n",
      " 23% 1253/5376 [00:02<00:09, 444.67it/s]\u001b[A\n",
      " 24% 1298/5376 [00:02<00:09, 442.89it/s]\u001b[A\n",
      " 25% 1343/5376 [00:02<00:09, 444.02it/s]\u001b[A\n",
      " 26% 1390/5376 [00:03<00:08, 451.39it/s]\u001b[A\n",
      " 27% 1436/5376 [00:03<00:08, 449.64it/s]\u001b[A\n",
      " 28% 1482/5376 [00:03<00:08, 449.00it/s]\u001b[A\n",
      " 28% 1529/5376 [00:03<00:08, 452.90it/s]\u001b[A\n",
      " 29% 1575/5376 [00:03<00:08, 447.14it/s]\u001b[A\n",
      " 30% 1630/5376 [00:03<00:07, 472.00it/s]\u001b[A\n",
      " 31% 1691/5376 [00:03<00:07, 504.40it/s]\u001b[A\n",
      " 33% 1752/5376 [00:03<00:06, 531.85it/s]\u001b[A\n",
      " 34% 1809/5376 [00:03<00:06, 541.74it/s]\u001b[A\n",
      " 35% 1873/5376 [00:03<00:06, 566.58it/s]\u001b[A\n",
      " 36% 1935/5376 [00:04<00:05, 580.46it/s]\u001b[A\n",
      " 37% 1997/5376 [00:04<00:05, 590.99it/s]\u001b[A\n",
      " 38% 2060/5376 [00:04<00:05, 599.63it/s]\u001b[A\n",
      " 39% 2121/5376 [00:04<00:05, 598.74it/s]\u001b[A\n",
      " 41% 2185/5376 [00:04<00:05, 608.72it/s]\u001b[A\n",
      " 42% 2247/5376 [00:04<00:05, 603.96it/s]\u001b[A\n",
      " 43% 2309/5376 [00:04<00:05, 606.68it/s]\u001b[A\n",
      " 44% 2370/5376 [00:04<00:05, 595.83it/s]\u001b[A\n",
      " 45% 2430/5376 [00:04<00:04, 596.91it/s]\u001b[A\n",
      " 46% 2492/5376 [00:04<00:04, 601.96it/s]\u001b[A\n",
      " 48% 2556/5376 [00:05<00:04, 610.86it/s]\u001b[A\n",
      " 49% 2618/5376 [00:05<00:04, 609.12it/s]\u001b[A\n",
      " 50% 2679/5376 [00:05<00:04, 608.52it/s]\u001b[A\n",
      " 51% 2740/5376 [00:05<00:04, 605.33it/s]\u001b[A\n",
      " 52% 2803/5376 [00:05<00:04, 609.85it/s]\u001b[A\n",
      " 53% 2865/5376 [00:05<00:04, 607.74it/s]\u001b[A\n",
      " 54% 2929/5376 [00:05<00:03, 614.53it/s]\u001b[A\n",
      " 56% 2991/5376 [00:05<00:03, 612.22it/s]\u001b[A\n",
      " 57% 3053/5376 [00:05<00:03, 606.09it/s]\u001b[A\n",
      " 58% 3114/5376 [00:06<00:03, 603.48it/s]\u001b[A\n",
      " 59% 3177/5376 [00:06<00:03, 608.73it/s]\u001b[A\n",
      " 60% 3239/5376 [00:06<00:03, 610.73it/s]\u001b[A\n",
      " 61% 3301/5376 [00:06<00:03, 612.09it/s]\u001b[A\n",
      " 63% 3363/5376 [00:06<00:03, 610.20it/s]\u001b[A\n",
      " 64% 3426/5376 [00:06<00:03, 613.85it/s]\u001b[A\n",
      " 65% 3488/5376 [00:06<00:03, 615.04it/s]\u001b[A\n",
      " 66% 3551/5376 [00:06<00:02, 618.93it/s]\u001b[A\n",
      " 67% 3614/5376 [00:06<00:02, 620.28it/s]\u001b[A\n",
      " 68% 3677/5376 [00:06<00:02, 610.26it/s]\u001b[A\n",
      " 70% 3742/5376 [00:07<00:02, 619.65it/s]\u001b[A\n",
      " 71% 3805/5376 [00:07<00:02, 615.15it/s]\u001b[A\n",
      " 72% 3867/5376 [00:07<00:02, 612.77it/s]\u001b[A\n",
      " 73% 3929/5376 [00:07<00:02, 608.89it/s]\u001b[A\n",
      " 74% 3993/5376 [00:07<00:02, 617.85it/s]\u001b[A\n",
      " 75% 4055/5376 [00:07<00:02, 612.43it/s]\u001b[A\n",
      " 77% 4118/5376 [00:07<00:02, 617.27it/s]\u001b[A\n",
      " 78% 4180/5376 [00:07<00:01, 615.66it/s]\u001b[A\n",
      " 79% 4242/5376 [00:07<00:01, 615.79it/s]\u001b[A\n",
      " 80% 4304/5376 [00:07<00:01, 603.90it/s]\u001b[A\n",
      " 81% 4368/5376 [00:08<00:01, 613.97it/s]\u001b[A\n",
      " 82% 4430/5376 [00:08<00:01, 614.89it/s]\u001b[A\n",
      " 84% 4494/5376 [00:08<00:01, 620.60it/s]\u001b[A\n",
      " 85% 4557/5376 [00:08<00:01, 617.99it/s]\u001b[A\n",
      " 86% 4620/5376 [00:08<00:01, 621.21it/s]\u001b[A\n",
      " 87% 4683/5376 [00:08<00:01, 618.60it/s]\u001b[A\n",
      " 88% 4746/5376 [00:08<00:01, 621.89it/s]\u001b[A\n",
      " 89% 4809/5376 [00:08<00:00, 600.88it/s]\u001b[A\n",
      " 91% 4870/5376 [00:08<00:00, 550.77it/s]\u001b[A\n",
      " 92% 4927/5376 [00:09<00:00, 519.29it/s]\u001b[A\n",
      " 93% 4980/5376 [00:09<00:00, 500.30it/s]\u001b[A\n",
      " 94% 5031/5376 [00:09<00:00, 485.76it/s]\u001b[A\n",
      " 95% 5081/5376 [00:09<00:00, 477.54it/s]\u001b[A\n",
      " 95% 5130/5376 [00:09<00:00, 474.41it/s]\u001b[A\n",
      " 96% 5179/5376 [00:09<00:00, 476.75it/s]\u001b[A\n",
      " 97% 5227/5376 [00:09<00:00, 477.42it/s]\u001b[A\n",
      " 98% 5275/5376 [00:09<00:00, 473.66it/s]\u001b[A\n",
      " 99% 5323/5376 [00:09<00:00, 471.44it/s]\u001b[A\n",
      "100% 5371/5376 [00:09<00:00, 460.28it/s]\u001b[A\n",
      "100% 5376/5376 [00:10<00:00, 537.59it/s]\u001b[ADone\n",
      "generating graphs\n",
      "\n",
      "  0% 0/5376 [00:00<?, ?it/s]\u001b[A\n",
      "  0% 5/5376 [00:00<01:51, 48.27it/s]\u001b[A\n",
      "  0% 10/5376 [00:00<01:52, 47.51it/s]\u001b[A\n",
      "  0% 15/5376 [00:00<01:52, 47.75it/s]\u001b[A\n",
      "  0% 20/5376 [00:00<01:53, 47.35it/s]\u001b[A\n",
      "  0% 25/5376 [00:00<01:51, 47.79it/s]\u001b[A\n",
      "  1% 30/5376 [00:00<01:51, 47.74it/s]\u001b[A\n",
      "  1% 35/5376 [00:00<01:52, 47.63it/s]\u001b[A\n",
      "  1% 40/5376 [00:00<02:37, 33.96it/s]\u001b[A\n",
      "  1% 45/5376 [00:01<02:24, 36.87it/s]\u001b[A\n",
      "  1% 50/5376 [00:01<02:13, 39.77it/s]\u001b[A\n",
      "  1% 55/5376 [00:01<02:07, 41.67it/s]\u001b[A\n",
      "  1% 60/5376 [00:01<02:02, 43.52it/s]\u001b[A\n",
      "  1% 65/5376 [00:01<02:00, 44.23it/s]\u001b[A\n",
      "  1% 70/5376 [00:01<01:57, 45.30it/s]\u001b[A\n",
      "  1% 75/5376 [00:01<01:55, 45.79it/s]\u001b[A\n",
      "  1% 80/5376 [00:01<01:53, 46.46it/s]\u001b[A\n",
      "  2% 85/5376 [00:01<01:54, 46.28it/s]\u001b[A\n",
      "  2% 90/5376 [00:02<01:54, 46.09it/s]\u001b[A\n",
      "  2% 95/5376 [00:02<01:54, 46.21it/s]\u001b[A\n",
      "  2% 100/5376 [00:02<01:52, 47.00it/s]\u001b[A\n",
      "  2% 105/5376 [00:02<01:51, 47.19it/s]\u001b[A\n",
      "  2% 110/5376 [00:02<01:51, 47.29it/s]\u001b[A\n",
      "  2% 115/5376 [00:02<01:51, 47.39it/s]\u001b[A\n",
      "  2% 120/5376 [00:02<01:50, 47.44it/s]\u001b[A\n",
      "  2% 125/5376 [00:02<01:50, 47.71it/s]\u001b[A\n",
      "  2% 130/5376 [00:02<01:49, 48.00it/s]\u001b[A\n",
      "  3% 135/5376 [00:02<01:49, 47.69it/s]\u001b[A\n",
      "  3% 140/5376 [00:03<01:50, 47.18it/s]\u001b[A\n",
      "  3% 145/5376 [00:03<01:51, 47.00it/s]\u001b[A\n",
      "  3% 150/5376 [00:03<01:50, 47.15it/s]\u001b[A\n",
      "  3% 155/5376 [00:03<01:50, 47.14it/s]\u001b[A\n",
      "  3% 160/5376 [00:03<01:50, 47.31it/s]\u001b[A\n",
      "  3% 165/5376 [00:03<01:54, 45.63it/s]\u001b[A\n",
      "  3% 170/5376 [00:03<01:53, 45.98it/s]\u001b[A\n",
      "  3% 175/5376 [00:03<01:51, 46.49it/s]\u001b[A\n",
      "  3% 180/5376 [00:03<01:51, 46.48it/s]\u001b[A\n",
      "  3% 185/5376 [00:04<01:52, 46.25it/s]\u001b[A\n",
      "  4% 190/5376 [00:04<01:51, 46.42it/s]\u001b[A\n",
      "  4% 195/5376 [00:04<02:36, 33.05it/s]\u001b[A\n",
      "  4% 200/5376 [00:04<02:21, 36.59it/s]\u001b[A\n",
      "  4% 205/5376 [00:04<02:10, 39.53it/s]\u001b[A\n",
      "  4% 210/5376 [00:04<02:04, 41.49it/s]\u001b[A\n",
      "  4% 215/5376 [00:04<01:59, 43.15it/s]\u001b[A\n",
      "  4% 220/5376 [00:04<01:56, 44.36it/s]\u001b[A\n",
      "  4% 225/5376 [00:05<01:55, 44.73it/s]\u001b[A\n",
      "  4% 230/5376 [00:05<01:52, 45.78it/s]\u001b[A\n",
      "  4% 235/5376 [00:05<01:51, 46.25it/s]\u001b[A\n",
      "  4% 240/5376 [00:05<01:49, 46.87it/s]\u001b[A\n",
      "  5% 245/5376 [00:05<01:48, 47.29it/s]\u001b[A\n",
      "  5% 250/5376 [00:05<01:47, 47.51it/s]\u001b[A\n",
      "  5% 255/5376 [00:05<01:47, 47.50it/s]\u001b[A\n",
      "  5% 260/5376 [00:05<01:47, 47.78it/s]\u001b[A\n",
      "  5% 265/5376 [00:05<01:47, 47.59it/s]\u001b[A\n",
      "  5% 270/5376 [00:05<01:46, 47.84it/s]\u001b[A\n",
      "  5% 275/5376 [00:06<01:48, 46.90it/s]\u001b[A\n",
      "  5% 280/5376 [00:06<01:49, 46.75it/s]\u001b[A\n",
      "  5% 285/5376 [00:06<01:47, 47.33it/s]\u001b[A\n",
      "  5% 290/5376 [00:06<01:47, 47.34it/s]\u001b[A\n",
      "  5% 295/5376 [00:06<01:46, 47.58it/s]\u001b[A\n",
      "  6% 300/5376 [00:06<01:46, 47.83it/s]\u001b[A\n",
      "  6% 305/5376 [00:06<01:47, 47.25it/s]\u001b[A\n",
      "  6% 310/5376 [00:06<01:47, 47.22it/s]\u001b[A\n",
      "  6% 315/5376 [00:06<01:46, 47.33it/s]\u001b[A\n",
      "  6% 320/5376 [00:07<01:45, 47.74it/s]\u001b[A\n",
      "  6% 325/5376 [00:07<01:48, 46.44it/s]\u001b[A\n",
      "  6% 330/5376 [00:07<01:47, 46.86it/s]\u001b[A\n",
      "  6% 335/5376 [00:07<01:47, 47.07it/s]\u001b[A\n",
      "  6% 340/5376 [00:07<01:46, 47.09it/s]\u001b[A\n",
      "  6% 345/5376 [00:07<01:45, 47.59it/s]\u001b[A\n",
      "  7% 350/5376 [00:07<01:45, 47.47it/s]\u001b[A\n",
      "  7% 355/5376 [00:07<01:45, 47.80it/s]\u001b[A\n",
      "  7% 360/5376 [00:07<01:46, 47.29it/s]\u001b[A\n",
      "  7% 365/5376 [00:08<01:45, 47.44it/s]\u001b[A\n",
      "  7% 370/5376 [00:08<02:42, 30.78it/s]\u001b[A\n",
      "  7% 375/5376 [00:08<02:24, 34.57it/s]\u001b[A\n",
      "  7% 380/5376 [00:08<02:11, 37.90it/s]\u001b[A\n",
      "  7% 385/5376 [00:08<02:03, 40.32it/s]\u001b[A\n",
      "  7% 390/5376 [00:08<01:58, 42.22it/s]\u001b[A\n",
      "  7% 396/5376 [00:08<01:50, 44.92it/s]\u001b[A\n",
      "  7% 402/5376 [00:08<01:45, 47.04it/s]\u001b[A\n",
      "  8% 408/5376 [00:09<01:40, 49.66it/s]\u001b[A\n",
      "  8% 414/5376 [00:09<01:38, 50.23it/s]\u001b[A\n",
      "  8% 420/5376 [00:09<01:35, 51.74it/s]\u001b[A\n",
      "  8% 426/5376 [00:09<01:33, 53.01it/s]\u001b[A\n",
      "  8% 432/5376 [00:09<01:31, 53.84it/s]\u001b[A\n",
      "  8% 438/5376 [00:09<01:30, 54.68it/s]\u001b[A\n",
      "  8% 444/5376 [00:09<01:29, 55.15it/s]\u001b[A\n",
      "  8% 450/5376 [00:09<01:28, 55.62it/s]\u001b[A\n",
      "  8% 456/5376 [00:09<01:28, 55.75it/s]\u001b[A\n",
      "  9% 462/5376 [00:10<01:28, 55.68it/s]\u001b[A\n",
      "  9% 468/5376 [00:10<01:28, 55.55it/s]\u001b[A\n",
      "  9% 474/5376 [00:10<01:28, 55.09it/s]\u001b[A\n",
      "  9% 480/5376 [00:10<01:28, 55.39it/s]\u001b[A\n",
      "  9% 486/5376 [00:10<01:27, 55.63it/s]\u001b[A\n",
      "  9% 492/5376 [00:10<01:27, 55.83it/s]\u001b[A\n",
      "  9% 498/5376 [00:10<01:27, 55.85it/s]\u001b[A\n",
      "  9% 504/5376 [00:10<01:28, 55.15it/s]\u001b[A\n",
      "  9% 510/5376 [00:10<01:27, 55.36it/s]\u001b[A\n",
      " 10% 516/5376 [00:10<01:26, 56.11it/s]\u001b[A\n",
      " 10% 522/5376 [00:11<01:26, 55.91it/s]\u001b[A\n",
      " 10% 528/5376 [00:11<01:27, 55.35it/s]\u001b[A\n",
      " 10% 534/5376 [00:11<01:27, 55.31it/s]\u001b[A\n",
      " 10% 540/5376 [00:11<01:26, 55.99it/s]\u001b[A\n",
      " 10% 546/5376 [00:11<01:25, 56.19it/s]\u001b[A\n",
      " 10% 552/5376 [00:11<01:25, 56.43it/s]\u001b[A\n",
      " 10% 558/5376 [00:11<01:26, 55.94it/s]\u001b[A\n",
      " 10% 564/5376 [00:11<01:25, 56.40it/s]\u001b[A\n",
      " 11% 570/5376 [00:12<02:19, 34.45it/s]\u001b[A\n",
      " 11% 576/5376 [00:12<02:03, 39.00it/s]\u001b[A\n",
      " 11% 582/5376 [00:12<01:51, 42.96it/s]\u001b[A\n",
      " 11% 588/5376 [00:12<01:43, 46.16it/s]\u001b[A\n",
      " 11% 594/5376 [00:12<01:38, 48.77it/s]\u001b[A\n",
      " 11% 600/5376 [00:12<01:34, 50.80it/s]\u001b[A\n",
      " 11% 606/5376 [00:12<01:30, 52.43it/s]\u001b[A\n",
      " 11% 612/5376 [00:12<01:29, 53.47it/s]\u001b[A\n",
      " 11% 618/5376 [00:13<01:27, 54.39it/s]\u001b[A\n",
      " 12% 624/5376 [00:13<01:26, 54.75it/s]\u001b[A\n",
      " 12% 630/5376 [00:13<01:27, 54.16it/s]\u001b[A\n",
      " 12% 636/5376 [00:13<01:27, 54.46it/s]\u001b[A\n",
      " 12% 642/5376 [00:13<01:26, 54.72it/s]\u001b[A\n",
      " 12% 648/5376 [00:13<01:25, 55.27it/s]\u001b[A\n",
      " 12% 654/5376 [00:13<01:24, 55.96it/s]\u001b[A\n",
      " 12% 660/5376 [00:13<01:24, 55.87it/s]\u001b[A\n",
      " 12% 666/5376 [00:13<01:23, 56.27it/s]\u001b[A\n",
      " 12% 672/5376 [00:14<01:24, 55.95it/s]\u001b[A\n",
      " 13% 678/5376 [00:14<01:23, 56.43it/s]\u001b[A\n",
      " 13% 684/5376 [00:14<01:24, 55.80it/s]\u001b[A\n",
      " 13% 690/5376 [00:14<01:24, 55.30it/s]\u001b[A\n",
      " 13% 696/5376 [00:14<01:24, 55.25it/s]\u001b[A\n",
      " 13% 702/5376 [00:14<01:23, 55.74it/s]\u001b[A\n",
      " 13% 708/5376 [00:14<01:26, 53.93it/s]\u001b[A\n",
      " 13% 714/5376 [00:14<01:25, 54.79it/s]\u001b[A\n",
      " 13% 720/5376 [00:14<01:24, 55.10it/s]\u001b[A\n",
      " 14% 726/5376 [00:14<01:23, 55.83it/s]\u001b[A\n",
      " 14% 732/5376 [00:15<01:23, 55.67it/s]\u001b[A\n",
      " 14% 738/5376 [00:15<01:23, 55.46it/s]\u001b[A\n",
      " 14% 744/5376 [00:15<01:24, 55.04it/s]\u001b[A\n",
      " 14% 750/5376 [00:15<01:23, 55.41it/s]\u001b[A\n",
      " 14% 756/5376 [00:15<01:22, 55.99it/s]\u001b[A\n",
      " 14% 762/5376 [00:15<01:22, 56.01it/s]\u001b[A\n",
      " 14% 768/5376 [00:15<01:22, 56.10it/s]\u001b[A\n",
      " 14% 774/5376 [00:15<01:23, 55.00it/s]\u001b[A\n",
      " 15% 780/5376 [00:15<01:22, 55.75it/s]\u001b[A\n",
      " 15% 786/5376 [00:16<01:22, 55.52it/s]\u001b[A\n",
      " 15% 792/5376 [00:16<01:21, 55.98it/s]\u001b[A\n",
      " 15% 798/5376 [00:16<02:24, 31.65it/s]\u001b[A\n",
      " 15% 803/5376 [00:16<02:10, 35.15it/s]\u001b[A\n",
      " 15% 809/5376 [00:16<01:54, 39.84it/s]\u001b[A\n",
      " 15% 815/5376 [00:16<01:45, 43.44it/s]\u001b[A\n",
      " 15% 821/5376 [00:16<01:37, 46.72it/s]\u001b[A\n",
      " 15% 827/5376 [00:17<01:32, 49.40it/s]\u001b[A\n",
      " 15% 833/5376 [00:17<01:29, 50.91it/s]\u001b[A\n",
      " 16% 839/5376 [00:17<01:27, 51.89it/s]\u001b[A\n",
      " 16% 845/5376 [00:17<01:25, 52.96it/s]\u001b[A\n",
      " 16% 851/5376 [00:17<01:25, 53.00it/s]\u001b[A\n",
      " 16% 857/5376 [00:17<01:23, 54.40it/s]\u001b[A\n",
      " 16% 863/5376 [00:17<01:22, 54.45it/s]\u001b[A\n",
      " 16% 869/5376 [00:17<01:21, 55.11it/s]\u001b[A\n",
      " 16% 875/5376 [00:17<01:23, 54.04it/s]\u001b[A\n",
      " 16% 881/5376 [00:18<01:21, 54.94it/s]\u001b[A\n",
      " 16% 887/5376 [00:18<01:21, 55.23it/s]\u001b[A\n",
      " 17% 893/5376 [00:18<01:20, 55.56it/s]\u001b[A\n",
      " 17% 899/5376 [00:18<01:21, 54.61it/s]\u001b[A\n",
      " 17% 905/5376 [00:18<01:20, 55.48it/s]\u001b[A\n",
      " 17% 911/5376 [00:18<01:20, 55.31it/s]\u001b[A\n",
      " 17% 917/5376 [00:18<01:19, 55.91it/s]\u001b[A\n",
      " 17% 923/5376 [00:18<01:19, 55.81it/s]\u001b[A\n",
      " 17% 929/5376 [00:18<01:20, 55.58it/s]\u001b[A\n",
      " 17% 935/5376 [00:19<01:19, 56.16it/s]\u001b[A\n",
      " 18% 941/5376 [00:19<01:18, 56.45it/s]\u001b[A\n",
      " 18% 947/5376 [00:19<01:18, 56.25it/s]\u001b[A\n",
      " 18% 953/5376 [00:19<01:19, 55.32it/s]\u001b[A\n",
      " 18% 959/5376 [00:19<01:19, 55.39it/s]\u001b[A\n",
      " 18% 965/5376 [00:19<01:19, 55.80it/s]\u001b[A\n",
      " 18% 971/5376 [00:19<01:18, 55.94it/s]\u001b[A\n",
      " 18% 977/5376 [00:19<01:17, 56.53it/s]\u001b[A\n",
      " 18% 983/5376 [00:19<01:18, 55.76it/s]\u001b[A\n",
      " 18% 989/5376 [00:19<01:17, 56.39it/s]\u001b[A\n",
      " 19% 995/5376 [00:20<01:18, 55.76it/s]\u001b[A\n",
      " 19% 1001/5376 [00:20<01:18, 55.94it/s]\u001b[A\n",
      " 19% 1007/5376 [00:20<01:18, 55.87it/s]\u001b[A\n",
      " 19% 1013/5376 [00:20<01:19, 55.12it/s]\u001b[A\n",
      " 19% 1019/5376 [00:20<01:18, 55.23it/s]\u001b[A\n",
      " 19% 1025/5376 [00:20<01:18, 55.39it/s]\u001b[A\n",
      " 19% 1031/5376 [00:20<01:18, 55.64it/s]\u001b[A\n",
      " 19% 1037/5376 [00:20<01:17, 55.71it/s]\u001b[A\n",
      " 19% 1043/5376 [00:20<01:17, 56.26it/s]\u001b[A\n",
      " 20% 1049/5376 [00:21<01:17, 55.89it/s]\u001b[A\n",
      " 20% 1055/5376 [00:21<02:27, 29.22it/s]\u001b[A\n",
      " 20% 1061/5376 [00:21<02:06, 34.02it/s]\u001b[A\n",
      " 20% 1067/5376 [00:21<01:51, 38.75it/s]\u001b[A\n",
      " 20% 1073/5376 [00:21<01:41, 42.26it/s]\u001b[A\n",
      " 20% 1079/5376 [00:21<01:33, 45.85it/s]\u001b[A\n",
      " 20% 1085/5376 [00:22<01:28, 48.71it/s]\u001b[A\n",
      " 20% 1091/5376 [00:22<01:24, 50.67it/s]\u001b[A\n",
      " 20% 1097/5376 [00:22<01:21, 52.21it/s]\u001b[A\n",
      " 21% 1103/5376 [00:22<01:19, 53.51it/s]\u001b[A\n",
      " 21% 1109/5376 [00:22<01:20, 53.14it/s]\u001b[A\n",
      " 21% 1115/5376 [00:22<01:18, 54.53it/s]\u001b[A\n",
      " 21% 1121/5376 [00:22<01:17, 54.76it/s]\u001b[A\n",
      " 21% 1127/5376 [00:22<01:17, 55.00it/s]\u001b[A\n",
      " 21% 1133/5376 [00:22<01:17, 55.08it/s]\u001b[A\n",
      " 21% 1139/5376 [00:23<01:16, 55.45it/s]\u001b[A\n",
      " 21% 1145/5376 [00:23<01:16, 55.44it/s]\u001b[A\n",
      " 21% 1151/5376 [00:23<01:16, 55.53it/s]\u001b[A\n",
      " 22% 1157/5376 [00:23<01:16, 54.95it/s]\u001b[A\n",
      " 22% 1163/5376 [00:23<01:17, 54.44it/s]\u001b[A\n",
      " 22% 1169/5376 [00:23<01:18, 53.89it/s]\u001b[A\n",
      " 22% 1175/5376 [00:23<01:16, 54.61it/s]\u001b[A\n",
      " 22% 1181/5376 [00:23<01:16, 55.05it/s]\u001b[A\n",
      " 22% 1187/5376 [00:23<01:16, 55.08it/s]\u001b[A\n",
      " 22% 1193/5376 [00:23<01:15, 55.29it/s]\u001b[A\n",
      " 22% 1199/5376 [00:24<01:15, 55.24it/s]\u001b[A\n",
      " 22% 1205/5376 [00:24<01:15, 55.60it/s]\u001b[A\n",
      " 23% 1211/5376 [00:24<01:15, 55.51it/s]\u001b[A\n",
      " 23% 1217/5376 [00:24<01:14, 55.97it/s]\u001b[A\n",
      " 23% 1223/5376 [00:24<01:15, 55.01it/s]\u001b[A\n",
      " 23% 1229/5376 [00:24<01:15, 55.19it/s]\u001b[A\n",
      " 23% 1235/5376 [00:24<01:14, 55.73it/s]\u001b[A\n",
      " 23% 1241/5376 [00:24<01:14, 55.76it/s]\u001b[A\n",
      " 23% 1247/5376 [00:24<01:18, 52.56it/s]\u001b[A\n",
      " 23% 1253/5376 [00:25<01:16, 53.82it/s]\u001b[A\n",
      " 23% 1259/5376 [00:25<01:15, 54.65it/s]\u001b[A\n",
      " 24% 1265/5376 [00:25<01:14, 54.93it/s]\u001b[A\n",
      " 24% 1271/5376 [00:25<01:14, 55.38it/s]\u001b[A\n",
      " 24% 1277/5376 [00:25<01:15, 54.49it/s]\u001b[A\n",
      " 24% 1283/5376 [00:25<01:13, 55.40it/s]\u001b[A\n",
      " 24% 1289/5376 [00:25<01:13, 55.47it/s]\u001b[A\n",
      " 24% 1295/5376 [00:25<01:12, 55.99it/s]\u001b[A\n",
      " 24% 1301/5376 [00:25<01:13, 55.37it/s]\u001b[A\n",
      " 24% 1307/5376 [00:26<01:13, 55.53it/s]\u001b[A\n",
      " 24% 1313/5376 [00:26<01:13, 55.27it/s]\u001b[A\n",
      " 25% 1319/5376 [00:26<01:12, 55.98it/s]\u001b[A\n",
      " 25% 1325/5376 [00:26<01:13, 55.26it/s]\u001b[A\n",
      " 25% 1331/5376 [00:26<01:13, 55.23it/s]\u001b[A\n",
      " 25% 1337/5376 [00:26<01:12, 55.79it/s]\u001b[A\n",
      " 25% 1343/5376 [00:26<01:12, 55.85it/s]\u001b[A\n",
      " 25% 1349/5376 [00:27<02:27, 27.33it/s]\u001b[A\n",
      " 25% 1355/5376 [00:27<02:04, 32.41it/s]\u001b[A\n",
      " 25% 1361/5376 [00:27<01:47, 37.21it/s]\u001b[A\n",
      " 25% 1367/5376 [00:27<01:38, 40.90it/s]\u001b[A\n",
      " 26% 1373/5376 [00:27<01:29, 44.62it/s]\u001b[A\n",
      " 26% 1379/5376 [00:27<01:24, 47.47it/s]\u001b[A\n",
      " 26% 1385/5376 [00:27<01:19, 50.17it/s]\u001b[A\n",
      " 26% 1391/5376 [00:27<01:16, 52.11it/s]\u001b[A\n",
      " 26% 1397/5376 [00:28<01:15, 53.01it/s]\u001b[A\n",
      " 26% 1403/5376 [00:28<01:13, 54.35it/s]\u001b[A\n",
      " 26% 1409/5376 [00:28<01:13, 53.98it/s]\u001b[A\n",
      " 26% 1415/5376 [00:28<01:12, 54.85it/s]\u001b[A\n",
      " 26% 1421/5376 [00:28<01:11, 55.29it/s]\u001b[A\n",
      " 27% 1427/5376 [00:28<01:12, 54.45it/s]\u001b[A\n",
      " 27% 1433/5376 [00:28<01:11, 55.19it/s]\u001b[A\n",
      " 27% 1439/5376 [00:28<01:11, 55.33it/s]\u001b[A\n",
      " 27% 1445/5376 [00:28<01:11, 55.17it/s]\u001b[A\n",
      " 27% 1451/5376 [00:29<01:10, 55.42it/s]\u001b[A\n",
      " 27% 1457/5376 [00:29<01:10, 55.82it/s]\u001b[A\n",
      " 27% 1463/5376 [00:29<01:10, 55.65it/s]\u001b[A\n",
      " 27% 1469/5376 [00:29<01:09, 56.09it/s]\u001b[A\n",
      " 27% 1475/5376 [00:29<01:09, 55.85it/s]\u001b[A\n",
      " 28% 1481/5376 [00:29<01:10, 54.89it/s]\u001b[A\n",
      " 28% 1487/5376 [00:29<01:10, 54.83it/s]\u001b[A\n",
      " 28% 1493/5376 [00:29<01:09, 55.59it/s]\u001b[A\n",
      " 28% 1499/5376 [00:29<01:09, 55.55it/s]\u001b[A\n",
      " 28% 1505/5376 [00:29<01:09, 55.91it/s]\u001b[A\n",
      " 28% 1511/5376 [00:30<01:09, 55.91it/s]\u001b[A\n",
      " 28% 1517/5376 [00:30<01:08, 56.18it/s]\u001b[A\n",
      " 28% 1523/5376 [00:30<01:08, 56.13it/s]\u001b[A\n",
      " 28% 1529/5376 [00:30<01:08, 56.42it/s]\u001b[A\n",
      " 29% 1535/5376 [00:30<01:09, 55.59it/s]\u001b[A\n",
      " 29% 1541/5376 [00:30<01:10, 54.58it/s]\u001b[A\n",
      " 29% 1547/5376 [00:30<01:09, 55.28it/s]\u001b[A\n",
      " 29% 1553/5376 [00:30<01:09, 55.37it/s]\u001b[A\n",
      " 29% 1559/5376 [00:30<01:08, 55.84it/s]\u001b[A\n",
      " 29% 1565/5376 [00:31<01:07, 56.17it/s]\u001b[A\n",
      " 29% 1571/5376 [00:31<01:07, 55.99it/s]\u001b[A\n",
      " 29% 1577/5376 [00:31<01:07, 56.14it/s]\u001b[A\n",
      " 29% 1583/5376 [00:31<01:07, 56.44it/s]\u001b[A\n",
      " 30% 1589/5376 [00:31<01:07, 55.93it/s]\u001b[A\n",
      " 30% 1595/5376 [00:31<01:08, 55.53it/s]\u001b[A\n",
      " 30% 1601/5376 [00:31<01:08, 55.07it/s]\u001b[A\n",
      " 30% 1607/5376 [00:31<01:07, 55.77it/s]\u001b[A\n",
      " 30% 1613/5376 [00:31<01:08, 55.26it/s]\u001b[A\n",
      " 30% 1619/5376 [00:32<01:07, 56.06it/s]\u001b[A\n",
      " 30% 1625/5376 [00:32<01:06, 56.06it/s]\u001b[A\n",
      " 30% 1631/5376 [00:32<01:06, 55.94it/s]\u001b[A\n",
      " 30% 1637/5376 [00:32<01:06, 55.90it/s]\u001b[A\n",
      " 31% 1643/5376 [00:32<01:06, 56.33it/s]\u001b[A\n",
      " 31% 1649/5376 [00:32<01:06, 56.23it/s]\u001b[A\n",
      " 31% 1655/5376 [00:32<01:06, 55.60it/s]\u001b[A\n",
      " 31% 1661/5376 [00:32<01:06, 55.73it/s]\u001b[A\n",
      " 31% 1667/5376 [00:32<01:06, 56.14it/s]\u001b[A\n",
      " 31% 1673/5376 [00:32<01:06, 55.68it/s]\u001b[A\n",
      " 31% 1679/5376 [00:33<01:05, 56.29it/s]\u001b[A\n",
      " 31% 1685/5376 [00:33<02:28, 24.82it/s]\u001b[A\n",
      " 31% 1691/5376 [00:33<02:03, 29.91it/s]\u001b[A\n",
      " 32% 1697/5376 [00:33<01:45, 34.87it/s]\u001b[A\n",
      " 32% 1703/5376 [00:33<01:33, 39.26it/s]\u001b[A\n",
      " 32% 1709/5376 [00:34<01:24, 43.51it/s]\u001b[A\n",
      " 32% 1715/5376 [00:34<01:18, 46.42it/s]\u001b[A\n",
      " 32% 1721/5376 [00:34<01:15, 48.73it/s]\u001b[A\n",
      " 32% 1727/5376 [00:34<01:11, 50.99it/s]\u001b[A\n",
      " 32% 1733/5376 [00:34<01:09, 52.35it/s]\u001b[A\n",
      " 32% 1739/5376 [00:34<01:07, 53.61it/s]\u001b[A\n",
      " 32% 1745/5376 [00:34<01:07, 53.62it/s]\u001b[A\n",
      " 33% 1751/5376 [00:34<01:06, 54.83it/s]\u001b[A\n",
      " 33% 1757/5376 [00:34<01:05, 55.25it/s]\u001b[A\n",
      " 33% 1763/5376 [00:35<01:04, 55.79it/s]\u001b[A\n",
      " 33% 1769/5376 [00:35<01:04, 55.93it/s]\u001b[A\n",
      " 33% 1775/5376 [00:35<01:04, 56.14it/s]\u001b[A\n",
      " 33% 1781/5376 [00:35<01:06, 53.91it/s]\u001b[A\n",
      " 33% 1787/5376 [00:35<01:05, 54.75it/s]\u001b[A\n",
      " 33% 1793/5376 [00:35<01:04, 55.62it/s]\u001b[A\n",
      " 33% 1799/5376 [00:35<01:05, 54.85it/s]\u001b[A\n",
      " 34% 1805/5376 [00:35<01:04, 55.66it/s]\u001b[A\n",
      " 34% 1811/5376 [00:35<01:04, 55.54it/s]\u001b[A\n",
      " 34% 1817/5376 [00:36<01:03, 55.95it/s]\u001b[A\n",
      " 34% 1823/5376 [00:36<01:03, 55.73it/s]\u001b[A\n",
      " 34% 1829/5376 [00:36<01:03, 56.02it/s]\u001b[A\n",
      " 34% 1835/5376 [00:36<01:04, 55.20it/s]\u001b[A\n",
      " 34% 1841/5376 [00:36<01:03, 55.41it/s]\u001b[A\n",
      " 34% 1847/5376 [00:36<01:03, 55.72it/s]\u001b[A\n",
      " 34% 1853/5376 [00:36<01:02, 55.98it/s]\u001b[A\n",
      " 35% 1859/5376 [00:36<01:04, 54.85it/s]\u001b[A\n",
      " 35% 1865/5376 [00:36<01:03, 55.13it/s]\u001b[A\n",
      " 35% 1871/5376 [00:36<01:03, 55.52it/s]\u001b[A\n",
      " 35% 1877/5376 [00:37<01:02, 55.80it/s]\u001b[A\n",
      " 35% 1883/5376 [00:37<01:02, 55.88it/s]\u001b[A\n",
      " 35% 1889/5376 [00:37<01:03, 55.31it/s]\u001b[A\n",
      " 35% 1895/5376 [00:37<01:02, 55.78it/s]\u001b[A\n",
      " 35% 1901/5376 [00:37<01:02, 55.62it/s]\u001b[A\n",
      " 35% 1907/5376 [00:37<01:01, 56.20it/s]\u001b[A\n",
      " 36% 1913/5376 [00:37<01:02, 55.07it/s]\u001b[A\n",
      " 36% 1919/5376 [00:37<01:01, 55.79it/s]\u001b[A\n",
      " 36% 1925/5376 [00:37<01:02, 55.64it/s]\u001b[A\n",
      " 36% 1931/5376 [00:38<01:01, 56.02it/s]\u001b[A\n",
      " 36% 1937/5376 [00:38<01:01, 55.51it/s]\u001b[A\n",
      " 36% 1943/5376 [00:38<01:01, 55.57it/s]\u001b[A\n",
      " 36% 1949/5376 [00:38<01:01, 55.37it/s]\u001b[A\n",
      " 36% 1955/5376 [00:38<01:01, 55.96it/s]\u001b[A\n",
      " 36% 1961/5376 [00:38<01:01, 55.81it/s]\u001b[A\n",
      " 37% 1967/5376 [00:38<01:00, 56.37it/s]\u001b[A\n",
      " 37% 1973/5376 [00:38<01:02, 54.76it/s]\u001b[A\n",
      " 37% 1979/5376 [00:38<01:01, 55.59it/s]\u001b[A\n",
      "\n",
      "\n"
     ]
    }
   ],
   "source": [
    "!python3 create_dataset_shorter.py"
   ]
  },
  {
   "cell_type": "code",
   "execution_count": 39,
   "metadata": {
    "colab": {
     "base_uri": "https://localhost:8080/",
     "height": 34
    },
    "colab_type": "code",
    "id": "k6hlRJlOfvcC",
    "outputId": "bace12d7-060f-4707-e0ab-775fa56cb5ed"
   },
   "outputs": [
    {
     "name": "stdout",
     "output_type": "stream",
     "text": [
      "/content/gcn_air/examples\n"
     ]
    }
   ],
   "source": [
    "%cd examples"
   ]
  },
  {
   "cell_type": "markdown",
   "metadata": {
    "colab_type": "text",
    "id": "CzWUqnE486Oo"
   },
   "source": [
    "# TRAINING GCN"
   ]
  },
  {
   "cell_type": "code",
   "execution_count": 0,
   "metadata": {
    "colab": {},
    "colab_type": "code",
    "id": "_vOwQW8HjHkb"
   },
   "outputs": [],
   "source": [
    "import os.path as osp\n",
    "from m2nist_superpixels import M2NISTSuperpixels\n",
    "from torch_geometric.data import DataLoader\n",
    "\n",
    "import torch\n",
    "import torch.nn as nn\n",
    "import torch.nn.functional as F\n",
    "from torch_geometric.datasets import MNISTSuperpixels\n",
    "import torch_geometric.transforms as T\n",
    "from torch_geometric.data import DataLoader\n",
    "from torch_geometric.utils import normalized_cut\n",
    "from torch_geometric.nn import (NNConv, graclus, max_pool, max_pool_x,\n",
    "                                global_mean_pool)\n",
    "\n",
    "import matplotlib.pyplot as plt\n",
    "import numpy as np\n",
    "__file__ = osp.abspath('')\n"
   ]
  },
  {
   "cell_type": "code",
   "execution_count": 41,
   "metadata": {
    "colab": {
     "base_uri": "https://localhost:8080/",
     "height": 34
    },
    "colab_type": "code",
    "id": "jFNC5q-69HMc",
    "outputId": "26ca4cbd-156c-431c-f0c0-ce7d31c91a1d"
   },
   "outputs": [
    {
     "name": "stdout",
     "output_type": "stream",
     "text": [
      "/content/gcn_air/data/M2NIST\n"
     ]
    }
   ],
   "source": [
    "path = osp.join(osp.dirname(osp.realpath(__file__)), 'data', 'M2NIST')\n",
    "print(path)\n",
    "train_dataset = M2NISTSuperpixels(path, True, transform=T.Cartesian())\n",
    "test_dataset = M2NISTSuperpixels(path, False, transform=T.Cartesian()) \n",
    "train_loader = DataLoader(train_dataset, batch_size=64, shuffle=True)\n",
    "test_loader = DataLoader(test_dataset, batch_size=64, shuffle=False)\n",
    "d = train_dataset"
   ]
  },
  {
   "cell_type": "code",
   "execution_count": 42,
   "metadata": {
    "colab": {
     "base_uri": "https://localhost:8080/",
     "height": 34
    },
    "colab_type": "code",
    "id": "z1HQL-Ew9h2l",
    "outputId": "6ab4b1d0-e0ee-4d57-eecd-21eefffc7bf7"
   },
   "outputs": [
    {
     "name": "stdout",
     "output_type": "stream",
     "text": [
      "Data(edge_attr=[245, 2], edge_index=[2, 245], pos=[75, 2], x=[75, 1], y=[1])\n"
     ]
    }
   ],
   "source": [
    "print(d[0])\n"
   ]
  },
  {
   "cell_type": "code",
   "execution_count": 46,
   "metadata": {
    "colab": {
     "base_uri": "https://localhost:8080/",
     "height": 304
    },
    "colab_type": "code",
    "id": "5QRXZi-P9nTV",
    "outputId": "37808ed1-0b9f-4f76-e9fa-2858583bf65f"
   },
   "outputs": [
    {
     "name": "stdout",
     "output_type": "stream",
     "text": [
      "Data(edge_attr=[243, 2], edge_index=[2, 243], pos=[75, 2], x=[75, 1], y=[1])\n"
     ]
    },
    {
     "data": {
      "text/plain": [
       "[<matplotlib.lines.Line2D at 0x7fee36a917b8>]"
      ]
     },
     "execution_count": 46,
     "metadata": {
      "tags": []
     },
     "output_type": "execute_result"
    },
    {
     "data": {
      "image/png": "[encoded data removed]",
      "text/plain": [
       "<Figure size 432x288 with 1 Axes>"
      ]
     },
     "metadata": {
      "tags": []
     },
     "output_type": "display_data"
    }
   ],
   "source": [
    "sample=20\n",
    "print(d[sample])\n",
    "pos_x = d[sample].pos[:,0].numpy()\n",
    "pos_y = d[sample].pos[:,1].numpy()\n",
    "coo_matrix = d[sample].edge_index \n",
    "\n",
    "for i in range(d[sample].num_edges):\n",
    "    ii, jj = coo_matrix[0,i], coo_matrix[1,i]\n",
    "    plt.plot([pos_x[ii],pos_x[jj]],[pos_y[ii],pos_y[jj]],'k-',alpha=0.1)\n",
    "plt.plot(pos_x, pos_y, 'ro')"
   ]
  },
  {
   "cell_type": "code",
   "execution_count": 48,
   "metadata": {
    "colab": {
     "base_uri": "https://localhost:8080/",
     "height": 34
    },
    "colab_type": "code",
    "id": "pBteamNf9-k0",
    "outputId": "723c1dde-12f9-46d8-db0f-d802116303be"
   },
   "outputs": [
    {
     "data": {
      "text/plain": [
       "243"
      ]
     },
     "execution_count": 48,
     "metadata": {
      "tags": []
     },
     "output_type": "execute_result"
    }
   ],
   "source": [
    "d[sample].num_edges"
   ]
  },
  {
   "cell_type": "code",
   "execution_count": 0,
   "metadata": {
    "colab": {},
    "colab_type": "code",
    "id": "IhTkR_4D-L3a"
   },
   "outputs": [],
   "source": [
    "def normalized_cut_2d(edge_index, pos):\n",
    "    row, col = edge_index\n",
    "    edge_attr = torch.norm(pos[row] - pos[col], p=2, dim=1)\n",
    "    return normalized_cut(edge_index, edge_attr, num_nodes=pos.size(0))\n",
    "\n",
    "\n",
    "class Net(nn.Module):\n",
    "    def __init__(self):\n",
    "        super(Net, self).__init__()\n",
    "        nn1 = nn.Sequential(nn.Linear(2, 25), nn.ReLU(), nn.Linear(25, 32))\n",
    "        self.conv1 = NNConv(d.num_features, 32, nn1, aggr='mean')\n",
    "\n",
    "        nn2 = nn.Sequential(nn.Linear(2, 25), nn.ReLU(), nn.Linear(25, 2048))\n",
    "        self.conv2 = NNConv(32, 64, nn2, aggr='mean')\n",
    "\n",
    "        self.fc1 = torch.nn.Linear(64, 128)\n",
    "        self.fc2 = torch.nn.Linear(128, d.num_classes)\n",
    "\n",
    "    def forward(self, data):\n",
    "        data.x = F.elu(self.conv1(data.x, data.edge_index, data.edge_attr))\n",
    "        weight = normalized_cut_2d(data.edge_index, data.pos)\n",
    "        cluster = graclus(data.edge_index, weight, data.x.size(0))\n",
    "        data = max_pool(cluster, data, transform=T.Cartesian(cat=False))\n",
    "\n",
    "        data.x = F.elu(self.conv2(data.x, data.edge_index, data.edge_attr))\n",
    "        weight = normalized_cut_2d(data.edge_index, data.pos)\n",
    "        cluster = graclus(data.edge_index, weight, data.x.size(0))\n",
    "        x, batch = max_pool_x(cluster, data.x, data.batch)\n",
    "\n",
    "        x = global_mean_pool(x, batch)\n",
    "        x = F.elu(self.fc1(x))\n",
    "        x = F.dropout(x, training=self.training)\n",
    "        return F.log_softmax(self.fc2(x), dim=1)"
   ]
  },
  {
   "cell_type": "code",
   "execution_count": 0,
   "metadata": {
    "colab": {},
    "colab_type": "code",
    "id": "pi6A98Zq-RzC"
   },
   "outputs": [],
   "source": [
    "## NETWORK instances\n",
    "device = torch.device('cuda' if torch.cuda.is_available() else 'cpu')\n",
    "model = Net().to(device)\n",
    "optimizer = torch.optim.Adam(model.parameters(), lr=0.01)"
   ]
  },
  {
   "cell_type": "code",
   "execution_count": 0,
   "metadata": {
    "colab": {},
    "colab_type": "code",
    "id": "mg3_Bb8y-VTK"
   },
   "outputs": [],
   "source": [
    "## Training and testing...\n",
    "def train(epoch):\n",
    "    model.train()\n",
    "\n",
    "    if epoch == 16:\n",
    "        for param_group in optimizer.param_groups:\n",
    "            param_group['lr'] = 0.001\n",
    "\n",
    "    if epoch == 26:\n",
    "        for param_group in optimizer.param_groups:\n",
    "            param_group['lr'] = 0.0001\n",
    "\n",
    "    for data in train_loader:\n",
    "        data = data.to(device)\n",
    "        optimizer.zero_grad()\n",
    "        F.nll_loss(model(data), data.y).backward()\n",
    "        optimizer.step()\n",
    "\n",
    "\n",
    "def test():\n",
    "    model.eval()\n",
    "    correct = 0\n",
    "\n",
    "    for data in test_loader:\n",
    "        data = data.to(device)\n",
    "        pred = model(data).max(1)[1]\n",
    "        correct += pred.eq(data.y).sum().item()\n",
    "    return correct / len(test_dataset)"
   ]
  },
  {
   "cell_type": "code",
   "execution_count": 52,
   "metadata": {
    "colab": {
     "base_uri": "https://localhost:8080/",
     "height": 538
    },
    "colab_type": "code",
    "id": "Z3NMDzCS-YUj",
    "outputId": "c701ca3d-2153-4ba5-b297-85fa3fd71584"
   },
   "outputs": [
    {
     "name": "stdout",
     "output_type": "stream",
     "text": [
      "Epoch: 01, Test: 0.9530\n",
      "Epoch: 02, Test: 0.9475\n",
      "Epoch: 03, Test: 0.9539\n",
      "Epoch: 04, Test: 0.9554\n",
      "Epoch: 05, Test: 0.9541\n",
      "Epoch: 06, Test: 0.9563\n",
      "Epoch: 07, Test: 0.9531\n",
      "Epoch: 08, Test: 0.9511\n",
      "Epoch: 09, Test: 0.9473\n",
      "Epoch: 10, Test: 0.9556\n",
      "Epoch: 11, Test: 0.9467\n",
      "Epoch: 12, Test: 0.9560\n",
      "Epoch: 13, Test: 0.9462\n",
      "Epoch: 14, Test: 0.9558\n",
      "Epoch: 15, Test: 0.9551\n",
      "Epoch: 16, Test: 0.9600\n",
      "Epoch: 17, Test: 0.9610\n",
      "Epoch: 18, Test: 0.9587\n",
      "Epoch: 19, Test: 0.9611\n",
      "Epoch: 20, Test: 0.9614\n",
      "Epoch: 21, Test: 0.9605\n",
      "Epoch: 22, Test: 0.9617\n",
      "Epoch: 23, Test: 0.9573\n",
      "Epoch: 24, Test: 0.9617\n",
      "Epoch: 25, Test: 0.9615\n",
      "Epoch: 26, Test: 0.9610\n",
      "Epoch: 27, Test: 0.9616\n",
      "Epoch: 28, Test: 0.9607\n",
      "Epoch: 29, Test: 0.9615\n",
      "Epoch: 30, Test: 0.9615\n"
     ]
    }
   ],
   "source": [
    "# training\n",
    "for epoch in range(1, 31):\n",
    "    train(epoch)\n",
    "    test_acc = test()\n",
    "    print('Epoch: {:02d}, Test: {:.4f}'.format(epoch, test_acc))"
   ]
  },
  {
   "cell_type": "code",
   "execution_count": 0,
   "metadata": {
    "colab": {},
    "colab_type": "code",
    "id": "u_jAdCPY-c-6"
   },
   "outputs": [],
   "source": [
    "torch.save(model.state_dict(), path+'/overfit.pth')"
   ]
  },
  {
   "cell_type": "code",
   "execution_count": 0,
   "metadata": {
    "colab": {},
    "colab_type": "code",
    "id": "H4H9VncE-gWc"
   },
   "outputs": [],
   "source": [
    "device = torch.device('cuda' if torch.cuda.is_available() else 'cpu')\n",
    "model = Net()\n",
    "model.load_state_dict(torch.load(path+'/overfit.pth'))\n",
    "model.to(device)\n",
    "model.eval()\n",
    "validation_loader = DataLoader(test_dataset, batch_size=64*84, shuffle=False)\n"
   ]
  },
  {
   "cell_type": "code",
   "execution_count": 56,
   "metadata": {
    "colab": {
     "base_uri": "https://localhost:8080/",
     "height": 2657
    },
    "colab_type": "code",
    "id": "J7aB4lc4-lTA",
    "outputId": "e2857a70-daf3-45b2-a564-82507f850316"
   },
   "outputs": [
    {
     "data": {
      "image/png": "[encoded data removed]",
      "text/plain": [
       "<Figure size 432x288 with 1 Axes>"
      ]
     },
     "metadata": {
      "tags": []
     },
     "output_type": "display_data"
    },
    {
     "data": {
      "image/png": "[encoded data removed]",
      "text/plain": [
       "<Figure size 432x288 with 1 Axes>"
      ]
     },
     "metadata": {
      "tags": []
     },
     "output_type": "display_data"
    },
    {
     "data": {
      "image/png": "[encoded data removed]",
      "text/plain": [
       "<Figure size 432x288 with 1 Axes>"
      ]
     },
     "metadata": {
      "tags": []
     },
     "output_type": "display_data"
    },
    {
     "data": {
      "image/png": "[encoded data removed]",
      "text/plain": [
       "<Figure size 432x288 with 1 Axes>"
      ]
     },
     "metadata": {
      "tags": []
     },
     "output_type": "display_data"
    },
    {
     "data": {
      "image/png": "[encoded data removed]",
      "text/plain": [
       "<Figure size 432x288 with 1 Axes>"
      ]
     },
     "metadata": {
      "tags": []
     },
     "output_type": "display_data"
    },
    {
     "data": {
      "image/png": "[encoded data removed]",
      "text/plain": [
       "<Figure size 432x288 with 1 Axes>"
      ]
     },
     "metadata": {
      "tags": []
     },
     "output_type": "display_data"
    },
    {
     "data": {
      "image/png": "[encoded data removed]",
      "text/plain": [
       "<Figure size 432x288 with 1 Axes>"
      ]
     },
     "metadata": {
      "tags": []
     },
     "output_type": "display_data"
    },
    {
     "data": {
      "image/png": "[encoded data removed]",
      "text/plain": [
       "<Figure size 432x288 with 1 Axes>"
      ]
     },
     "metadata": {
      "tags": []
     },
     "output_type": "display_data"
    },
    {
     "data": {
      "image/png": "[encoded data removed]",
      "text/plain": [
       "<Figure size 432x288 with 1 Axes>"
      ]
     },
     "metadata": {
      "tags": []
     },
     "output_type": "display_data"
    },
    {
     "data": {
      "image/png": "[encoded data removed]",
      "text/plain": [
       "<Figure size 432x288 with 1 Axes>"
      ]
     },
     "metadata": {
      "tags": []
     },
     "output_type": "display_data"
    }
   ],
   "source": [
    "for data in validation_loader:\n",
    "    data = data.to(device)\n",
    "    pred = model(data).max(1)[1]\n",
    "    image_pred = pred.cpu().numpy().reshape(64,84)\n",
    "    image_real = data.y.cpu().numpy().reshape(64,84)\n",
    "    plt.figure()\n",
    "    plt.imshow(image_pred)\n",
    "    plt.title('pred mask')\n",
    "    plt.figure()\n",
    "    plt.imshow(image_real)\n",
    "    plt.title('true mask')"
   ]
  },
  {
   "cell_type": "code",
   "execution_count": 0,
   "metadata": {
    "colab": {},
    "colab_type": "code",
    "id": "bpDS8ZLvEd17"
   },
   "outputs": [],
   "source": []
  }
 ],
 "metadata": {
  "accelerator": "GPU",
  "colab": {
   "collapsed_sections": [],
   "name": "running_my_code.ipynb",
   "provenance": [],
   "version": "0.3.2"
  },
  "kernelspec": {
   "display_name": "Python 3",
   "language": "python",
   "name": "python3"
  },
  "language_info": {
   "codemirror_mode": {
    "name": "ipython",
    "version": 3
   },
   "file_extension": ".py",
   "mimetype": "text/x-python",
   "name": "python",
   "nbconvert_exporter": "python",
   "pygments_lexer": "ipython3",
   "version": "3.7.3"
  }
 },
 "nbformat": 4,
 "nbformat_minor": 1
}
